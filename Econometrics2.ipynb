{
 "cells": [
  {
   "cell_type": "code",
   "execution_count": 1,
   "metadata": {
    "vscode": {
     "languageId": "r"
    }
   },
   "outputs": [
    {
     "name": "stderr",
     "output_type": "stream",
     "text": [
      "Warning message:\n",
      "\"package 'urca' was built under R version 4.3.1\"\n",
      "Warning message:\n",
      "\"package 'Hmisc' was built under R version 4.3.1\"\n"
     ]
    },
    {
     "name": "stderr",
     "output_type": "stream",
     "text": [
      "\n",
      "Attaching package: 'Hmisc'\n",
      "\n",
      "\n",
      "The following objects are masked from 'package:base':\n",
      "\n",
      "    format.pval, units\n",
      "\n",
      "\n",
      "\n",
      "Attaching package: 'zoo'\n",
      "\n",
      "\n",
      "The following objects are masked from 'package:base':\n",
      "\n",
      "    as.Date, as.Date.numeric\n",
      "\n",
      "\n",
      "Warning message:\n",
      "\"package 'tseries' was built under R version 4.3.1\"\n",
      "Registered S3 method overwritten by 'quantmod':\n",
      "  method            from\n",
      "  as.zoo.data.frame zoo \n",
      "\n",
      "Warning message:\n",
      "\"package 'forecast' was built under R version 4.3.1\"\n",
      "\n",
      "Attaching package: 'forecast'\n",
      "\n",
      "\n",
      "The following object is masked from 'package:Metrics':\n",
      "\n",
      "    accuracy\n",
      "\n",
      "\n",
      "Warning message:\n",
      "\"package 'fpp2' was built under R version 4.3.1\"\n",
      "── \u001b[1mAttaching packages\u001b[22m ────────────────────────────────────────────── fpp2 2.5 ──\n",
      "\n",
      "\u001b[32m✔\u001b[39m \u001b[34mggplot2  \u001b[39m 3.4.2     \u001b[32m✔\u001b[39m \u001b[34mexpsmooth\u001b[39m 2.3  \n",
      "\u001b[32m✔\u001b[39m \u001b[34mfma      \u001b[39m 2.5       \n",
      "\n",
      "Warning message:\n",
      "\"package 'fma' was built under R version 4.3.1\"\n",
      "Warning message:\n",
      "\"package 'expsmooth' was built under R version 4.3.1\"\n",
      "── \u001b[1mConflicts\u001b[22m ───────────────────────────────────────────────── fpp2_conflicts ──\n",
      "\u001b[31m✖\u001b[39m \u001b[34mforecast\u001b[39m::\u001b[32maccuracy()\u001b[39m masks \u001b[34mMetrics\u001b[39m::accuracy()\n",
      "\n",
      "\n",
      "Attaching package: 'astsa'\n",
      "\n",
      "\n",
      "The following objects are masked from 'package:fma':\n",
      "\n",
      "    chicken, sales\n",
      "\n",
      "\n",
      "The following object is masked from 'package:fpp2':\n",
      "\n",
      "    oil\n",
      "\n",
      "\n",
      "The following object is masked from 'package:forecast':\n",
      "\n",
      "    gas\n",
      "\n",
      "\n",
      "Warning message:\n",
      "\"package 'dynlm' was built under R version 4.3.1\"\n",
      "Warning message:\n",
      "\"package 'FinTS' was built under R version 4.3.1\"\n",
      "\n",
      "Attaching package: 'FinTS'\n",
      "\n",
      "\n",
      "The following object is masked from 'package:forecast':\n",
      "\n",
      "    Acf\n",
      "\n",
      "\n"
     ]
    }
   ],
   "source": [
    "library('urca')\n",
    "library(\"Hmisc\")\n",
    "library('Metrics')\n",
    "library('zoo')\n",
    "library('tseries')\n",
    "library('forecast')\n",
    "library('fpp2')\n",
    "library('astsa')\n",
    "library('dynlm')\n",
    "library('FinTS')"
   ]
  },
  {
   "cell_type": "code",
   "execution_count": 2,
   "metadata": {
    "vscode": {
     "languageId": "r"
    }
   },
   "outputs": [],
   "source": [
    "options(scipen = 999)"
   ]
  },
  {
   "cell_type": "code",
   "execution_count": 3,
   "metadata": {
    "vscode": {
     "languageId": "r"
    }
   },
   "outputs": [],
   "source": [
    "interp_urdf <- function(urdf, level=\"5pct\") {\n",
    "  if(class(urdf) != \"ur.df\") stop('parameter is not of class ur.df from urca package')\n",
    "  if(!(level %in% c(\"1pct\", \"5pct\", \"10pct\") ) ) stop('parameter level is not one of 1pct, 5pct, or 10pct')\n",
    "\n",
    "  cat(\"========================================================================\\n\")\n",
    "  cat( paste(\"At the\", level, \"level:\\n\") )\n",
    "  if(urdf@model == \"none\") {\n",
    "    cat(\"The model is of type none\\n\")\n",
    "    tau1_crit = urdf@cval[\"tau1\",level]\n",
    "    tau1_teststat = urdf@teststat[\"statistic\",\"tau1\"]\n",
    "    tau1_teststat_wi_crit = tau1_teststat > tau1_crit\n",
    "    if(tau1_teststat_wi_crit) {\n",
    "      cat(\"tau1: The null hypothesis is not rejected, unit root is present\\n\")\n",
    "    } else {\n",
    "      cat(\"tau1: The null hypothesis is rejected, unit root is not present\\n\")\n",
    "    }\n",
    "  } else if(urdf@model == \"drift\") {\n",
    "    cat(\"The model is of type drift\\n\")\n",
    "    tau2_crit = urdf@cval[\"tau2\",level]\n",
    "    tau2_teststat = urdf@teststat[\"statistic\",\"tau2\"]\n",
    "    tau2_teststat_wi_crit = tau2_teststat > tau2_crit\n",
    "    phi1_crit = urdf@cval[\"phi1\",level]\n",
    "    phi1_teststat = urdf@teststat[\"statistic\",\"phi1\"]\n",
    "    phi1_teststat_wi_crit = phi1_teststat < phi1_crit\n",
    "    if(tau2_teststat_wi_crit) {\n",
    "      # Unit root present branch\n",
    "      cat(\"tau2: The first null hypothesis is not rejected, unit root is present\\n\")\n",
    "      if(phi1_teststat_wi_crit) {\n",
    "        cat(\"phi1: The second null hypothesis is not rejected, unit root is present\\n\")\n",
    "        cat(\"      and there is no drift.\\n\")\n",
    "      } else {\n",
    "        cat(\"phi1: The second null hypothesis is rejected, unit root is present\\n\")\n",
    "        cat(\"      and there is drift.\\n\")\n",
    "      }\n",
    "    } else {\n",
    "      # Unit root not present branch\n",
    "      cat(\"tau2: The first null hypothesis is rejected, unit root is not present\\n\")\n",
    "      if(phi1_teststat_wi_crit) {\n",
    "        cat(\"phi1: The second null hypothesis is not rejected, unit root is present\\n\")\n",
    "        cat(\"      and there is no drift.\\n\")\n",
    "        warning(\"This is inconsistent with the first null hypothesis.\")\n",
    "      } else {\n",
    "        cat(\"phi1: The second null hypothesis is rejected, unit root is not present\\n\")\n",
    "        cat(\"      and there is drift.\\n\")\n",
    "      }\n",
    "    }\n",
    "  } else if(urdf@model == \"trend\") {\n",
    "    cat(\"The model is of type trend\\n\")\n",
    "    tau3_crit = urdf@cval[\"tau3\",level]\n",
    "    tau3_teststat = urdf@teststat[\"statistic\",\"tau3\"]\n",
    "    tau3_teststat_wi_crit = tau3_teststat > tau3_crit\n",
    "    phi2_crit = urdf@cval[\"phi2\",level]\n",
    "    phi2_teststat = urdf@teststat[\"statistic\",\"phi2\"]\n",
    "    phi2_teststat_wi_crit = phi2_teststat < phi2_crit\n",
    "    phi3_crit = urdf@cval[\"phi3\",level]\n",
    "    phi3_teststat = urdf@teststat[\"statistic\",\"phi3\"]\n",
    "    phi3_teststat_wi_crit = phi3_teststat < phi3_crit\n",
    "    if(tau3_teststat_wi_crit) {\n",
    "      # First null hypothesis is not rejected, Unit root present branch\n",
    "      cat(\"tau3: The first null hypothesis is not rejected, unit root is present\\n\")\n",
    "      if(phi3_teststat_wi_crit) {\n",
    "        # Second null hypothesis is not rejected\n",
    "        cat(\"phi3: The second null hypothesis is not rejected, unit root is present\\n\")\n",
    "        cat(\"      and there is no trend\\n\")\n",
    "        if(phi2_teststat_wi_crit) {\n",
    "          # Third null hypothesis is not rejected\n",
    "          # a0-drift = gamma = a2-trend = 0\n",
    "          cat(\"phi2: The third null hypothesis is not rejected, unit root is present\\n\")\n",
    "          cat(\"      there is no trend, and there is no drift\\n\")\n",
    "        } else {\n",
    "          # Third null hypothesis is rejected\n",
    "          cat(\"phi2: The third null hypothesis is rejected, unit root is present\\n\")\n",
    "          cat(\"      there is no trend, and there is drift\\n\")\n",
    "        }\n",
    "      }\n",
    "      else {\n",
    "        # Second null hypothesis is rejected\n",
    "        cat(\"phi3: The second null hypothesis is rejected, unit root is present\\n\")\n",
    "        cat(\"      and there is trend\\n\")\n",
    "        if(phi2_teststat_wi_crit) {\n",
    "          # Third null hypothesis is not rejected\n",
    "          # a0-drift = gamma = a2-trend = 0\n",
    "          cat(\"phi2: The third null hypothesis is not rejected, unit root is present\\n\")\n",
    "          cat(\"      there is no trend, and there is no drift\\n\")\n",
    "          warning(\"This is inconsistent with the second null hypothesis.\")\n",
    "        } else {\n",
    "          # Third null hypothesis is rejected\n",
    "          cat(\"phi2: The third null hypothesis is rejected, unit root is present\\n\")\n",
    "          cat(\"      there is trend, and there may or may not be drift\\n\")\n",
    "          warning(\"Presence of drift is inconclusive.\")\n",
    "        }\n",
    "      }\n",
    "    } else {\n",
    "      # First null hypothesis is rejected, Unit root not present branch\n",
    "      cat(\"tau3: The first null hypothesis is rejected, unit root is not present\\n\")\n",
    "      if(phi3_teststat_wi_crit) {\n",
    "        cat(\"phi3: The second null hypothesis is not rejected, unit root is present\\n\")\n",
    "        cat(\"      and there is no trend\\n\")\n",
    "        warning(\"This is inconsistent with the first null hypothesis.\")\n",
    "        if(phi2_teststat_wi_crit) {\n",
    "          # Third null hypothesis is not rejected\n",
    "          # a0-drift = gamma = a2-trend = 0\n",
    "          cat(\"phi2: The third null hypothesis is not rejected, unit root is present\\n\")\n",
    "          cat(\"      there is no trend, and there is no drift\\n\")\n",
    "          warning(\"This is inconsistent with the first null hypothesis.\")\n",
    "        } else {\n",
    "          # Third null hypothesis is rejected\n",
    "          cat(\"phi2: The third null hypothesis is rejected, unit root is not present\\n\")\n",
    "          cat(\"      there is no trend, and there is drift\\n\")\n",
    "        }\n",
    "      } else {\n",
    "        cat(\"phi3: The second null hypothesis is rejected, unit root is not present\\n\")\n",
    "        cat(\"      and there may or may not be trend\\n\")\n",
    "        warning(\"Presence of trend is inconclusive.\")\n",
    "        if(phi2_teststat_wi_crit) {\n",
    "          # Third null hypothesis is not rejected\n",
    "          # a0-drift = gamma = a2-trend = 0\n",
    "          cat(\"phi2: The third null hypothesis is not rejected, unit root is present\\n\")\n",
    "          cat(\"      there is no trend, and there is no drift\\n\")\n",
    "          warning(\"This is inconsistent with the first and second null hypothesis.\")\n",
    "        } else {\n",
    "          # Third null hypothesis is rejected\n",
    "          cat(\"phi2: The third null hypothesis is rejected, unit root is not present\\n\")\n",
    "          cat(\"      there may or may not be trend, and there may or may not be drift\\n\")\n",
    "          warning(\"Presence of trend and drift is inconclusive.\")\n",
    "        }\n",
    "      }\n",
    "    }\n",
    "  } else warning('urdf model type is not one of none, drift, or trend')\n",
    "  cat(\"========================================================================\\n\")\n",
    "}"
   ]
  },
  {
   "cell_type": "code",
   "execution_count": 4,
   "metadata": {
    "vscode": {
     "languageId": "r"
    }
   },
   "outputs": [],
   "source": [
    "POW <- read.csv('C:/Users/Thinkpad/Downloads/Dữ liệu Lịch sử POW.csv')"
   ]
  },
  {
   "cell_type": "code",
   "execution_count": 5,
   "metadata": {
    "vscode": {
     "languageId": "r"
    }
   },
   "outputs": [
    {
     "data": {
      "text/html": [
       "<table class=\"dataframe\">\n",
       "<caption>A data.frame: 391 × 2</caption>\n",
       "<thead>\n",
       "\t<tr><th scope=col>Date</th><th scope=col>Closing</th></tr>\n",
       "\t<tr><th scope=col>&lt;chr&gt;</th><th scope=col>&lt;int&gt;</th></tr>\n",
       "</thead>\n",
       "<tbody>\n",
       "\t<tr><td>04/01/2022</td><td>18700</td></tr>\n",
       "\t<tr><td>05/01/2022</td><td>19000</td></tr>\n",
       "\t<tr><td>06/01/2022</td><td>19250</td></tr>\n",
       "\t<tr><td>07/01/2022</td><td>20150</td></tr>\n",
       "\t<tr><td>10/01/2022</td><td>18750</td></tr>\n",
       "\t<tr><td>11/01/2022</td><td>18650</td></tr>\n",
       "\t<tr><td>12/01/2022</td><td>18150</td></tr>\n",
       "\t<tr><td>13/01/2022</td><td>16900</td></tr>\n",
       "\t<tr><td>14/01/2022</td><td>17700</td></tr>\n",
       "\t<tr><td>17/01/2022</td><td>16500</td></tr>\n",
       "\t<tr><td>18/01/2022</td><td>15400</td></tr>\n",
       "\t<tr><td>19/01/2022</td><td>16050</td></tr>\n",
       "\t<tr><td>20/01/2022</td><td>17000</td></tr>\n",
       "\t<tr><td>21/01/2022</td><td>16650</td></tr>\n",
       "\t<tr><td>24/01/2022</td><td>15500</td></tr>\n",
       "\t<tr><td>25/01/2022</td><td>16550</td></tr>\n",
       "\t<tr><td>26/01/2022</td><td>16300</td></tr>\n",
       "\t<tr><td>27/01/2022</td><td>16400</td></tr>\n",
       "\t<tr><td>28/01/2022</td><td>16800</td></tr>\n",
       "\t<tr><td>07/02/2022</td><td>17850</td></tr>\n",
       "\t<tr><td>08/02/2022</td><td>17900</td></tr>\n",
       "\t<tr><td>09/02/2022</td><td>17800</td></tr>\n",
       "\t<tr><td>10/02/2022</td><td>18550</td></tr>\n",
       "\t<tr><td>11/02/2022</td><td>18300</td></tr>\n",
       "\t<tr><td>14/02/2022</td><td>17700</td></tr>\n",
       "\t<tr><td>15/02/2022</td><td>18100</td></tr>\n",
       "\t<tr><td>16/02/2022</td><td>18200</td></tr>\n",
       "\t<tr><td>17/02/2022</td><td>18600</td></tr>\n",
       "\t<tr><td>18/02/2022</td><td>18550</td></tr>\n",
       "\t<tr><td>21/02/2022</td><td>18400</td></tr>\n",
       "\t<tr><td>⋮</td><td>⋮</td></tr>\n",
       "\t<tr><td>20/06/2023</td><td>13600</td></tr>\n",
       "\t<tr><td>21/06/2023</td><td>13650</td></tr>\n",
       "\t<tr><td>22/06/2023</td><td>13750</td></tr>\n",
       "\t<tr><td>23/06/2023</td><td>13700</td></tr>\n",
       "\t<tr><td>26/06/2023</td><td>13650</td></tr>\n",
       "\t<tr><td>27/06/2023</td><td>13600</td></tr>\n",
       "\t<tr><td>28/06/2023</td><td>13800</td></tr>\n",
       "\t<tr><td>29/06/2023</td><td>13550</td></tr>\n",
       "\t<tr><td>30/06/2023</td><td>13400</td></tr>\n",
       "\t<tr><td>03/07/2023</td><td>13300</td></tr>\n",
       "\t<tr><td>04/07/2023</td><td>13400</td></tr>\n",
       "\t<tr><td>05/07/2023</td><td>13500</td></tr>\n",
       "\t<tr><td>06/07/2023</td><td>13250</td></tr>\n",
       "\t<tr><td>07/07/2023</td><td>13100</td></tr>\n",
       "\t<tr><td>10/07/2023</td><td>13200</td></tr>\n",
       "\t<tr><td>11/07/2023</td><td>13250</td></tr>\n",
       "\t<tr><td>12/07/2023</td><td>13250</td></tr>\n",
       "\t<tr><td>13/07/2023</td><td>13350</td></tr>\n",
       "\t<tr><td>14/07/2023</td><td>13300</td></tr>\n",
       "\t<tr><td>17/07/2023</td><td>13350</td></tr>\n",
       "\t<tr><td>18/07/2023</td><td>13500</td></tr>\n",
       "\t<tr><td>19/07/2023</td><td>13300</td></tr>\n",
       "\t<tr><td>20/07/2023</td><td>13300</td></tr>\n",
       "\t<tr><td>21/07/2023</td><td>13250</td></tr>\n",
       "\t<tr><td>24/07/2023</td><td>13300</td></tr>\n",
       "\t<tr><td>25/07/2023</td><td>13250</td></tr>\n",
       "\t<tr><td>26/07/2023</td><td>13550</td></tr>\n",
       "\t<tr><td>27/07/2023</td><td>13300</td></tr>\n",
       "\t<tr><td>28/07/2023</td><td>13550</td></tr>\n",
       "\t<tr><td>31/07/2023</td><td>13700</td></tr>\n",
       "</tbody>\n",
       "</table>\n"
      ],
      "text/latex": [
       "A data.frame: 391 × 2\n",
       "\\begin{tabular}{ll}\n",
       " Date & Closing\\\\\n",
       " <chr> & <int>\\\\\n",
       "\\hline\n",
       "\t 04/01/2022 & 18700\\\\\n",
       "\t 05/01/2022 & 19000\\\\\n",
       "\t 06/01/2022 & 19250\\\\\n",
       "\t 07/01/2022 & 20150\\\\\n",
       "\t 10/01/2022 & 18750\\\\\n",
       "\t 11/01/2022 & 18650\\\\\n",
       "\t 12/01/2022 & 18150\\\\\n",
       "\t 13/01/2022 & 16900\\\\\n",
       "\t 14/01/2022 & 17700\\\\\n",
       "\t 17/01/2022 & 16500\\\\\n",
       "\t 18/01/2022 & 15400\\\\\n",
       "\t 19/01/2022 & 16050\\\\\n",
       "\t 20/01/2022 & 17000\\\\\n",
       "\t 21/01/2022 & 16650\\\\\n",
       "\t 24/01/2022 & 15500\\\\\n",
       "\t 25/01/2022 & 16550\\\\\n",
       "\t 26/01/2022 & 16300\\\\\n",
       "\t 27/01/2022 & 16400\\\\\n",
       "\t 28/01/2022 & 16800\\\\\n",
       "\t 07/02/2022 & 17850\\\\\n",
       "\t 08/02/2022 & 17900\\\\\n",
       "\t 09/02/2022 & 17800\\\\\n",
       "\t 10/02/2022 & 18550\\\\\n",
       "\t 11/02/2022 & 18300\\\\\n",
       "\t 14/02/2022 & 17700\\\\\n",
       "\t 15/02/2022 & 18100\\\\\n",
       "\t 16/02/2022 & 18200\\\\\n",
       "\t 17/02/2022 & 18600\\\\\n",
       "\t 18/02/2022 & 18550\\\\\n",
       "\t 21/02/2022 & 18400\\\\\n",
       "\t ⋮ & ⋮\\\\\n",
       "\t 20/06/2023 & 13600\\\\\n",
       "\t 21/06/2023 & 13650\\\\\n",
       "\t 22/06/2023 & 13750\\\\\n",
       "\t 23/06/2023 & 13700\\\\\n",
       "\t 26/06/2023 & 13650\\\\\n",
       "\t 27/06/2023 & 13600\\\\\n",
       "\t 28/06/2023 & 13800\\\\\n",
       "\t 29/06/2023 & 13550\\\\\n",
       "\t 30/06/2023 & 13400\\\\\n",
       "\t 03/07/2023 & 13300\\\\\n",
       "\t 04/07/2023 & 13400\\\\\n",
       "\t 05/07/2023 & 13500\\\\\n",
       "\t 06/07/2023 & 13250\\\\\n",
       "\t 07/07/2023 & 13100\\\\\n",
       "\t 10/07/2023 & 13200\\\\\n",
       "\t 11/07/2023 & 13250\\\\\n",
       "\t 12/07/2023 & 13250\\\\\n",
       "\t 13/07/2023 & 13350\\\\\n",
       "\t 14/07/2023 & 13300\\\\\n",
       "\t 17/07/2023 & 13350\\\\\n",
       "\t 18/07/2023 & 13500\\\\\n",
       "\t 19/07/2023 & 13300\\\\\n",
       "\t 20/07/2023 & 13300\\\\\n",
       "\t 21/07/2023 & 13250\\\\\n",
       "\t 24/07/2023 & 13300\\\\\n",
       "\t 25/07/2023 & 13250\\\\\n",
       "\t 26/07/2023 & 13550\\\\\n",
       "\t 27/07/2023 & 13300\\\\\n",
       "\t 28/07/2023 & 13550\\\\\n",
       "\t 31/07/2023 & 13700\\\\\n",
       "\\end{tabular}\n"
      ],
      "text/markdown": [
       "\n",
       "A data.frame: 391 × 2\n",
       "\n",
       "| Date &lt;chr&gt; | Closing &lt;int&gt; |\n",
       "|---|---|\n",
       "| 04/01/2022 | 18700 |\n",
       "| 05/01/2022 | 19000 |\n",
       "| 06/01/2022 | 19250 |\n",
       "| 07/01/2022 | 20150 |\n",
       "| 10/01/2022 | 18750 |\n",
       "| 11/01/2022 | 18650 |\n",
       "| 12/01/2022 | 18150 |\n",
       "| 13/01/2022 | 16900 |\n",
       "| 14/01/2022 | 17700 |\n",
       "| 17/01/2022 | 16500 |\n",
       "| 18/01/2022 | 15400 |\n",
       "| 19/01/2022 | 16050 |\n",
       "| 20/01/2022 | 17000 |\n",
       "| 21/01/2022 | 16650 |\n",
       "| 24/01/2022 | 15500 |\n",
       "| 25/01/2022 | 16550 |\n",
       "| 26/01/2022 | 16300 |\n",
       "| 27/01/2022 | 16400 |\n",
       "| 28/01/2022 | 16800 |\n",
       "| 07/02/2022 | 17850 |\n",
       "| 08/02/2022 | 17900 |\n",
       "| 09/02/2022 | 17800 |\n",
       "| 10/02/2022 | 18550 |\n",
       "| 11/02/2022 | 18300 |\n",
       "| 14/02/2022 | 17700 |\n",
       "| 15/02/2022 | 18100 |\n",
       "| 16/02/2022 | 18200 |\n",
       "| 17/02/2022 | 18600 |\n",
       "| 18/02/2022 | 18550 |\n",
       "| 21/02/2022 | 18400 |\n",
       "| ⋮ | ⋮ |\n",
       "| 20/06/2023 | 13600 |\n",
       "| 21/06/2023 | 13650 |\n",
       "| 22/06/2023 | 13750 |\n",
       "| 23/06/2023 | 13700 |\n",
       "| 26/06/2023 | 13650 |\n",
       "| 27/06/2023 | 13600 |\n",
       "| 28/06/2023 | 13800 |\n",
       "| 29/06/2023 | 13550 |\n",
       "| 30/06/2023 | 13400 |\n",
       "| 03/07/2023 | 13300 |\n",
       "| 04/07/2023 | 13400 |\n",
       "| 05/07/2023 | 13500 |\n",
       "| 06/07/2023 | 13250 |\n",
       "| 07/07/2023 | 13100 |\n",
       "| 10/07/2023 | 13200 |\n",
       "| 11/07/2023 | 13250 |\n",
       "| 12/07/2023 | 13250 |\n",
       "| 13/07/2023 | 13350 |\n",
       "| 14/07/2023 | 13300 |\n",
       "| 17/07/2023 | 13350 |\n",
       "| 18/07/2023 | 13500 |\n",
       "| 19/07/2023 | 13300 |\n",
       "| 20/07/2023 | 13300 |\n",
       "| 21/07/2023 | 13250 |\n",
       "| 24/07/2023 | 13300 |\n",
       "| 25/07/2023 | 13250 |\n",
       "| 26/07/2023 | 13550 |\n",
       "| 27/07/2023 | 13300 |\n",
       "| 28/07/2023 | 13550 |\n",
       "| 31/07/2023 | 13700 |\n",
       "\n"
      ],
      "text/plain": [
       "    Date       Closing\n",
       "1   04/01/2022 18700  \n",
       "2   05/01/2022 19000  \n",
       "3   06/01/2022 19250  \n",
       "4   07/01/2022 20150  \n",
       "5   10/01/2022 18750  \n",
       "6   11/01/2022 18650  \n",
       "7   12/01/2022 18150  \n",
       "8   13/01/2022 16900  \n",
       "9   14/01/2022 17700  \n",
       "10  17/01/2022 16500  \n",
       "11  18/01/2022 15400  \n",
       "12  19/01/2022 16050  \n",
       "13  20/01/2022 17000  \n",
       "14  21/01/2022 16650  \n",
       "15  24/01/2022 15500  \n",
       "16  25/01/2022 16550  \n",
       "17  26/01/2022 16300  \n",
       "18  27/01/2022 16400  \n",
       "19  28/01/2022 16800  \n",
       "20  07/02/2022 17850  \n",
       "21  08/02/2022 17900  \n",
       "22  09/02/2022 17800  \n",
       "23  10/02/2022 18550  \n",
       "24  11/02/2022 18300  \n",
       "25  14/02/2022 17700  \n",
       "26  15/02/2022 18100  \n",
       "27  16/02/2022 18200  \n",
       "28  17/02/2022 18600  \n",
       "29  18/02/2022 18550  \n",
       "30  21/02/2022 18400  \n",
       "⋮   ⋮          ⋮      \n",
       "362 20/06/2023 13600  \n",
       "363 21/06/2023 13650  \n",
       "364 22/06/2023 13750  \n",
       "365 23/06/2023 13700  \n",
       "366 26/06/2023 13650  \n",
       "367 27/06/2023 13600  \n",
       "368 28/06/2023 13800  \n",
       "369 29/06/2023 13550  \n",
       "370 30/06/2023 13400  \n",
       "371 03/07/2023 13300  \n",
       "372 04/07/2023 13400  \n",
       "373 05/07/2023 13500  \n",
       "374 06/07/2023 13250  \n",
       "375 07/07/2023 13100  \n",
       "376 10/07/2023 13200  \n",
       "377 11/07/2023 13250  \n",
       "378 12/07/2023 13250  \n",
       "379 13/07/2023 13350  \n",
       "380 14/07/2023 13300  \n",
       "381 17/07/2023 13350  \n",
       "382 18/07/2023 13500  \n",
       "383 19/07/2023 13300  \n",
       "384 20/07/2023 13300  \n",
       "385 21/07/2023 13250  \n",
       "386 24/07/2023 13300  \n",
       "387 25/07/2023 13250  \n",
       "388 26/07/2023 13550  \n",
       "389 27/07/2023 13300  \n",
       "390 28/07/2023 13550  \n",
       "391 31/07/2023 13700  "
      ]
     },
     "metadata": {},
     "output_type": "display_data"
    }
   ],
   "source": [
    "POW"
   ]
  },
  {
   "cell_type": "code",
   "execution_count": 6,
   "metadata": {
    "vscode": {
     "languageId": "r"
    }
   },
   "outputs": [
    {
     "data": {
      "text/html": [
       "<table class=\"dataframe\">\n",
       "<caption>A data.frame: 6 × 2</caption>\n",
       "<thead>\n",
       "\t<tr><th></th><th scope=col>Date</th><th scope=col>Closing</th></tr>\n",
       "\t<tr><th></th><th scope=col>&lt;chr&gt;</th><th scope=col>&lt;int&gt;</th></tr>\n",
       "</thead>\n",
       "<tbody>\n",
       "\t<tr><th scope=row>1</th><td>04/01/2022</td><td>18700</td></tr>\n",
       "\t<tr><th scope=row>2</th><td>05/01/2022</td><td>19000</td></tr>\n",
       "\t<tr><th scope=row>3</th><td>06/01/2022</td><td>19250</td></tr>\n",
       "\t<tr><th scope=row>4</th><td>07/01/2022</td><td>20150</td></tr>\n",
       "\t<tr><th scope=row>5</th><td>10/01/2022</td><td>18750</td></tr>\n",
       "\t<tr><th scope=row>6</th><td>11/01/2022</td><td>18650</td></tr>\n",
       "</tbody>\n",
       "</table>\n"
      ],
      "text/latex": [
       "A data.frame: 6 × 2\n",
       "\\begin{tabular}{r|ll}\n",
       "  & Date & Closing\\\\\n",
       "  & <chr> & <int>\\\\\n",
       "\\hline\n",
       "\t1 & 04/01/2022 & 18700\\\\\n",
       "\t2 & 05/01/2022 & 19000\\\\\n",
       "\t3 & 06/01/2022 & 19250\\\\\n",
       "\t4 & 07/01/2022 & 20150\\\\\n",
       "\t5 & 10/01/2022 & 18750\\\\\n",
       "\t6 & 11/01/2022 & 18650\\\\\n",
       "\\end{tabular}\n"
      ],
      "text/markdown": [
       "\n",
       "A data.frame: 6 × 2\n",
       "\n",
       "| <!--/--> | Date &lt;chr&gt; | Closing &lt;int&gt; |\n",
       "|---|---|---|\n",
       "| 1 | 04/01/2022 | 18700 |\n",
       "| 2 | 05/01/2022 | 19000 |\n",
       "| 3 | 06/01/2022 | 19250 |\n",
       "| 4 | 07/01/2022 | 20150 |\n",
       "| 5 | 10/01/2022 | 18750 |\n",
       "| 6 | 11/01/2022 | 18650 |\n",
       "\n"
      ],
      "text/plain": [
       "  Date       Closing\n",
       "1 04/01/2022 18700  \n",
       "2 05/01/2022 19000  \n",
       "3 06/01/2022 19250  \n",
       "4 07/01/2022 20150  \n",
       "5 10/01/2022 18750  \n",
       "6 11/01/2022 18650  "
      ]
     },
     "metadata": {},
     "output_type": "display_data"
    }
   ],
   "source": [
    "head(POW)"
   ]
  },
  {
   "cell_type": "code",
   "execution_count": 7,
   "metadata": {
    "vscode": {
     "languageId": "r"
    }
   },
   "outputs": [],
   "source": [
    "POW$Date <- as.Date(POW$Date, format = \"%d/%m/%y\")"
   ]
  },
  {
   "cell_type": "code",
   "execution_count": 8,
   "metadata": {
    "vscode": {
     "languageId": "r"
    }
   },
   "outputs": [],
   "source": [
    "time <- seq(length(POW$Date))"
   ]
  },
  {
   "cell_type": "code",
   "execution_count": 9,
   "metadata": {
    "vscode": {
     "languageId": "r"
    }
   },
   "outputs": [],
   "source": [
    "POW$Closing <- ts(POW$Closing, start = c(2022,as.numeric(format(as.Date('2022-01-04'), \"%j\")), frequency = 365))"
   ]
  },
  {
   "cell_type": "code",
   "execution_count": 10,
   "metadata": {
    "vscode": {
     "languageId": "r"
    }
   },
   "outputs": [],
   "source": [
    "attach(POW)"
   ]
  },
  {
   "cell_type": "code",
   "execution_count": 11,
   "metadata": {
    "vscode": {
     "languageId": "r"
    }
   },
   "outputs": [
    {
     "data": {
      "text/html": [
       "A Time Series:<br><style>\n",
       ".list-inline {list-style: none; margin:0; padding: 0}\n",
       ".list-inline>li {display: inline-block}\n",
       ".list-inline>li:not(:last-child)::after {content: \"\\00b7\"; padding: 0 .5ex}\n",
       "</style>\n",
       "<ol class=list-inline><li>18700</li><li>19000</li><li>19250</li><li>20150</li><li>18750</li></ol>\n"
      ],
      "text/latex": [
       "A Time Series:\\\\\\begin{enumerate*}\n",
       "\\item 18700\n",
       "\\item 19000\n",
       "\\item 19250\n",
       "\\item 20150\n",
       "\\item 18750\n",
       "\\end{enumerate*}\n"
      ],
      "text/markdown": [
       "A Time Series:  \n",
       "1. 18700\n",
       "2. 19000\n",
       "3. 19250\n",
       "4. 20150\n",
       "5. 18750\n",
       "\n",
       "\n"
      ],
      "text/plain": [
       "A Time Series:\n",
       "[1] 18700 19000 19250 20150 18750"
      ]
     },
     "metadata": {},
     "output_type": "display_data"
    }
   ],
   "source": [
    "head(Closing, 5)\n"
   ]
  },
  {
   "cell_type": "code",
   "execution_count": 12,
   "metadata": {
    "vscode": {
     "languageId": "r"
    }
   },
   "outputs": [
    {
     "data": {
      "image/png": "[encoded data removed]",
      "text/plain": [
       "plot without title"
      ]
     },
     "metadata": {
      "image/png": {
       "height": 420,
       "width": 420
      }
     },
     "output_type": "display_data"
    }
   ],
   "source": [
    "plot.ts(Closing)"
   ]
  },
  {
   "cell_type": "code",
   "execution_count": 13,
   "metadata": {
    "vscode": {
     "languageId": "r"
    }
   },
   "outputs": [],
   "source": [
    "ClosingDiff1 <- ts(Closing - Lag(Closing, 1), start = c(2022,as.numeric(format(as.Date('2022-01-04'), \"%j\"))), frequency = 365)\n",
    "ClosingDiff1_train <- ClosingDiff1[1:381]\n",
    "ClosingDiff1_test <- ClosingDiff1[382:391]"
   ]
  },
  {
   "cell_type": "code",
   "execution_count": 14,
   "metadata": {
    "vscode": {
     "languageId": "r"
    }
   },
   "outputs": [
    {
     "data": {
      "text/html": [
       "A Time Series:<br><style>\n",
       ".list-inline {list-style: none; margin:0; padding: 0}\n",
       ".list-inline>li {display: inline-block}\n",
       ".list-inline>li:not(:last-child)::after {content: \"\\00b7\"; padding: 0 .5ex}\n",
       "</style>\n",
       "<ol class=list-inline><li>&lt;NA&gt;</li><li>300</li><li>250</li><li>900</li><li>-1400</li></ol>\n"
      ],
      "text/latex": [
       "A Time Series:\\\\\\begin{enumerate*}\n",
       "\\item <NA>\n",
       "\\item 300\n",
       "\\item 250\n",
       "\\item 900\n",
       "\\item -1400\n",
       "\\end{enumerate*}\n"
      ],
      "text/markdown": [
       "A Time Series:  \n",
       "1. &lt;NA&gt;\n",
       "2. 300\n",
       "3. 250\n",
       "4. 900\n",
       "5. -1400\n",
       "\n",
       "\n"
      ],
      "text/plain": [
       "A Time Series:\n",
       "[1]    NA   300   250   900 -1400"
      ]
     },
     "metadata": {},
     "output_type": "display_data"
    }
   ],
   "source": [
    "head(ClosingDiff1, 5)"
   ]
  },
  {
   "cell_type": "code",
   "execution_count": 15,
   "metadata": {
    "vscode": {
     "languageId": "r"
    }
   },
   "outputs": [
    {
     "data": {
      "image/png": "[encoded data removed]",
      "text/plain": [
       "plot without title"
      ]
     },
     "metadata": {
      "image/png": {
       "height": 420,
       "width": 420
      }
     },
     "output_type": "display_data"
    }
   ],
   "source": [
    "plot.ts(ClosingDiff1_train)"
   ]
  },
  {
   "cell_type": "code",
   "execution_count": 16,
   "metadata": {
    "vscode": {
     "languageId": "r"
    }
   },
   "outputs": [],
   "source": [
    "ClosingRelativeDiff <- ts((Closing - Lag(Closing,1))/Lag(Closing,1), start = c(2022,as.numeric(format(as.Date('2022-01-04'), \"%j\"))), frequency = 365)\n",
    "ClosingRelativeDiff_train <- ClosingRelativeDiff[1:381]\n",
    "ClosingRelativeDiff_test <- ClosingRelativeDiff[382:391]"
   ]
  },
  {
   "cell_type": "code",
   "execution_count": 17,
   "metadata": {
    "vscode": {
     "languageId": "r"
    }
   },
   "outputs": [
    {
     "data": {
      "text/html": [
       "A Time Series:<br><style>\n",
       ".list-inline {list-style: none; margin:0; padding: 0}\n",
       ".list-inline>li {display: inline-block}\n",
       ".list-inline>li:not(:last-child)::after {content: \"\\00b7\"; padding: 0 .5ex}\n",
       "</style>\n",
       "<ol class=list-inline><li>&lt;NA&gt;</li><li>0.0160427807486631</li><li>0.0131578947368421</li><li>0.0467532467532468</li><li>-0.0694789081885856</li></ol>\n"
      ],
      "text/latex": [
       "A Time Series:\\\\\\begin{enumerate*}\n",
       "\\item <NA>\n",
       "\\item 0.0160427807486631\n",
       "\\item 0.0131578947368421\n",
       "\\item 0.0467532467532468\n",
       "\\item -0.0694789081885856\n",
       "\\end{enumerate*}\n"
      ],
      "text/markdown": [
       "A Time Series:  \n",
       "1. &lt;NA&gt;\n",
       "2. 0.0160427807486631\n",
       "3. 0.0131578947368421\n",
       "4. 0.0467532467532468\n",
       "5. -0.0694789081885856\n",
       "\n",
       "\n"
      ],
      "text/plain": [
       "A Time Series:\n",
       "[1]          NA  0.01604278  0.01315789  0.04675325 -0.06947891"
      ]
     },
     "metadata": {},
     "output_type": "display_data"
    }
   ],
   "source": [
    "head(ClosingRelativeDiff, 5)"
   ]
  },
  {
   "cell_type": "code",
   "execution_count": 18,
   "metadata": {
    "vscode": {
     "languageId": "r"
    }
   },
   "outputs": [
    {
     "data": {
      "image/png": "[encoded data removed]",
      "text/plain": [
       "plot without title"
      ]
     },
     "metadata": {
      "image/png": {
       "height": 420,
       "width": 420
      }
     },
     "output_type": "display_data"
    }
   ],
   "source": [
    "plot.ts(ClosingRelativeDiff_train)"
   ]
  },
  {
   "cell_type": "code",
   "execution_count": 19,
   "metadata": {
    "vscode": {
     "languageId": "r"
    }
   },
   "outputs": [],
   "source": [
    "ClosingLR <- ts(log(Closing/Lag(Closing, 1)), start = c(2022,as.numeric(format(as.Date('2022-01-04'), \"%j\"))), frequency = 365)\n",
    "ClosingLR_train <- ClosingLR[1:381]\n",
    "ClosingLR_test <- ClosingLR[382:391]"
   ]
  },
  {
   "cell_type": "code",
   "execution_count": 20,
   "metadata": {
    "vscode": {
     "languageId": "r"
    }
   },
   "outputs": [
    {
     "data": {
      "text/html": [
       "A Time Series:<br><style>\n",
       ".list-inline {list-style: none; margin:0; padding: 0}\n",
       ".list-inline>li {display: inline-block}\n",
       ".list-inline>li:not(:last-child)::after {content: \"\\00b7\"; padding: 0 .5ex}\n",
       "</style>\n",
       "<ol class=list-inline><li>&lt;NA&gt;</li><li>0.0159154553058996</li><li>0.0130720815673527</li><li>0.0456932276588988</li><li>-0.0720105359762722</li></ol>\n"
      ],
      "text/latex": [
       "A Time Series:\\\\\\begin{enumerate*}\n",
       "\\item <NA>\n",
       "\\item 0.0159154553058996\n",
       "\\item 0.0130720815673527\n",
       "\\item 0.0456932276588988\n",
       "\\item -0.0720105359762722\n",
       "\\end{enumerate*}\n"
      ],
      "text/markdown": [
       "A Time Series:  \n",
       "1. &lt;NA&gt;\n",
       "2. 0.0159154553058996\n",
       "3. 0.0130720815673527\n",
       "4. 0.0456932276588988\n",
       "5. -0.0720105359762722\n",
       "\n",
       "\n"
      ],
      "text/plain": [
       "A Time Series:\n",
       "[1]          NA  0.01591546  0.01307208  0.04569323 -0.07201054"
      ]
     },
     "metadata": {},
     "output_type": "display_data"
    }
   ],
   "source": [
    "head(ClosingLR, 5)"
   ]
  },
  {
   "cell_type": "code",
   "execution_count": 21,
   "metadata": {
    "vscode": {
     "languageId": "r"
    }
   },
   "outputs": [
    {
     "data": {
      "image/png": "[encoded data removed]",
      "text/plain": [
       "plot without title"
      ]
     },
     "metadata": {
      "image/png": {
       "height": 420,
       "width": 420
      }
     },
     "output_type": "display_data"
    }
   ],
   "source": [
    "plot.ts(ClosingLR_train)"
   ]
  },
  {
   "cell_type": "markdown",
   "metadata": {},
   "source": [
    "DF tests: Checking for stationary series"
   ]
  },
  {
   "cell_type": "markdown",
   "metadata": {},
   "source": [
    "original series is not stationary\n"
   ]
  },
  {
   "cell_type": "code",
   "execution_count": 22,
   "metadata": {
    "vscode": {
     "languageId": "r"
    }
   },
   "outputs": [
    {
     "data": {
      "text/plain": [
       "\n",
       "############################################### \n",
       "# Augmented Dickey-Fuller Test Unit Root Test # \n",
       "############################################### \n",
       "\n",
       "Test regression drift \n",
       "\n",
       "\n",
       "Call:\n",
       "lm(formula = z.diff ~ z.lag.1 + 1 + z.diff.lag)\n",
       "\n",
       "Residuals:\n",
       "     Min       1Q   Median       3Q      Max \n",
       "-1295.09  -151.83    33.25   190.01  1105.48 \n",
       "\n",
       "Coefficients:\n",
       "             Estimate Std. Error t value            Pr(>|t|)    \n",
       "(Intercept) -18.18706   19.13060  -0.951              0.3424    \n",
       "z.lag.1      -1.17794    0.07451 -15.810 <0.0000000000000002 ***\n",
       "z.diff.lag    0.11295    0.05122   2.205              0.0281 *  \n",
       "---\n",
       "Signif. codes:  0 '***' 0.001 '**' 0.01 '*' 0.05 '.' 0.1 ' ' 1\n",
       "\n",
       "Residual standard error: 371.3 on 375 degrees of freedom\n",
       "Multiple R-squared:  0.5356,\tAdjusted R-squared:  0.5331 \n",
       "F-statistic: 216.3 on 2 and 375 DF,  p-value: < 0.00000000000000022\n",
       "\n",
       "\n",
       "Value of test-statistic is: -15.8098 124.9763 \n",
       "\n",
       "Critical values for test statistics: \n",
       "      1pct  5pct 10pct\n",
       "tau2 -3.44 -2.87 -2.57\n",
       "phi1  6.47  4.61  3.79\n"
      ]
     },
     "metadata": {},
     "output_type": "display_data"
    }
   ],
   "source": [
    "summary(ur.df(ClosingDiff1_train[2:381], type = \"drift\", selectlags = \"AIC\"))"
   ]
  },
  {
   "cell_type": "code",
   "execution_count": 23,
   "metadata": {
    "vscode": {
     "languageId": "r"
    }
   },
   "outputs": [
    {
     "data": {
      "text/plain": [
       "\n",
       "############################################### \n",
       "# Augmented Dickey-Fuller Test Unit Root Test # \n",
       "############################################### \n",
       "\n",
       "Test regression none \n",
       "\n",
       "\n",
       "Call:\n",
       "lm(formula = z.diff ~ z.lag.1 - 1 + z.diff.lag)\n",
       "\n",
       "Residuals:\n",
       "     Min       1Q   Median       3Q      Max \n",
       "-1315.63  -169.62    15.01   172.14  1086.26 \n",
       "\n",
       "Coefficients:\n",
       "           Estimate Std. Error t value            Pr(>|t|)    \n",
       "z.lag.1    -1.17390    0.07438 -15.783 <0.0000000000000002 ***\n",
       "z.diff.lag  0.11099    0.05118   2.169              0.0307 *  \n",
       "---\n",
       "Signif. codes:  0 '***' 0.001 '**' 0.01 '*' 0.05 '.' 0.1 ' ' 1\n",
       "\n",
       "Residual standard error: 371.3 on 376 degrees of freedom\n",
       "Multiple R-squared:  0.5345,\tAdjusted R-squared:  0.532 \n",
       "F-statistic: 215.9 on 2 and 376 DF,  p-value: < 0.00000000000000022\n",
       "\n",
       "\n",
       "Value of test-statistic is: -15.7833 \n",
       "\n",
       "Critical values for test statistics: \n",
       "      1pct  5pct 10pct\n",
       "tau1 -2.58 -1.95 -1.62\n"
      ]
     },
     "metadata": {},
     "output_type": "display_data"
    }
   ],
   "source": [
    "summary(ur.df(ClosingDiff1_train[2:381], type = \"none\", selectlags = \"AIC\"))"
   ]
  },
  {
   "cell_type": "markdown",
   "metadata": {},
   "source": [
    "ClosingDiff1 is stationary (None)"
   ]
  },
  {
   "cell_type": "code",
   "execution_count": 24,
   "metadata": {
    "vscode": {
     "languageId": "r"
    }
   },
   "outputs": [
    {
     "data": {
      "text/plain": [
       "\n",
       "############################################### \n",
       "# Augmented Dickey-Fuller Test Unit Root Test # \n",
       "############################################### \n",
       "\n",
       "Test regression drift \n",
       "\n",
       "\n",
       "Call:\n",
       "lm(formula = z.diff ~ z.lag.1 + 1 + z.diff.lag)\n",
       "\n",
       "Residuals:\n",
       "      Min        1Q    Median        3Q       Max \n",
       "-0.079808 -0.011660  0.001859  0.013579  0.072894 \n",
       "\n",
       "Coefficients:\n",
       "              Estimate Std. Error t value            Pr(>|t|)    \n",
       "(Intercept) -0.0007026  0.0013763  -0.510              0.6100    \n",
       "z.lag.1     -1.1800339  0.0745707 -15.824 <0.0000000000000002 ***\n",
       "z.diff.lag   0.1146383  0.0512551   2.237              0.0259 *  \n",
       "---\n",
       "Signif. codes:  0 '***' 0.001 '**' 0.01 '*' 0.05 '.' 0.1 ' ' 1\n",
       "\n",
       "Residual standard error: 0.02675 on 375 degrees of freedom\n",
       "Multiple R-squared:  0.5357,\tAdjusted R-squared:  0.5333 \n",
       "F-statistic: 216.4 on 2 and 375 DF,  p-value: < 0.00000000000000022\n",
       "\n",
       "\n",
       "Value of test-statistic is: -15.8244 125.2058 \n",
       "\n",
       "Critical values for test statistics: \n",
       "      1pct  5pct 10pct\n",
       "tau2 -3.44 -2.87 -2.57\n",
       "phi1  6.47  4.61  3.79\n"
      ]
     },
     "metadata": {},
     "output_type": "display_data"
    }
   ],
   "source": [
    "summary(ur.df(ClosingRelativeDiff_train[2:381], type = \"drift\", selectlags = \"AIC\"))"
   ]
  },
  {
   "cell_type": "code",
   "execution_count": 25,
   "metadata": {
    "vscode": {
     "languageId": "r"
    }
   },
   "outputs": [
    {
     "data": {
      "text/plain": [
       "\n",
       "############################################### \n",
       "# Augmented Dickey-Fuller Test Unit Root Test # \n",
       "############################################### \n",
       "\n",
       "Test regression none \n",
       "\n",
       "\n",
       "Call:\n",
       "lm(formula = z.diff ~ z.lag.1 - 1 + z.diff.lag)\n",
       "\n",
       "Residuals:\n",
       "      Min        1Q    Median        3Q       Max \n",
       "-0.080432 -0.012368  0.001157  0.012855  0.072174 \n",
       "\n",
       "Coefficients:\n",
       "           Estimate Std. Error t value            Pr(>|t|)    \n",
       "z.lag.1    -1.17889    0.07446 -15.832 <0.0000000000000002 ***\n",
       "z.diff.lag  0.11409    0.05119   2.229              0.0264 *  \n",
       "---\n",
       "Signif. codes:  0 '***' 0.001 '**' 0.01 '*' 0.05 '.' 0.1 ' ' 1\n",
       "\n",
       "Residual standard error: 0.02672 on 376 degrees of freedom\n",
       "Multiple R-squared:  0.5354,\tAdjusted R-squared:  0.5329 \n",
       "F-statistic: 216.7 on 2 and 376 DF,  p-value: < 0.00000000000000022\n",
       "\n",
       "\n",
       "Value of test-statistic is: -15.8317 \n",
       "\n",
       "Critical values for test statistics: \n",
       "      1pct  5pct 10pct\n",
       "tau1 -2.58 -1.95 -1.62\n"
      ]
     },
     "metadata": {},
     "output_type": "display_data"
    }
   ],
   "source": [
    "summary(ur.df(ClosingRelativeDiff_train[2:381], type = \"none\", selectlags = \"AIC\"))"
   ]
  },
  {
   "cell_type": "markdown",
   "metadata": {},
   "source": [
    "ClosingRelativeDiff is stationary (None)"
   ]
  },
  {
   "cell_type": "code",
   "execution_count": 26,
   "metadata": {
    "vscode": {
     "languageId": "r"
    }
   },
   "outputs": [
    {
     "data": {
      "text/plain": [
       "\n",
       "############################################### \n",
       "# Augmented Dickey-Fuller Test Unit Root Test # \n",
       "############################################### \n",
       "\n",
       "Test regression drift \n",
       "\n",
       "\n",
       "Call:\n",
       "lm(formula = z.diff ~ z.lag.1 + 1 + z.diff.lag)\n",
       "\n",
       "Residuals:\n",
       "      Min        1Q    Median        3Q       Max \n",
       "-0.081730 -0.011543  0.002239  0.013757  0.070903 \n",
       "\n",
       "Coefficients:\n",
       "             Estimate Std. Error t value            Pr(>|t|)    \n",
       "(Intercept) -0.001125   0.001387  -0.812              0.4175    \n",
       "z.lag.1     -1.172597   0.074480 -15.744 <0.0000000000000002 ***\n",
       "z.diff.lag   0.111160   0.051275   2.168              0.0308 *  \n",
       "---\n",
       "Signif. codes:  0 '***' 0.001 '**' 0.01 '*' 0.05 '.' 0.1 ' ' 1\n",
       "\n",
       "Residual standard error: 0.02692 on 375 degrees of freedom\n",
       "Multiple R-squared:  0.5337,\tAdjusted R-squared:  0.5312 \n",
       "F-statistic: 214.6 on 2 and 375 DF,  p-value: < 0.00000000000000022\n",
       "\n",
       "\n",
       "Value of test-statistic is: -15.7438 123.9338 \n",
       "\n",
       "Critical values for test statistics: \n",
       "      1pct  5pct 10pct\n",
       "tau2 -3.44 -2.87 -2.57\n",
       "phi1  6.47  4.61  3.79\n"
      ]
     },
     "metadata": {},
     "output_type": "display_data"
    }
   ],
   "source": [
    "summary(ur.df(ClosingLR_train[2:381], type = 'drift', selectlags = \"AIC\"))"
   ]
  },
  {
   "cell_type": "code",
   "execution_count": 27,
   "metadata": {
    "vscode": {
     "languageId": "r"
    }
   },
   "outputs": [
    {
     "data": {
      "text/plain": [
       "\n",
       "############################################### \n",
       "# Augmented Dickey-Fuller Test Unit Root Test # \n",
       "############################################### \n",
       "\n",
       "Test regression none \n",
       "\n",
       "\n",
       "Call:\n",
       "lm(formula = z.diff ~ z.lag.1 - 1 + z.diff.lag)\n",
       "\n",
       "Residuals:\n",
       "      Min        1Q    Median        3Q       Max \n",
       "-0.082642 -0.012787  0.001146  0.012647  0.069731 \n",
       "\n",
       "Coefficients:\n",
       "           Estimate Std. Error t value            Pr(>|t|)    \n",
       "z.lag.1    -1.16962    0.07436 -15.730 <0.0000000000000002 ***\n",
       "z.diff.lag  0.10971    0.05122   2.142              0.0328 *  \n",
       "---\n",
       "Signif. codes:  0 '***' 0.001 '**' 0.01 '*' 0.05 '.' 0.1 ' ' 1\n",
       "\n",
       "Residual standard error: 0.02691 on 376 degrees of freedom\n",
       "Multiple R-squared:  0.5329,\tAdjusted R-squared:  0.5304 \n",
       "F-statistic: 214.5 on 2 and 376 DF,  p-value: < 0.00000000000000022\n",
       "\n",
       "\n",
       "Value of test-statistic is: -15.73 \n",
       "\n",
       "Critical values for test statistics: \n",
       "      1pct  5pct 10pct\n",
       "tau1 -2.58 -1.95 -1.62\n"
      ]
     },
     "metadata": {},
     "output_type": "display_data"
    }
   ],
   "source": [
    "summary(ur.df(ClosingLR_train[2:381], type = 'none', selectlags = \"AIC\"))"
   ]
  },
  {
   "cell_type": "markdown",
   "metadata": {},
   "source": [
    "ClosingLR is stationary"
   ]
  },
  {
   "cell_type": "markdown",
   "metadata": {},
   "source": [
    "Checking for ACF, PACF to apply to ARMA models for ClosingDiff1, ClosingRelativeDiff and ClosingLR"
   ]
  },
  {
   "cell_type": "code",
   "execution_count": 28,
   "metadata": {
    "vscode": {
     "languageId": "r"
    }
   },
   "outputs": [
    {
     "data": {
      "text/html": [
       "0.10041199670949"
      ],
      "text/latex": [
       "0.10041199670949"
      ],
      "text/markdown": [
       "0.10041199670949"
      ],
      "text/plain": [
       "[1] 0.100412"
      ]
     },
     "metadata": {},
     "output_type": "display_data"
    }
   ],
   "source": [
    "qnorm(1-0.05/2)/sqrt(length(ClosingDiff1_train))"
   ]
  },
  {
   "cell_type": "markdown",
   "metadata": {},
   "source": [
    "ClosingDiff1 "
   ]
  },
  {
   "cell_type": "code",
   "execution_count": 29,
   "metadata": {
    "vscode": {
     "languageId": "r"
    }
   },
   "outputs": [
    {
     "data": {
      "text/plain": [
       "\n",
       "Autocorrelations of series 'ClosingDiff1_train[2:381]', by lag\n",
       "\n",
       "     0      1      2      3      4      5      6      7      8      9     10 \n",
       " 1.000 -0.057 -0.109  0.053  0.023 -0.020 -0.004  0.029 -0.038 -0.029  0.031 \n",
       "    11     12     13     14     15     16     17     18     19     20     21 \n",
       "-0.017 -0.058 -0.037  0.092 -0.028  0.039  0.016 -0.050 -0.047 -0.051 -0.036 \n",
       "    22     23     24     25 \n",
       "-0.069  0.021 -0.009  0.038 "
      ]
     },
     "metadata": {},
     "output_type": "display_data"
    },
    {
     "data": {
      "text/plain": [
       "\n",
       "Partial autocorrelations of series 'ClosingDiff1_train[2:381]', by lag\n",
       "\n",
       "     1      2      3      4      5      6      7      8      9     10     11 \n",
       "-0.057 -0.113  0.040  0.017 -0.007 -0.003  0.024 -0.035 -0.027  0.018 -0.018 \n",
       "    12     13     14     15     16     17     18     19     20     21     22 \n",
       "-0.051 -0.050  0.077 -0.020  0.062  0.006 -0.040 -0.052 -0.075 -0.060 -0.079 \n",
       "    23     24     25 \n",
       " 0.010 -0.024  0.055 "
      ]
     },
     "metadata": {},
     "output_type": "display_data"
    },
    {
     "data": {
      "image/png": "[encoded data removed]",
      "text/plain": [
       "Plot with title \"Series  ClosingDiff1_train[2:381]\""
      ]
     },
     "metadata": {
      "image/png": {
       "height": 420,
       "width": 420
      }
     },
     "output_type": "display_data"
    },
    {
     "data": {
      "image/png": "[encoded data removed]",
      "text/plain": [
       "Plot with title \"Series  ClosingDiff1_train[2:381]\""
      ]
     },
     "metadata": {
      "image/png": {
       "height": 420,
       "width": 420
      }
     },
     "output_type": "display_data"
    }
   ],
   "source": [
    "#ARMA(-2,-2)\n",
    "acf(ClosingDiff1_train[2:381], plot = FALSE)\n",
    "pacf(ClosingDiff1_train[2:381], plot = FALSE)\n",
    "acf(ClosingDiff1_train[2:381])\n",
    "pacf(ClosingDiff1_train[2:381])"
   ]
  },
  {
   "cell_type": "markdown",
   "metadata": {},
   "source": [
    "ClosingRelativeDiff "
   ]
  },
  {
   "cell_type": "code",
   "execution_count": 30,
   "metadata": {
    "vscode": {
     "languageId": "r"
    }
   },
   "outputs": [
    {
     "data": {
      "text/plain": [
       "\n",
       "Autocorrelations of series 'ClosingRelativeDiff_train[2:381]', by lag\n",
       "\n",
       "     0      1      2      3      4      5      6      7      8      9     10 \n",
       " 1.000 -0.058 -0.111  0.043  0.005 -0.029  0.007  0.000  0.004 -0.003  0.014 \n",
       "    11     12     13     14     15     16     17     18     19     20     21 \n",
       " 0.008 -0.062 -0.031  0.089 -0.002  0.050  0.015 -0.041 -0.042 -0.096 -0.028 \n",
       "    22     23     24     25 \n",
       "-0.051  0.001 -0.008  0.052 "
      ]
     },
     "metadata": {},
     "output_type": "display_data"
    },
    {
     "data": {
      "text/plain": [
       "\n",
       "Partial autocorrelations of series 'ClosingRelativeDiff_train[2:381]', by lag\n",
       "\n",
       "     1      2      3      4      5      6      7      8      9     10     11 \n",
       "-0.058 -0.115  0.030 -0.003 -0.021  0.002 -0.005  0.006 -0.003  0.015  0.009 \n",
       "    12     13     14     15     16     17     18     19     20     21     22 \n",
       "-0.059 -0.038  0.072  0.005  0.072  0.015 -0.028 -0.045 -0.115 -0.047 -0.078 \n",
       "    23     24     25 \n",
       "-0.009 -0.027  0.047 "
      ]
     },
     "metadata": {},
     "output_type": "display_data"
    },
    {
     "data": {
      "image/png": "[encoded data removed]",
      "text/plain": [
       "Plot with title \"Series  ClosingRelativeDiff_train[2:381]\""
      ]
     },
     "metadata": {
      "image/png": {
       "height": 420,
       "width": 420
      }
     },
     "output_type": "display_data"
    },
    {
     "data": {
      "image/png": "[encoded data removed]",
      "text/plain": [
       "Plot with title \"Series  ClosingRelativeDiff_train[2:381]\""
      ]
     },
     "metadata": {
      "image/png": {
       "height": 420,
       "width": 420
      }
     },
     "output_type": "display_data"
    }
   ],
   "source": [
    "#ARMA(-2,-2)\n",
    "acf(ClosingRelativeDiff_train[2:381], plot = FALSE)\n",
    "pacf(ClosingRelativeDiff_train[2:381], plot = FALSE)\n",
    "acf(ClosingRelativeDiff_train[2:381])\n",
    "pacf(ClosingRelativeDiff_train[2:381])"
   ]
  },
  {
   "cell_type": "markdown",
   "metadata": {},
   "source": [
    "ClosingLR "
   ]
  },
  {
   "cell_type": "code",
   "execution_count": 31,
   "metadata": {
    "vscode": {
     "languageId": "r"
    }
   },
   "outputs": [
    {
     "data": {
      "text/plain": [
       "\n",
       "Autocorrelations of series 'ClosingLR_train[2:381]', by lag\n",
       "\n",
       "     0      1      2      3      4      5      6      7      8      9     10 \n",
       " 1.000 -0.054 -0.108  0.047  0.005 -0.029  0.008 -0.003  0.002 -0.004  0.015 \n",
       "    11     12     13     14     15     16     17     18     19     20     21 \n",
       " 0.008 -0.061 -0.031  0.090 -0.001  0.048  0.015 -0.040 -0.045 -0.094 -0.027 \n",
       "    22     23     24     25 \n",
       "-0.051 -0.002 -0.007  0.051 "
      ]
     },
     "metadata": {},
     "output_type": "display_data"
    },
    {
     "data": {
      "text/plain": [
       "\n",
       "Partial autocorrelations of series 'ClosingLR_train[2:381]', by lag\n",
       "\n",
       "     1      2      3      4      5      6      7      8      9     10     11 \n",
       "-0.054 -0.111  0.035 -0.002 -0.020  0.004 -0.008  0.005 -0.005  0.015  0.009 \n",
       "    12     13     14     15     16     17     18     19     20     21     22 \n",
       "-0.058 -0.038  0.074  0.007  0.070  0.014 -0.029 -0.049 -0.113 -0.045 -0.076 \n",
       "    23     24     25 \n",
       "-0.009 -0.025  0.047 "
      ]
     },
     "metadata": {},
     "output_type": "display_data"
    },
    {
     "data": {
      "image/png": "[encoded data removed]",
      "text/plain": [
       "Plot with title \"Series  ClosingLR_train[2:381]\""
      ]
     },
     "metadata": {
      "image/png": {
       "height": 420,
       "width": 420
      }
     },
     "output_type": "display_data"
    },
    {
     "data": {
      "image/png": "[encoded data removed]",
      "text/plain": [
       "Plot with title \"Series  ClosingLR_train[2:381]\""
      ]
     },
     "metadata": {
      "image/png": {
       "height": 420,
       "width": 420
      }
     },
     "output_type": "display_data"
    }
   ],
   "source": [
    "#ARMA(-2,-2)\n",
    "acf(ClosingLR_train[2:381], plot = FALSE)\n",
    "pacf(ClosingLR_train[2:381], plot = FALSE)\n",
    "acf(ClosingLR_train[2:381])\n",
    "pacf(ClosingLR_train[2:381])"
   ]
  },
  {
   "cell_type": "markdown",
   "metadata": {},
   "source": [
    "# Fitting ARIMA models"
   ]
  },
  {
   "cell_type": "markdown",
   "metadata": {},
   "source": [
    "#### ClosingDiff1"
   ]
  },
  {
   "cell_type": "code",
   "execution_count": 32,
   "metadata": {
    "vscode": {
     "languageId": "r"
    }
   },
   "outputs": [
    {
     "data": {
      "text/plain": [
       "\n",
       "Call:\n",
       "arima(x = ClosingDiff1_train[2:381], order = c(2, 0, 2))\n",
       "\n",
       "Coefficients:\n",
       "          ar1      ar2     ma1     ma2  intercept\n",
       "      -0.3078  -0.4336  0.2502  0.3161   -14.0850\n",
       "s.e.   0.3644   0.5742  0.3880  0.6038    17.0371\n",
       "\n",
       "sigma^2 estimated as 136239:  log likelihood = -2785.43,  aic = 5582.85\n",
       "\n",
       "Training set error measures:\n",
       "                      ME     RMSE      MAE MPE MAPE      MASE         ACF1\n",
       "Training set -0.00434027 369.1051 262.4535 NaN  Inf 0.6866148 -0.001567769"
      ]
     },
     "metadata": {},
     "output_type": "display_data"
    }
   ],
   "source": [
    "summary(arima(ClosingDiff1_train[2:381], order = c(2,0,2)))"
   ]
  },
  {
   "cell_type": "code",
   "execution_count": 33,
   "metadata": {
    "vscode": {
     "languageId": "r"
    }
   },
   "outputs": [
    {
     "data": {
      "text/plain": [
       "\n",
       "Call:\n",
       "arma(x = ClosingDiff1_train[2:381], order = c(2, 2))\n",
       "\n",
       "Model:\n",
       "ARMA(2,2)\n",
       "\n",
       "Residuals:\n",
       "     Min       1Q   Median       3Q      Max \n",
       "-1531.28  -158.29    44.01   200.29  1183.48 \n",
       "\n",
       "Coefficient(s):\n",
       "           Estimate  Std. Error  t value             Pr(>|t|)    \n",
       "ar1         0.73185     0.08069    9.070 < 0.0000000000000002 ***\n",
       "ar2        -0.89096     0.15364   -5.799       0.000000006677 ***\n",
       "ma1        -0.77749     0.06257  -12.426 < 0.0000000000000002 ***\n",
       "ma2         0.89445     0.14491    6.172       0.000000000673 ***\n",
       "intercept -26.91123    21.11859   -1.274                0.203    \n",
       "---\n",
       "Signif. codes:  0 '***' 0.001 '**' 0.01 '*' 0.05 '.' 0.1 ' ' 1\n",
       "\n",
       "Fit:\n",
       "sigma^2 estimated as 136299,  Conditional Sum-of-Squares = 51413558,  AIC = 5580.98\n"
      ]
     },
     "metadata": {},
     "output_type": "display_data"
    }
   ],
   "source": [
    "summary(arma(ClosingDiff1_train[2:381], order = c(2,2)))"
   ]
  },
  {
   "cell_type": "code",
   "execution_count": 34,
   "metadata": {
    "vscode": {
     "languageId": "r"
    }
   },
   "outputs": [
    {
     "name": "stderr",
     "output_type": "stream",
     "text": [
      "Warning message in arima(ClosingDiff1_train[2:381], order = c(2, 0, 2), fixed = c(0, :\n",
      "\"some AR parameters were fixed: setting transform.pars = FALSE\"\n"
     ]
    },
    {
     "data": {
      "text/plain": [
       "\n",
       "Call:\n",
       "arima(x = ClosingDiff1_train[2:381], order = c(2, 0, 2), fixed = c(0, NA, 0, \n",
       "    NA, NA))\n",
       "\n",
       "Coefficients:\n",
       "      ar1      ar2  ma1     ma2  intercept\n",
       "        0  -0.2084    0  0.1005   -14.2340\n",
       "s.e.    0   0.4091    0  0.4156    17.3049\n",
       "\n",
       "sigma^2 estimated as 137083:  log likelihood = -2786.59,  aic = 5581.19\n",
       "\n",
       "Training set error measures:\n",
       "                   ME    RMSE     MAE MPE MAPE      MASE       ACF1\n",
       "Training set 0.158184 370.247 264.192 NaN  Inf 0.6911628 -0.0590403"
      ]
     },
     "metadata": {},
     "output_type": "display_data"
    }
   ],
   "source": [
    "summary(arima(ClosingDiff1_train[2:381], order = c(2,0,2), fixed = c(0, NA, 0, NA, NA)))"
   ]
  },
  {
   "cell_type": "markdown",
   "metadata": {},
   "source": [
    "#### ClosingRelativeDiff"
   ]
  },
  {
   "cell_type": "code",
   "execution_count": 35,
   "metadata": {
    "vscode": {
     "languageId": "r"
    }
   },
   "outputs": [
    {
     "data": {
      "text/plain": [
       "\n",
       "Call:\n",
       "arma(x = ClosingRelativeDiff_train[2:381], order = c(2, 2))\n",
       "\n",
       "Model:\n",
       "ARMA(2,2)\n",
       "\n",
       "Residuals:\n",
       "      Min        1Q    Median        3Q       Max \n",
       "-0.080715 -0.011662  0.002094  0.013569  0.072847 \n",
       "\n",
       "Coefficient(s):\n",
       "            Estimate  Std. Error  t value Pr(>|t|)\n",
       "ar1       -0.0737757   0.4071997   -0.181    0.856\n",
       "ar2       -0.2018662   0.3545288   -0.569    0.569\n",
       "ma1        0.0066240   0.4156528    0.016    0.987\n",
       "ma2        0.0894892   0.3737740    0.239    0.811\n",
       "intercept -0.0007545   0.0015150   -0.498    0.618\n",
       "\n",
       "Fit:\n",
       "sigma^2 estimated as 0.0007114,  Conditional Sum-of-Squares = 0.27,  AIC = -1665.95\n"
      ]
     },
     "metadata": {},
     "output_type": "display_data"
    }
   ],
   "source": [
    "summary(arma(ClosingRelativeDiff_train[2:381], order = c(2,2)))"
   ]
  },
  {
   "cell_type": "code",
   "execution_count": 36,
   "metadata": {
    "vscode": {
     "languageId": "r"
    }
   },
   "outputs": [
    {
     "data": {
      "text/plain": [
       "\n",
       "Call:\n",
       "arima(x = ClosingRelativeDiff_train[2:381], order = c(2, 0, 2))\n",
       "\n",
       "Coefficients:\n",
       "          ar1      ar2     ma1     ma2  intercept\n",
       "      -0.2995  -0.2154  0.2389  0.0897    -0.0005\n",
       "s.e.   0.3947   0.4136  0.4029  0.4217     0.0012\n",
       "\n",
       "sigma^2 estimated as 0.0007065:  log likelihood = 839.27,  aic = -1666.54\n",
       "\n",
       "Training set error measures:\n",
       "                         ME       RMSE        MAE MPE MAPE      MASE\n",
       "Training set 0.000005287506 0.02658011 0.01922893 NaN  Inf 0.6823235\n",
       "                      ACF1\n",
       "Training set -0.0003239604"
      ]
     },
     "metadata": {},
     "output_type": "display_data"
    }
   ],
   "source": [
    "summary(arima(ClosingRelativeDiff_train[2:381], order = c(2,0,2)))"
   ]
  },
  {
   "cell_type": "code",
   "execution_count": 37,
   "metadata": {
    "vscode": {
     "languageId": "r"
    }
   },
   "outputs": [
    {
     "name": "stderr",
     "output_type": "stream",
     "text": [
      "Warning message in arima(ClosingRelativeDiff_train[2:381], order = c(2, 0, 2), fixed = c(0, :\n",
      "\"some AR parameters were fixed: setting transform.pars = FALSE\"\n"
     ]
    },
    {
     "data": {
      "text/plain": [
       "\n",
       "Call:\n",
       "arima(x = ClosingRelativeDiff_train[2:381], order = c(2, 0, 2), fixed = c(0, \n",
       "    NA, 0, NA, NA))\n",
       "\n",
       "Coefficients:\n",
       "      ar1      ar2  ma1      ma2  intercept\n",
       "        0  -0.0650    0  -0.0461    -0.0005\n",
       "s.e.    0   0.4361    0   0.4371     0.0012\n",
       "\n",
       "sigma^2 estimated as 0.0007101:  log likelihood = 838.3,  aic = -1668.6\n",
       "\n",
       "Training set error measures:\n",
       "                         ME       RMSE        MAE MPE MAPE      MASE\n",
       "Training set 0.000002685006 0.02664853 0.01935687 NaN  Inf 0.6868633\n",
       "                    ACF1\n",
       "Training set -0.06093677"
      ]
     },
     "metadata": {},
     "output_type": "display_data"
    }
   ],
   "source": [
    "summary(arima(ClosingRelativeDiff_train[2:381], order = c(2,0,2), fixed = c(0, NA, 0, NA, NA)))"
   ]
  },
  {
   "cell_type": "markdown",
   "metadata": {},
   "source": [
    "#### ClosingLR"
   ]
  },
  {
   "cell_type": "code",
   "execution_count": 38,
   "metadata": {
    "vscode": {
     "languageId": "r"
    }
   },
   "outputs": [
    {
     "data": {
      "text/plain": [
       "\n",
       "Call:\n",
       "arima(x = ClosingLR_train[2:381], order = c(2, 0, 2))\n",
       "\n",
       "Coefficients:\n",
       "          ar1      ar2     ma1     ma2  intercept\n",
       "      -0.3416  -0.2667  0.2856  0.1442    -0.0009\n",
       "s.e.   0.3967   0.4031  0.4075  0.4145     0.0012\n",
       "\n",
       "sigma^2 estimated as 0.0007157:  log likelihood = 836.82,  aic = -1661.64\n",
       "\n",
       "Training set error measures:\n",
       "                         ME       RMSE        MAE MPE MAPE      MASE\n",
       "Training set 0.000001523173 0.02675215 0.01934247 NaN  Inf 0.6848024\n",
       "                      ACF1\n",
       "Training set -0.0005118684"
      ]
     },
     "metadata": {},
     "output_type": "display_data"
    }
   ],
   "source": [
    "summary(arima(ClosingLR_train[2:381], order = c(2,0,2)))"
   ]
  },
  {
   "cell_type": "code",
   "execution_count": 39,
   "metadata": {
    "vscode": {
     "languageId": "r"
    }
   },
   "outputs": [
    {
     "name": "stderr",
     "output_type": "stream",
     "text": [
      "Warning message in arima(ClosingLR_train[2:381], order = c(2, 0, 2), fixed = c(0, :\n",
      "\"some AR parameters were fixed: setting transform.pars = FALSE\"\n"
     ]
    },
    {
     "data": {
      "text/plain": [
       "\n",
       "Call:\n",
       "arima(x = ClosingLR_train[2:381], order = c(2, 0, 2), fixed = c(0, NA, 0, NA, \n",
       "    NA))\n",
       "\n",
       "Coefficients:\n",
       "      ar1      ar2  ma1      ma2  intercept\n",
       "        0  -0.0548    0  -0.0533    -0.0009\n",
       "s.e.    0   0.4443    0   0.4440     0.0012\n",
       "\n",
       "sigma^2 estimated as 0.0007193:  log likelihood = 835.86,  aic = -1663.72\n",
       "\n",
       "Training set error measures:\n",
       "                         ME       RMSE        MAE MPE MAPE     MASE        ACF1\n",
       "Training set 0.000006997088 0.02682007 0.01945761 NaN  Inf 0.688879 -0.05645572"
      ]
     },
     "metadata": {},
     "output_type": "display_data"
    }
   ],
   "source": [
    "summary(arima(ClosingLR_train[2:381], order = c(2,0,2), fixed = c(0, NA, 0, NA, NA)))"
   ]
  },
  {
   "cell_type": "code",
   "execution_count": 40,
   "metadata": {
    "vscode": {
     "languageId": "r"
    }
   },
   "outputs": [
    {
     "data": {
      "text/plain": [
       "\n",
       "Call:\n",
       "arma(x = ClosingLR_train[2:381], order = c(2, 2))\n",
       "\n",
       "Model:\n",
       "ARMA(2,2)\n",
       "\n",
       "Residuals:\n",
       "      Min        1Q    Median        3Q       Max \n",
       "-0.083024 -0.011477  0.002463  0.013930  0.070822 \n",
       "\n",
       "Coefficient(s):\n",
       "           Estimate  Std. Error  t value Pr(>|t|)\n",
       "ar1       -0.097845    0.404949   -0.242    0.809\n",
       "ar2       -0.227152    0.355226   -0.639    0.523\n",
       "ma1        0.034121    0.413979    0.082    0.934\n",
       "ma2        0.116888    0.373021    0.313    0.754\n",
       "intercept -0.001258    0.001637   -0.769    0.442\n",
       "\n",
       "Fit:\n",
       "sigma^2 estimated as 0.0007208,  Conditional Sum-of-Squares = 0.27,  AIC = -1660.95\n"
      ]
     },
     "metadata": {},
     "output_type": "display_data"
    }
   ],
   "source": [
    "summary(arma(ClosingLR_train[2:381], order = c(2,2)))"
   ]
  },
  {
   "cell_type": "markdown",
   "metadata": {},
   "source": [
    "## Forecasting"
   ]
  },
  {
   "cell_type": "markdown",
   "metadata": {},
   "source": [
    "##### Export fitted/forecast values and actual values"
   ]
  },
  {
   "cell_type": "markdown",
   "metadata": {},
   "source": [
    "Model 1"
   ]
  },
  {
   "cell_type": "code",
   "execution_count": 41,
   "metadata": {
    "vscode": {
     "languageId": "r"
    }
   },
   "outputs": [],
   "source": [
    "fitted_1 <- append(arma(ClosingDiff1_train[2:381], order = c(2,2))$fitted, NA, after = 1)\n",
    "resid_1 <- append(arma(ClosingDiff1_train[2:381], order = c(2,2))$resid, NA, after = 1)"
   ]
  },
  {
   "cell_type": "code",
   "execution_count": 42,
   "metadata": {
    "vscode": {
     "languageId": "r"
    }
   },
   "outputs": [
    {
     "data": {
      "text/html": [
       "381"
      ],
      "text/latex": [
       "381"
      ],
      "text/markdown": [
       "381"
      ],
      "text/plain": [
       "[1] 381"
      ]
     },
     "metadata": {},
     "output_type": "display_data"
    }
   ],
   "source": [
    "length(fitted_1)"
   ]
  },
  {
   "cell_type": "markdown",
   "metadata": {},
   "source": [
    "Model 4"
   ]
  },
  {
   "cell_type": "code",
   "execution_count": 43,
   "metadata": {
    "vscode": {
     "languageId": "r"
    }
   },
   "outputs": [],
   "source": [
    "fitted_4 <-append(arma(ClosingRelativeDiff_train[2:381], order = c(2,2))$fitted, NA, after = 1)\n",
    "resid_4 <- append(arma(ClosingRelativeDiff_train[2:381], order = c(2,2))$resid, NA, after = 1)"
   ]
  },
  {
   "cell_type": "markdown",
   "metadata": {},
   "source": [
    "Model 7"
   ]
  },
  {
   "cell_type": "code",
   "execution_count": 44,
   "metadata": {
    "vscode": {
     "languageId": "r"
    }
   },
   "outputs": [],
   "source": [
    "fitted_7 <- append(arma(ClosingLR_train[2:381], order = c(2,2))$fitted, NA, after = 1)\n",
    "resid_7 <- append(arma(ClosingLR_train[2:381], order = c(2,2))$resid, NA, after = 1)"
   ]
  },
  {
   "cell_type": "code",
   "execution_count": 45,
   "metadata": {
    "vscode": {
     "languageId": "r"
    }
   },
   "outputs": [
    {
     "data": {
      "text/html": [
       "380"
      ],
      "text/latex": [
       "380"
      ],
      "text/markdown": [
       "380"
      ],
      "text/plain": [
       "[1] 380"
      ]
     },
     "metadata": {},
     "output_type": "display_data"
    }
   ],
   "source": [
    "length(arma(ClosingLR_train[2:381], order = c(2,2))$resid)"
   ]
  },
  {
   "cell_type": "code",
   "execution_count": 46,
   "metadata": {
    "vscode": {
     "languageId": "r"
    }
   },
   "outputs": [],
   "source": [
    "fitted_2 <- c(rep(\"-\", 381))\n",
    "fitted_3 <- c(rep(\"-\", 381))\n",
    "fitted_5 <- c(rep(\"-\", 381))\n",
    "fitted_6 <- c(rep(\"-\", 381))\n",
    "fitted_8 <- c(rep(\"-\", 381))\n",
    "fitted_9 <- c(rep(\"-\", 381))"
   ]
  },
  {
   "cell_type": "code",
   "execution_count": 47,
   "metadata": {
    "vscode": {
     "languageId": "r"
    }
   },
   "outputs": [],
   "source": [
    "results <- as.data.frame(cbind(Closing[1:381],ClosingDiff1_train, fitted_1, resid_1, fitted_2, fitted_3, ClosingRelativeDiff_train, fitted_4, resid_4,fitted_5,fitted_6, ClosingLR_train, fitted_7, resid_7),fitted_8, fitted_9)"
   ]
  },
  {
   "cell_type": "code",
   "execution_count": 48,
   "metadata": {
    "vscode": {
     "languageId": "r"
    }
   },
   "outputs": [],
   "source": [
    "colnames(results)[1] = 'Price'"
   ]
  },
  {
   "cell_type": "code",
   "execution_count": 49,
   "metadata": {
    "vscode": {
     "languageId": "r"
    }
   },
   "outputs": [],
   "source": [
    "write.csv(results, \"D:\\\\results.csv\", row.names = FALSE)"
   ]
  },
  {
   "cell_type": "code",
   "execution_count": 50,
   "metadata": {
    "vscode": {
     "languageId": "r"
    }
   },
   "outputs": [
    {
     "data": {
      "text/plain": [
       "    Point Forecast     Lo 80    Hi 80     Lo 95    Hi 95\n",
       "381      -10.93844 -483.9657 462.0888 -734.3711 712.4943\n",
       "382      -18.93208 -492.7419 454.8778 -743.5617 705.6976\n",
       "383      -13.95741 -490.1128 462.1979 -742.1742 714.2593\n",
       "384      -12.02280 -488.9056 464.8600 -741.3520 717.3064\n",
       "385      -14.77499 -491.8179 462.2680 -744.3492 714.7992\n",
       "386      -14.76671 -492.0524 462.5190 -744.7122 715.1787\n",
       "387      -13.57604 -490.8622 463.7101 -743.5222 716.3701\n",
       "388      -13.94608 -491.2808 463.3886 -743.9665 716.0743\n",
       "389      -14.34841 -491.6865 462.9897 -744.3740 715.6772\n",
       "390      -14.06415 -491.4082 463.2799 -744.0989 715.9706\n",
       "391      -13.97721 -491.3237 463.3693 -744.0157 716.0613\n",
       "392      -14.12721 -491.4741 463.2196 -744.1662 715.9118\n",
       "393      -14.11874 -491.4663 463.2288 -744.1589 715.9214\n",
       "394      -14.05631 -491.4039 463.2913 -744.0964 715.9838\n",
       "395      -14.07920 -491.4269 463.2685 -744.1195 715.9611\n",
       "396      -14.09922 -491.4469 463.2485 -744.1396 715.9411\n",
       "397      -14.08313 -491.4309 463.2646 -744.1235 715.9572\n",
       "398      -14.07940 -491.4272 463.2683 -744.1198 715.9610\n",
       "399      -14.08753 -491.4353 463.2602 -744.1279 715.9529\n",
       "400      -14.08664 -491.4344 463.2611 -744.1270 715.9538\n",
       "401      -14.08339 -491.4312 463.2644 -744.1238 715.9570\n",
       "402      -14.08478 -491.4325 463.2630 -744.1252 715.9556\n",
       "403      -14.08576 -491.4335 463.2620 -744.1262 715.9546\n",
       "404      -14.08486 -491.4326 463.2629 -744.1253 715.9555\n",
       "405      -14.08471 -491.4325 463.2630 -744.1251 715.9557\n",
       "406      -14.08515 -491.4329 463.2626 -744.1255 715.9553\n",
       "407      -14.08508 -491.4328 463.2627 -744.1255 715.9553\n",
       "408      -14.08491 -491.4327 463.2628 -744.1253 715.9555\n",
       "409      -14.08499 -491.4327 463.2628 -744.1254 715.9554\n",
       "410      -14.08504 -491.4328 463.2627 -744.1254 715.9554\n",
       "411      -14.08499 -491.4327 463.2628 -744.1254 715.9554\n",
       "412      -14.08498 -491.4327 463.2628 -744.1254 715.9554\n",
       "413      -14.08501 -491.4328 463.2628 -744.1254 715.9554\n",
       "414      -14.08500 -491.4328 463.2628 -744.1254 715.9554\n",
       "415      -14.08499 -491.4327 463.2628 -744.1254 715.9554"
      ]
     },
     "metadata": {},
     "output_type": "display_data"
    }
   ],
   "source": [
    "forecast(arima(ClosingDiff1_train[2:381], order = c(2,0,2)), h=35)"
   ]
  },
  {
   "cell_type": "code",
   "execution_count": 51,
   "metadata": {
    "vscode": {
     "languageId": "r"
    }
   },
   "outputs": [
    {
     "name": "stderr",
     "output_type": "stream",
     "text": [
      "Warning message in arima(ClosingDiff1_train[2:381], order = c(2, 0, 2), fixed = c(0, :\n",
      "\"some AR parameters were fixed: setting transform.pars = FALSE\"\n"
     ]
    },
    {
     "data": {
      "text/plain": [
       "    Point Forecast     Lo 80    Hi 80     Lo 95    Hi 95\n",
       "381      -10.37228 -484.8629 464.1184 -736.0431 715.2986\n",
       "382      -20.01181 -494.5025 454.4788 -745.6827 705.6590\n",
       "383      -15.03892 -492.2837 462.2059 -744.9218 714.8440\n",
       "384      -13.02961 -490.2744 464.2152 -742.9125 716.8533\n",
       "385      -14.06618 -491.4303 463.2979 -744.1316 715.9992\n",
       "386      -14.48501 -491.8491 462.8791 -744.5504 715.5804\n",
       "387      -14.26894 -491.6382 463.1003 -744.3422 715.8044\n",
       "388      -14.18164 -491.5509 463.1876 -744.2549 715.8917\n",
       "389      -14.22668 -491.5962 463.1428 -744.3003 715.8470\n",
       "390      -14.24488 -491.6144 463.1246 -744.3185 715.8288\n",
       "391      -14.23549 -491.6050 463.1340 -744.3091 715.8382\n",
       "392      -14.23169 -491.6012 463.1378 -744.3054 715.8420\n",
       "393      -14.23365 -491.6032 463.1359 -744.3073 715.8400\n",
       "394      -14.23444 -491.6039 463.1351 -744.3081 715.8392\n",
       "395      -14.23403 -491.6035 463.1355 -744.3077 715.8396\n",
       "396      -14.23387 -491.6034 463.1356 -744.3075 715.8398\n",
       "397      -14.23395 -491.6035 463.1356 -744.3076 715.8397\n",
       "398      -14.23399 -491.6035 463.1355 -744.3076 715.8397\n",
       "399      -14.23397 -491.6035 463.1355 -744.3076 715.8397\n",
       "400      -14.23396 -491.6035 463.1355 -744.3076 715.8397\n",
       "401      -14.23397 -491.6035 463.1355 -744.3076 715.8397\n",
       "402      -14.23397 -491.6035 463.1355 -744.3076 715.8397\n",
       "403      -14.23397 -491.6035 463.1355 -744.3076 715.8397\n",
       "404      -14.23397 -491.6035 463.1355 -744.3076 715.8397\n",
       "405      -14.23397 -491.6035 463.1355 -744.3076 715.8397\n",
       "406      -14.23397 -491.6035 463.1355 -744.3076 715.8397\n",
       "407      -14.23397 -491.6035 463.1355 -744.3076 715.8397\n",
       "408      -14.23397 -491.6035 463.1355 -744.3076 715.8397\n",
       "409      -14.23397 -491.6035 463.1355 -744.3076 715.8397\n",
       "410      -14.23397 -491.6035 463.1355 -744.3076 715.8397\n",
       "411      -14.23397 -491.6035 463.1355 -744.3076 715.8397\n",
       "412      -14.23397 -491.6035 463.1355 -744.3076 715.8397\n",
       "413      -14.23397 -491.6035 463.1355 -744.3076 715.8397\n",
       "414      -14.23397 -491.6035 463.1355 -744.3076 715.8397\n",
       "415      -14.23397 -491.6035 463.1355 -744.3076 715.8397"
      ]
     },
     "metadata": {},
     "output_type": "display_data"
    }
   ],
   "source": [
    "forecast(arima(ClosingDiff1_train[2:381], order = c(2,0,2), fixed = c(0,NA,0,NA,NA)), h=35)"
   ]
  },
  {
   "cell_type": "code",
   "execution_count": 52,
   "metadata": {
    "vscode": {
     "languageId": "r"
    }
   },
   "outputs": [
    {
     "data": {
      "text/plain": [
       "    Point Forecast       Lo 80      Hi 80       Lo 95      Hi 95\n",
       "381  -0.0001823481 -0.03424613 0.03388143 -0.05227840 0.05191370\n",
       "382  -0.0011084879 -0.03523483 0.03301785 -0.05330022 0.05108324\n",
       "383  -0.0004310422 -0.03475323 0.03389114 -0.05292229 0.05206021\n",
       "384  -0.0004344946 -0.03479128 0.03392229 -0.05297866 0.05210967\n",
       "385  -0.0005793583 -0.03493769 0.03377898 -0.05312590 0.05196718\n",
       "386  -0.0005352249 -0.03489625 0.03382580 -0.05308588 0.05201543\n",
       "387  -0.0005172453 -0.03487832 0.03384383 -0.05306797 0.05203348\n",
       "388  -0.0005321354 -0.03489329 0.03382902 -0.05308299 0.05201872\n",
       "389  -0.0005315476 -0.03489272 0.03382963 -0.05308243 0.05201933\n",
       "390  -0.0005285169 -0.03488969 0.03383266 -0.05307940 0.05202236\n",
       "391  -0.0005295512 -0.03489073 0.03383162 -0.05308043 0.05202133\n",
       "392  -0.0005298941 -0.03489107 0.03383128 -0.05308078 0.05202099\n",
       "393  -0.0005295687 -0.03489074 0.03383161 -0.05308045 0.05202131\n",
       "394  -0.0005295923 -0.03489077 0.03383158 -0.05308048 0.05202129\n",
       "395  -0.0005296553 -0.03489083 0.03383152 -0.05308054 0.05202123\n",
       "396  -0.0005296313 -0.03489081 0.03383154 -0.05308051 0.05202125\n",
       "397  -0.0005296250 -0.03489080 0.03383155 -0.05308051 0.05202126\n",
       "398  -0.0005296320 -0.03489081 0.03383154 -0.05308052 0.05202125\n",
       "399  -0.0005296313 -0.03489081 0.03383154 -0.05308051 0.05202125\n",
       "400  -0.0005296300 -0.03489081 0.03383155 -0.05308051 0.05202125\n",
       "401  -0.0005296305 -0.03489081 0.03383155 -0.05308051 0.05202125\n",
       "402  -0.0005296307 -0.03489081 0.03383154 -0.05308051 0.05202125\n",
       "403  -0.0005296305 -0.03489081 0.03383155 -0.05308051 0.05202125\n",
       "404  -0.0005296305 -0.03489081 0.03383155 -0.05308051 0.05202125\n",
       "405  -0.0005296305 -0.03489081 0.03383155 -0.05308051 0.05202125\n",
       "406  -0.0005296305 -0.03489081 0.03383155 -0.05308051 0.05202125\n",
       "407  -0.0005296305 -0.03489081 0.03383155 -0.05308051 0.05202125\n",
       "408  -0.0005296305 -0.03489081 0.03383155 -0.05308051 0.05202125\n",
       "409  -0.0005296305 -0.03489081 0.03383155 -0.05308051 0.05202125\n",
       "410  -0.0005296305 -0.03489081 0.03383155 -0.05308051 0.05202125\n",
       "411  -0.0005296305 -0.03489081 0.03383155 -0.05308051 0.05202125\n",
       "412  -0.0005296305 -0.03489081 0.03383155 -0.05308051 0.05202125\n",
       "413  -0.0005296305 -0.03489081 0.03383155 -0.05308051 0.05202125\n",
       "414  -0.0005296305 -0.03489081 0.03383155 -0.05308051 0.05202125\n",
       "415  -0.0005296305 -0.03489081 0.03383155 -0.05308051 0.05202125"
      ]
     },
     "metadata": {},
     "output_type": "display_data"
    }
   ],
   "source": [
    "forecast(arima(ClosingRelativeDiff_train[2:381], order = c(2,0,2)), h=35)"
   ]
  },
  {
   "cell_type": "code",
   "execution_count": 53,
   "metadata": {
    "vscode": {
     "languageId": "r"
    }
   },
   "outputs": [
    {
     "name": "stderr",
     "output_type": "stream",
     "text": [
      "Warning message in arima(ClosingRelativeDiff_train[2:381], order = c(2, 0, 2), fixed = c(0, :\n",
      "\"some AR parameters were fixed: setting transform.pars = FALSE\"\n"
     ]
    },
    {
     "data": {
      "text/plain": [
       "    Point Forecast       Lo 80      Hi 80       Lo 95      Hi 95\n",
       "381  -0.0001743378 -0.03432580 0.03397713 -0.05240450 0.05205582\n",
       "382  -0.0010462416 -0.03519771 0.03310522 -0.05327640 0.05118392\n",
       "383  -0.0005504917 -0.03491223 0.03381124 -0.05310223 0.05200125\n",
       "384  -0.0004937850 -0.03485552 0.03386795 -0.05304552 0.05205795\n",
       "385  -0.0005260275 -0.03488865 0.03383659 -0.05307912 0.05202707\n",
       "386  -0.0005297155 -0.03489234 0.03383291 -0.05308281 0.05202338\n",
       "387  -0.0005276186 -0.03489024 0.03383501 -0.05308072 0.05202548\n",
       "388  -0.0005273787 -0.03489000 0.03383525 -0.05308048 0.05202572\n",
       "389  -0.0005275151 -0.03489014 0.03383511 -0.05308061 0.05202558\n",
       "390  -0.0005275307 -0.03489016 0.03383509 -0.05308063 0.05202557\n",
       "391  -0.0005275218 -0.03489015 0.03383510 -0.05308062 0.05202558\n",
       "392  -0.0005275208 -0.03489015 0.03383510 -0.05308062 0.05202558\n",
       "393  -0.0005275214 -0.03489015 0.03383510 -0.05308062 0.05202558\n",
       "394  -0.0005275214 -0.03489015 0.03383510 -0.05308062 0.05202558\n",
       "395  -0.0005275214 -0.03489015 0.03383510 -0.05308062 0.05202558\n",
       "396  -0.0005275214 -0.03489015 0.03383510 -0.05308062 0.05202558\n",
       "397  -0.0005275214 -0.03489015 0.03383510 -0.05308062 0.05202558\n",
       "398  -0.0005275214 -0.03489015 0.03383510 -0.05308062 0.05202558\n",
       "399  -0.0005275214 -0.03489015 0.03383510 -0.05308062 0.05202558\n",
       "400  -0.0005275214 -0.03489015 0.03383510 -0.05308062 0.05202558\n",
       "401  -0.0005275214 -0.03489015 0.03383510 -0.05308062 0.05202558\n",
       "402  -0.0005275214 -0.03489015 0.03383510 -0.05308062 0.05202558\n",
       "403  -0.0005275214 -0.03489015 0.03383510 -0.05308062 0.05202558\n",
       "404  -0.0005275214 -0.03489015 0.03383510 -0.05308062 0.05202558\n",
       "405  -0.0005275214 -0.03489015 0.03383510 -0.05308062 0.05202558\n",
       "406  -0.0005275214 -0.03489015 0.03383510 -0.05308062 0.05202558\n",
       "407  -0.0005275214 -0.03489015 0.03383510 -0.05308062 0.05202558\n",
       "408  -0.0005275214 -0.03489015 0.03383510 -0.05308062 0.05202558\n",
       "409  -0.0005275214 -0.03489015 0.03383510 -0.05308062 0.05202558\n",
       "410  -0.0005275214 -0.03489015 0.03383510 -0.05308062 0.05202558\n",
       "411  -0.0005275214 -0.03489015 0.03383510 -0.05308062 0.05202558\n",
       "412  -0.0005275214 -0.03489015 0.03383510 -0.05308062 0.05202558\n",
       "413  -0.0005275214 -0.03489015 0.03383510 -0.05308062 0.05202558\n",
       "414  -0.0005275214 -0.03489015 0.03383510 -0.05308062 0.05202558\n",
       "415  -0.0005275214 -0.03489015 0.03383510 -0.05308062 0.05202558"
      ]
     },
     "metadata": {},
     "output_type": "display_data"
    }
   ],
   "source": [
    "forecast(arima(ClosingRelativeDiff_train[2:381], order = c(2,0,2), fixed = c(0, NA, 0, NA, NA)), h=35)"
   ]
  },
  {
   "cell_type": "code",
   "execution_count": 54,
   "metadata": {
    "vscode": {
     "languageId": "r"
    }
   },
   "outputs": [
    {
     "data": {
      "text/html": [
       "A Time Series:<br><style>\n",
       ".list-inline {list-style: none; margin:0; padding: 0}\n",
       ".list-inline>li {display: inline-block}\n",
       ".list-inline>li:not(:last-child)::after {content: \"\\00b7\"; padding: 0 .5ex}\n",
       "</style>\n",
       "<ol class=list-inline><li>0.0166651713319034</li><li>0.0147692151000953</li><li>0.049224219990152</li><li>-0.0676780656075549</li><li>-0.00409042023863524</li><li>-0.0358520914319433</li><li>-0.0698054439278747</li><li>0.0411675934092889</li><li>-0.0737021332719167</li><li>-0.0640912232232961</li><li>0.0294145786020151</li><li>0.0554933636323836</li><li>-0.00879776714553905</li><li>-0.067397972937001</li><li>0.0575008264429711</li><li>-0.0171976015218214</li><li>0.0164498628350201</li><li>0.0213375729552337</li><li>0.0634497922325428</li><li>0.010161143838278</li><li>0.000900753817273699</li><li>0.0398109108079647</li><li>-0.011037613286106</li><li>-0.0281216075636339</li><li>0.0183952328095868</li><li>0.00448172021409827</li><li>0.0270792101448048</li><li>-0.000748090066247375</li><li>-0.00550157399948879</li><li>-0.0335345303183981</li><li>0.0177843622615948</li><li>-0.0232909793671468</li><li>0.00871751252125285</li><li>-0.030137921851988</li><li>0.00632226739824314</li><li>-0.00164522045498589</li><li>-0.0119095363435768</li><li>0.00593673034726622</li><li>-0.0149738426971455</li><li>0.0101839635776674</li><li>-0.0267218702160685</li><li>-0.00812091721600911</li><li>-0.0300238736381195</li><li>-0.032059151868377</li><li>0.0436543650561132</li><li>-0.00493212342403462</li><li>0.00693957161305096</li><li>-0.0138186300161869</li><li>0.00635107162166395</li><li>0.0187793196603846</li><li>0.0270219619543904</li><li>-0.00185581372728497</li><li>-0.00955139209239913</li><li>-0.0349420542191347</li><li>0.0104685766465776</li><li>-0.0199129321576854</li><li>-0.0037432396960657</li><li>0.00767104093742566</li><li>0.013740592570324</li><li>0.012370673773884</li><li>0.00542956318744022</li><li>0.0167249678790654</li><li>-0.0255476149438552</li><li>-0.0367486458612696</li><li>0.00180123060873381</li><li>-0.0112694023111814</li><li>-0.0533992120606581</li><li>-0.0171527875121364</li><li>-0.077102084882347</li><li>-0.0360374043319241</li><li>0.0111777358285894</li><li>0.00462509704883172</li><li>-0.0649562555028109</li><li>0.039705894282548</li><li>-0.00824907547885498</li><li>-0.0033766496120028</li><li>0.0255527100471699</li><li>0.066925353031013</li><li>0.0155281302334326</li><li>-0.01040269585001</li><li>-0.0728283255619366</li><li>0.021465098712745</li><li>-0.0115199534314962</li><li>-0.0644576905892225</li><li>-0.0762412690377919</li><li>0.00222222963721314</li><li>0.0638260656560818</li><li>0.0290899537397203</li><li>0.0203105516364379</li><li>0.000783761784836034</li><li>-0.00249280024357374</li><li>0.00850424171119457</li><li>0.0428954136702472</li><li>-0.0144829183768572</li><li>0.0192212582183674</li><li>0.00562316180768126</li><li>0.0110342791941621</li><li>0.0310804450204656</li><li>-0.0262192211405055</li><li>-0.00143750317089963</li><li>0.0185774410452101</li><li>0.0694262984674251</li><li>0.0506464698227518</li><li>0.0413902380307811</li><li>-0.0535492007872371</li><li>0.0159053303764333</li><li>-0.00528738483953135</li><li>-0.045375819372838</li><li>0.0581460800509963</li><li>0.0429339132528015</li><li>-0.0587426280890716</li><li>-0.0728696331040115</li><li>-0.0834791429641123</li><li>0.0592744821681153</li><li>-0.0249134699719587</li><li>0.0310403451017288</li><li>0.000437293598261584</li><li>-0.00694951792007215</li><li>-0.0103624426809247</li><li>-0.00124901366505835</li><li>-0.00702517995217429</li><li>-0.036644854565901</li><li>-0.0174538921292897</li><li>-0.00366267830965516</li><li>0.0163614978772426</li><li>-0.0366407205974996</li><li>0.0356419699325963</li><li>0.00200545037727367</li><li>0.0141294877266623</li><li>-0.00691323222945912</li><li>0.00845614423489388</li><li>0.026951496567633</li><li>0.0072724230704759</li><li>-0.00740740382402147</li><li>-0.0154246882900835</li><li>-0.00123242513645644</li><li>-0.0114926319530485</li><li>0.0086342195946023</li><li>0.0339523291559819</li><li>-0.0108035252868837</li><li>0.0147219180889677</li><li>0.0169817405515367</li><li>0.0000607887844774405</li><li>-0.0047128842778024</li><li>0.0282805037856236</li><li>0.00197851014973898</li><li>0.00808301622913595</li><li>-0.00708972747891337</li><li>-0.0100107085482958</li><li>0.014102206245716</li><li>0.000876267649515729</li><li>0.0101009692609733</li><li>-0.00984619340848643</li><li>-0.00978026623221837</li><li>-0.0155011654060234</li><li>0.00306730345295223</li><li>0.0182976618513749</li><li>0.0136723799230418</li><li>0.00694515925693442</li><li>0.0121325906906167</li><li>-0.0197527822951281</li><li>-0.00631736128810462</li><li>0.00872199831980121</li><li>0.00160978512632958</li><li>0.0237873539856375</li><li>-0.0195572793680598</li><li>-0.0196627399010689</li><li>0.0220386781793963</li><li>0.00436137643633617</li><li>0.00848745651417515</li><li>0.000532891691436936</li><li>0.0219774451554227</li><li>-0.0116962864696631</li><li>-0.0516308046246544</li><li>0.0103847836598365</li><li>-0.0219059268064132</li><li>0.0185814413988442</li><li>-0.0190744502877532</li><li>-0.0439879525622404</li><li>0.007817792949975</li><li>-0.0104512363865383</li><li>-0.0198760545310223</li><li>-0.0175872872007135</li><li>-0.0737777029425051</li><li>0.00505551263958436</li><li>0.036762304774953</li><li>-0.0526685300818207</li><li>-0.0659802261673899</li><li>0.0210666491820216</li><li>-0.072797473906864</li><li>0.0372652410048716</li><li>-0.00608397762102581</li><li>0.0254414593528971</li><li>0.0333177720164447</li><li>-0.000370783668386122</li><li>-0.00534731020622055</li><li>-0.0150096647779487</li><li>-0.0526367911931984</li><li>-0.0444334679751088</li><li>0.00268449077743256</li><li>0.00206800099876315</li><li>0.0431173052729538</li><li>-0.00180586337716125</li><li>0.0045427673864719</li><li>-0.000893024270295723</li><li>-0.0135691681562086</li><li>-0.00940464501026166</li><li>-0.0313395499173089</li><li>-0.0022106804972546</li><li>0.0634295087236907</li><li>0.0432055622448394</li><li>-0.046714023413923</li><li>0.0327066899414805</li><li>-0.0335909129719542</li><li>-0.0670092232800317</li><li>0.045861460717941</li><li>-0.00328096771734411</li><li>0.00985176407239747</li><li>0.0186970067747242</li><li>0.00620879830900462</li><li>0.0134595240880943</li><li>0.0155177113316182</li><li>0.0258000970414113</li><li>0.0442237826943612</li><li>0.00517542635061552</li><li>0.0349165861077634</li><li>-0.0382634998573117</li><li>0.0456798063957801</li><li>-0.0189311799511086</li><li>-0.0475744505425552</li><li>-0.000576498824016848</li><li>0.018300078635891</li><li>0.00521690113192862</li><li>-0.00115276440314885</li><li>0.0216521643804234</li><li>0.00179172001449398</li><li>0.00370975969139461</li><li>0.00448791585938977</li><li>-0.0299370426517834</li><li>-0.0368045008037569</li><li>-0.0281989152877566</li><li>0.020568844113753</li><li>0.0244858681964436</li><li>-0.0555315635810385</li><li>0.0324340587817346</li><li>-0.00473533456836867</li><li>-0.007166693391395</li><li>0.013498941830952</li><li>0.0365395270595768</li><li>0.0008880454248491</li><li>0.0701499123870398</li><li>0.00258379928064791</li><li>-0.00467979429622656</li><li>0.00658886339369575</li><li>-0.00455511264789244</li><li>0.0111542304486656</li><li>0.00915209583765631</li><li>0.00238133398280697</li><li>0.0266912867494864</li><li>0.00200187458292621</li><li>0.00778403644080313</li><li>0.000320231194504896</li><li>0.013531148965301</li><li>0.00573281812297169</li><li>-0.034484878655577</li><li>0.00307985859814856</li><li>0.00951188602088151</li><li>0.0360168291635667</li><li>-0.0241372347935867</li><li>0.00619869800323545</li><li>-0.0236268066334215</li><li>0.00133238871661219</li><li>-0.0263614945256822</li><li>0.0128584777204079</li><li>0.0117352713426742</li><li>0.0326670725135589</li><li>0.00762176291117206</li><li>0.0235508413338453</li><li>-0.0144374030165271</li><li>-0.034776070861648</li><li>0.0131488686545542</li><li>-0.0180139433922942</li><li>0.00344170956447532</li><li>0.0069341302138314</li><li>0.0222379067337117</li><li>0.0312223846266527</li><li>-0.0236412261344665</li><li>0.00965293857892358</li><li>0.00538230394718676</li><li>0.0191944335522061</li><li>0.022123041186045</li><li>-0.000661313776467878</li><li>0.0176172445741725</li><li>-0.0223780738086996</li><li>0.0508320715558917</li><li>-0.0178554664638824</li><li>0.0172338434304765</li><li>-0.0439697173390955</li><li>0.0270639162330092</li><li>-0.00575506443830769</li><li>0.00883721539987946</li><li>0.00379992382630992</li><li>0.00513998455476617</li><li>0.00170834946575295</li><li>0.00495735971482724</li><li>-0.0102506430850843</li><li>0.00078391340383114</li><li>-0.000330041047517237</li><li>0.0238836575468456</li><li>-0.00137943374540061</li><li>-0.0194512272458436</li><li>-0.00914377438687124</li><li>0.0209505735285827</li><li>0.00622939914531728</li><li>0.0224529281747766</li><li>-0.0133315649105187</li><li>-0.0244784322570165</li><li>0.0163050054691003</li><li>0.0108998676432122</li><li>-0.0176492981229783</li><li>-0.00359192583663516</li><li>-0.0292662369631536</li><li>0.0155846055093558</li><li>-0.0162054652796764</li><li>0.00265067110228629</li><li>0.00277257027762884</li><li>0.0208555016249941</li><li>-0.0049688709213843</li><li>0.00620215284641112</li><li>0.0186177807584053</li><li>0.00647515369596996</li><li>0.00697660155574711</li><li>-0.00670986536988419</li><li>0.00826931973141508</li><li>-0.00689490113192929</li><li>0.0165715465494001</li><li>-0.0141350594950726</li><li>0.00945095139163246</li><li>0.00678086734287487</li><li>0.0100474921757302</li><li>0.00575541938859238</li><li>-0.009491166920484</li><li>-0.00319541434164409</li><li>0.0105869610903194</li><li>0.00166487989331238</li><li>0.00605520262408718</li><li>0.000713365917019307</li><li>0.00133145241992179</li><li>0.000946377573886863</li><li>0.0227072377228524</li><li>-0.00857810954469858</li><li>-0.000918542197845512</li><li>0.0024353401211488</li><li>-0.00249165408393014</li><li>0.0123684002559629</li><li>-0.00260971439204576</li><li>-0.00519188598673609</li><li>-0.0147997255256338</li><li>-0.00422881827302676</li><li>0.00329763411410654</li><li>0.00505737679136839</li><li>0.00542330058189607</li><li>0.00868636689945087</li><li>-0.00200458818815074</li><li>-0.00220419604125625</li><li>-0.00354205275167681</li><li>0.0151292722061963</li><li>-0.0166554802108478</li><li>-0.00947730201785779</li><li>-0.00963084092238463</li><li>0.00751012294996159</li><li>0.00866878037752209</li><li>-0.0162841747736762</li><li>-0.0109560560908485</li><li>0.00563733160455696</li><li>0.00474073093141806</li><li>0.00258219098750034</li><li>0.00853560033104437</li><li>-0.00256499227125455</li><li>0.00540747627600329</li></ol>\n"
      ],
      "text/latex": [
       "A Time Series:\\\\\\begin{enumerate*}\n",
       "\\item 0.0166651713319034\n",
       "\\item 0.0147692151000953\n",
       "\\item 0.049224219990152\n",
       "\\item -0.0676780656075549\n",
       "\\item -0.00409042023863524\n",
       "\\item -0.0358520914319433\n",
       "\\item -0.0698054439278747\n",
       "\\item 0.0411675934092889\n",
       "\\item -0.0737021332719167\n",
       "\\item -0.0640912232232961\n",
       "\\item 0.0294145786020151\n",
       "\\item 0.0554933636323836\n",
       "\\item -0.00879776714553905\n",
       "\\item -0.067397972937001\n",
       "\\item 0.0575008264429711\n",
       "\\item -0.0171976015218214\n",
       "\\item 0.0164498628350201\n",
       "\\item 0.0213375729552337\n",
       "\\item 0.0634497922325428\n",
       "\\item 0.010161143838278\n",
       "\\item 0.000900753817273699\n",
       "\\item 0.0398109108079647\n",
       "\\item -0.011037613286106\n",
       "\\item -0.0281216075636339\n",
       "\\item 0.0183952328095868\n",
       "\\item 0.00448172021409827\n",
       "\\item 0.0270792101448048\n",
       "\\item -0.000748090066247375\n",
       "\\item -0.00550157399948879\n",
       "\\item -0.0335345303183981\n",
       "\\item 0.0177843622615948\n",
       "\\item -0.0232909793671468\n",
       "\\item 0.00871751252125285\n",
       "\\item -0.030137921851988\n",
       "\\item 0.00632226739824314\n",
       "\\item -0.00164522045498589\n",
       "\\item -0.0119095363435768\n",
       "\\item 0.00593673034726622\n",
       "\\item -0.0149738426971455\n",
       "\\item 0.0101839635776674\n",
       "\\item -0.0267218702160685\n",
       "\\item -0.00812091721600911\n",
       "\\item -0.0300238736381195\n",
       "\\item -0.032059151868377\n",
       "\\item 0.0436543650561132\n",
       "\\item -0.00493212342403462\n",
       "\\item 0.00693957161305096\n",
       "\\item -0.0138186300161869\n",
       "\\item 0.00635107162166395\n",
       "\\item 0.0187793196603846\n",
       "\\item 0.0270219619543904\n",
       "\\item -0.00185581372728497\n",
       "\\item -0.00955139209239913\n",
       "\\item -0.0349420542191347\n",
       "\\item 0.0104685766465776\n",
       "\\item -0.0199129321576854\n",
       "\\item -0.0037432396960657\n",
       "\\item 0.00767104093742566\n",
       "\\item 0.013740592570324\n",
       "\\item 0.012370673773884\n",
       "\\item 0.00542956318744022\n",
       "\\item 0.0167249678790654\n",
       "\\item -0.0255476149438552\n",
       "\\item -0.0367486458612696\n",
       "\\item 0.00180123060873381\n",
       "\\item -0.0112694023111814\n",
       "\\item -0.0533992120606581\n",
       "\\item -0.0171527875121364\n",
       "\\item -0.077102084882347\n",
       "\\item -0.0360374043319241\n",
       "\\item 0.0111777358285894\n",
       "\\item 0.00462509704883172\n",
       "\\item -0.0649562555028109\n",
       "\\item 0.039705894282548\n",
       "\\item -0.00824907547885498\n",
       "\\item -0.0033766496120028\n",
       "\\item 0.0255527100471699\n",
       "\\item 0.066925353031013\n",
       "\\item 0.0155281302334326\n",
       "\\item -0.01040269585001\n",
       "\\item -0.0728283255619366\n",
       "\\item 0.021465098712745\n",
       "\\item -0.0115199534314962\n",
       "\\item -0.0644576905892225\n",
       "\\item -0.0762412690377919\n",
       "\\item 0.00222222963721314\n",
       "\\item 0.0638260656560818\n",
       "\\item 0.0290899537397203\n",
       "\\item 0.0203105516364379\n",
       "\\item 0.000783761784836034\n",
       "\\item -0.00249280024357374\n",
       "\\item 0.00850424171119457\n",
       "\\item 0.0428954136702472\n",
       "\\item -0.0144829183768572\n",
       "\\item 0.0192212582183674\n",
       "\\item 0.00562316180768126\n",
       "\\item 0.0110342791941621\n",
       "\\item 0.0310804450204656\n",
       "\\item -0.0262192211405055\n",
       "\\item -0.00143750317089963\n",
       "\\item 0.0185774410452101\n",
       "\\item 0.0694262984674251\n",
       "\\item 0.0506464698227518\n",
       "\\item 0.0413902380307811\n",
       "\\item -0.0535492007872371\n",
       "\\item 0.0159053303764333\n",
       "\\item -0.00528738483953135\n",
       "\\item -0.045375819372838\n",
       "\\item 0.0581460800509963\n",
       "\\item 0.0429339132528015\n",
       "\\item -0.0587426280890716\n",
       "\\item -0.0728696331040115\n",
       "\\item -0.0834791429641123\n",
       "\\item 0.0592744821681153\n",
       "\\item -0.0249134699719587\n",
       "\\item 0.0310403451017288\n",
       "\\item 0.000437293598261584\n",
       "\\item -0.00694951792007215\n",
       "\\item -0.0103624426809247\n",
       "\\item -0.00124901366505835\n",
       "\\item -0.00702517995217429\n",
       "\\item -0.036644854565901\n",
       "\\item -0.0174538921292897\n",
       "\\item -0.00366267830965516\n",
       "\\item 0.0163614978772426\n",
       "\\item -0.0366407205974996\n",
       "\\item 0.0356419699325963\n",
       "\\item 0.00200545037727367\n",
       "\\item 0.0141294877266623\n",
       "\\item -0.00691323222945912\n",
       "\\item 0.00845614423489388\n",
       "\\item 0.026951496567633\n",
       "\\item 0.0072724230704759\n",
       "\\item -0.00740740382402147\n",
       "\\item -0.0154246882900835\n",
       "\\item -0.00123242513645644\n",
       "\\item -0.0114926319530485\n",
       "\\item 0.0086342195946023\n",
       "\\item 0.0339523291559819\n",
       "\\item -0.0108035252868837\n",
       "\\item 0.0147219180889677\n",
       "\\item 0.0169817405515367\n",
       "\\item 0.0000607887844774405\n",
       "\\item -0.0047128842778024\n",
       "\\item 0.0282805037856236\n",
       "\\item 0.00197851014973898\n",
       "\\item 0.00808301622913595\n",
       "\\item -0.00708972747891337\n",
       "\\item -0.0100107085482958\n",
       "\\item 0.014102206245716\n",
       "\\item 0.000876267649515729\n",
       "\\item 0.0101009692609733\n",
       "\\item -0.00984619340848643\n",
       "\\item -0.00978026623221837\n",
       "\\item -0.0155011654060234\n",
       "\\item 0.00306730345295223\n",
       "\\item 0.0182976618513749\n",
       "\\item 0.0136723799230418\n",
       "\\item 0.00694515925693442\n",
       "\\item 0.0121325906906167\n",
       "\\item -0.0197527822951281\n",
       "\\item -0.00631736128810462\n",
       "\\item 0.00872199831980121\n",
       "\\item 0.00160978512632958\n",
       "\\item 0.0237873539856375\n",
       "\\item -0.0195572793680598\n",
       "\\item -0.0196627399010689\n",
       "\\item 0.0220386781793963\n",
       "\\item 0.00436137643633617\n",
       "\\item 0.00848745651417515\n",
       "\\item 0.000532891691436936\n",
       "\\item 0.0219774451554227\n",
       "\\item -0.0116962864696631\n",
       "\\item -0.0516308046246544\n",
       "\\item 0.0103847836598365\n",
       "\\item -0.0219059268064132\n",
       "\\item 0.0185814413988442\n",
       "\\item -0.0190744502877532\n",
       "\\item -0.0439879525622404\n",
       "\\item 0.007817792949975\n",
       "\\item -0.0104512363865383\n",
       "\\item -0.0198760545310223\n",
       "\\item -0.0175872872007135\n",
       "\\item -0.0737777029425051\n",
       "\\item 0.00505551263958436\n",
       "\\item 0.036762304774953\n",
       "\\item -0.0526685300818207\n",
       "\\item -0.0659802261673899\n",
       "\\item 0.0210666491820216\n",
       "\\item -0.072797473906864\n",
       "\\item 0.0372652410048716\n",
       "\\item -0.00608397762102581\n",
       "\\item 0.0254414593528971\n",
       "\\item 0.0333177720164447\n",
       "\\item -0.000370783668386122\n",
       "\\item -0.00534731020622055\n",
       "\\item -0.0150096647779487\n",
       "\\item -0.0526367911931984\n",
       "\\item -0.0444334679751088\n",
       "\\item 0.00268449077743256\n",
       "\\item 0.00206800099876315\n",
       "\\item 0.0431173052729538\n",
       "\\item -0.00180586337716125\n",
       "\\item 0.0045427673864719\n",
       "\\item -0.000893024270295723\n",
       "\\item -0.0135691681562086\n",
       "\\item -0.00940464501026166\n",
       "\\item -0.0313395499173089\n",
       "\\item -0.0022106804972546\n",
       "\\item 0.0634295087236907\n",
       "\\item 0.0432055622448394\n",
       "\\item -0.046714023413923\n",
       "\\item 0.0327066899414805\n",
       "\\item -0.0335909129719542\n",
       "\\item -0.0670092232800317\n",
       "\\item 0.045861460717941\n",
       "\\item -0.00328096771734411\n",
       "\\item 0.00985176407239747\n",
       "\\item 0.0186970067747242\n",
       "\\item 0.00620879830900462\n",
       "\\item 0.0134595240880943\n",
       "\\item 0.0155177113316182\n",
       "\\item 0.0258000970414113\n",
       "\\item 0.0442237826943612\n",
       "\\item 0.00517542635061552\n",
       "\\item 0.0349165861077634\n",
       "\\item -0.0382634998573117\n",
       "\\item 0.0456798063957801\n",
       "\\item -0.0189311799511086\n",
       "\\item -0.0475744505425552\n",
       "\\item -0.000576498824016848\n",
       "\\item 0.018300078635891\n",
       "\\item 0.00521690113192862\n",
       "\\item -0.00115276440314885\n",
       "\\item 0.0216521643804234\n",
       "\\item 0.00179172001449398\n",
       "\\item 0.00370975969139461\n",
       "\\item 0.00448791585938977\n",
       "\\item -0.0299370426517834\n",
       "\\item -0.0368045008037569\n",
       "\\item -0.0281989152877566\n",
       "\\item 0.020568844113753\n",
       "\\item 0.0244858681964436\n",
       "\\item -0.0555315635810385\n",
       "\\item 0.0324340587817346\n",
       "\\item -0.00473533456836867\n",
       "\\item -0.007166693391395\n",
       "\\item 0.013498941830952\n",
       "\\item 0.0365395270595768\n",
       "\\item 0.0008880454248491\n",
       "\\item 0.0701499123870398\n",
       "\\item 0.00258379928064791\n",
       "\\item -0.00467979429622656\n",
       "\\item 0.00658886339369575\n",
       "\\item -0.00455511264789244\n",
       "\\item 0.0111542304486656\n",
       "\\item 0.00915209583765631\n",
       "\\item 0.00238133398280697\n",
       "\\item 0.0266912867494864\n",
       "\\item 0.00200187458292621\n",
       "\\item 0.00778403644080313\n",
       "\\item 0.000320231194504896\n",
       "\\item 0.013531148965301\n",
       "\\item 0.00573281812297169\n",
       "\\item -0.034484878655577\n",
       "\\item 0.00307985859814856\n",
       "\\item 0.00951188602088151\n",
       "\\item 0.0360168291635667\n",
       "\\item -0.0241372347935867\n",
       "\\item 0.00619869800323545\n",
       "\\item -0.0236268066334215\n",
       "\\item 0.00133238871661219\n",
       "\\item -0.0263614945256822\n",
       "\\item 0.0128584777204079\n",
       "\\item 0.0117352713426742\n",
       "\\item 0.0326670725135589\n",
       "\\item 0.00762176291117206\n",
       "\\item 0.0235508413338453\n",
       "\\item -0.0144374030165271\n",
       "\\item -0.034776070861648\n",
       "\\item 0.0131488686545542\n",
       "\\item -0.0180139433922942\n",
       "\\item 0.00344170956447532\n",
       "\\item 0.0069341302138314\n",
       "\\item 0.0222379067337117\n",
       "\\item 0.0312223846266527\n",
       "\\item -0.0236412261344665\n",
       "\\item 0.00965293857892358\n",
       "\\item 0.00538230394718676\n",
       "\\item 0.0191944335522061\n",
       "\\item 0.022123041186045\n",
       "\\item -0.000661313776467878\n",
       "\\item 0.0176172445741725\n",
       "\\item -0.0223780738086996\n",
       "\\item 0.0508320715558917\n",
       "\\item -0.0178554664638824\n",
       "\\item 0.0172338434304765\n",
       "\\item -0.0439697173390955\n",
       "\\item 0.0270639162330092\n",
       "\\item -0.00575506443830769\n",
       "\\item 0.00883721539987946\n",
       "\\item 0.00379992382630992\n",
       "\\item 0.00513998455476617\n",
       "\\item 0.00170834946575295\n",
       "\\item 0.00495735971482724\n",
       "\\item -0.0102506430850843\n",
       "\\item 0.00078391340383114\n",
       "\\item -0.000330041047517237\n",
       "\\item 0.0238836575468456\n",
       "\\item -0.00137943374540061\n",
       "\\item -0.0194512272458436\n",
       "\\item -0.00914377438687124\n",
       "\\item 0.0209505735285827\n",
       "\\item 0.00622939914531728\n",
       "\\item 0.0224529281747766\n",
       "\\item -0.0133315649105187\n",
       "\\item -0.0244784322570165\n",
       "\\item 0.0163050054691003\n",
       "\\item 0.0108998676432122\n",
       "\\item -0.0176492981229783\n",
       "\\item -0.00359192583663516\n",
       "\\item -0.0292662369631536\n",
       "\\item 0.0155846055093558\n",
       "\\item -0.0162054652796764\n",
       "\\item 0.00265067110228629\n",
       "\\item 0.00277257027762884\n",
       "\\item 0.0208555016249941\n",
       "\\item -0.0049688709213843\n",
       "\\item 0.00620215284641112\n",
       "\\item 0.0186177807584053\n",
       "\\item 0.00647515369596996\n",
       "\\item 0.00697660155574711\n",
       "\\item -0.00670986536988419\n",
       "\\item 0.00826931973141508\n",
       "\\item -0.00689490113192929\n",
       "\\item 0.0165715465494001\n",
       "\\item -0.0141350594950726\n",
       "\\item 0.00945095139163246\n",
       "\\item 0.00678086734287487\n",
       "\\item 0.0100474921757302\n",
       "\\item 0.00575541938859238\n",
       "\\item -0.009491166920484\n",
       "\\item -0.00319541434164409\n",
       "\\item 0.0105869610903194\n",
       "\\item 0.00166487989331238\n",
       "\\item 0.00605520262408718\n",
       "\\item 0.000713365917019307\n",
       "\\item 0.00133145241992179\n",
       "\\item 0.000946377573886863\n",
       "\\item 0.0227072377228524\n",
       "\\item -0.00857810954469858\n",
       "\\item -0.000918542197845512\n",
       "\\item 0.0024353401211488\n",
       "\\item -0.00249165408393014\n",
       "\\item 0.0123684002559629\n",
       "\\item -0.00260971439204576\n",
       "\\item -0.00519188598673609\n",
       "\\item -0.0147997255256338\n",
       "\\item -0.00422881827302676\n",
       "\\item 0.00329763411410654\n",
       "\\item 0.00505737679136839\n",
       "\\item 0.00542330058189607\n",
       "\\item 0.00868636689945087\n",
       "\\item -0.00200458818815074\n",
       "\\item -0.00220419604125625\n",
       "\\item -0.00354205275167681\n",
       "\\item 0.0151292722061963\n",
       "\\item -0.0166554802108478\n",
       "\\item -0.00947730201785779\n",
       "\\item -0.00963084092238463\n",
       "\\item 0.00751012294996159\n",
       "\\item 0.00866878037752209\n",
       "\\item -0.0162841747736762\n",
       "\\item -0.0109560560908485\n",
       "\\item 0.00563733160455696\n",
       "\\item 0.00474073093141806\n",
       "\\item 0.00258219098750034\n",
       "\\item 0.00853560033104437\n",
       "\\item -0.00256499227125455\n",
       "\\item 0.00540747627600329\n",
       "\\end{enumerate*}\n"
      ],
      "text/markdown": [
       "A Time Series:  \n",
       "1. 0.0166651713319034\n",
       "2. 0.0147692151000953\n",
       "3. 0.049224219990152\n",
       "4. -0.0676780656075549\n",
       "5. -0.00409042023863524\n",
       "6. -0.0358520914319433\n",
       "7. -0.0698054439278747\n",
       "8. 0.0411675934092889\n",
       "9. -0.0737021332719167\n",
       "10. -0.0640912232232961\n",
       "11. 0.0294145786020151\n",
       "12. 0.0554933636323836\n",
       "13. -0.00879776714553905\n",
       "14. -0.067397972937001\n",
       "15. 0.0575008264429711\n",
       "16. -0.0171976015218214\n",
       "17. 0.0164498628350201\n",
       "18. 0.0213375729552337\n",
       "19. 0.0634497922325428\n",
       "20. 0.010161143838278\n",
       "21. 0.000900753817273699\n",
       "22. 0.0398109108079647\n",
       "23. -0.011037613286106\n",
       "24. -0.0281216075636339\n",
       "25. 0.0183952328095868\n",
       "26. 0.00448172021409827\n",
       "27. 0.0270792101448048\n",
       "28. -0.000748090066247375\n",
       "29. -0.00550157399948879\n",
       "30. -0.0335345303183981\n",
       "31. 0.0177843622615948\n",
       "32. -0.0232909793671468\n",
       "33. 0.00871751252125285\n",
       "34. -0.030137921851988\n",
       "35. 0.00632226739824314\n",
       "36. -0.00164522045498589\n",
       "37. -0.0119095363435768\n",
       "38. 0.00593673034726622\n",
       "39. -0.0149738426971455\n",
       "40. 0.0101839635776674\n",
       "41. -0.0267218702160685\n",
       "42. -0.00812091721600911\n",
       "43. -0.0300238736381195\n",
       "44. -0.032059151868377\n",
       "45. 0.0436543650561132\n",
       "46. -0.00493212342403462\n",
       "47. 0.00693957161305096\n",
       "48. -0.0138186300161869\n",
       "49. 0.00635107162166395\n",
       "50. 0.0187793196603846\n",
       "51. 0.0270219619543904\n",
       "52. -0.00185581372728497\n",
       "53. -0.00955139209239913\n",
       "54. -0.0349420542191347\n",
       "55. 0.0104685766465776\n",
       "56. -0.0199129321576854\n",
       "57. -0.0037432396960657\n",
       "58. 0.00767104093742566\n",
       "59. 0.013740592570324\n",
       "60. 0.012370673773884\n",
       "61. 0.00542956318744022\n",
       "62. 0.0167249678790654\n",
       "63. -0.0255476149438552\n",
       "64. -0.0367486458612696\n",
       "65. 0.00180123060873381\n",
       "66. -0.0112694023111814\n",
       "67. -0.0533992120606581\n",
       "68. -0.0171527875121364\n",
       "69. -0.077102084882347\n",
       "70. -0.0360374043319241\n",
       "71. 0.0111777358285894\n",
       "72. 0.00462509704883172\n",
       "73. -0.0649562555028109\n",
       "74. 0.039705894282548\n",
       "75. -0.00824907547885498\n",
       "76. -0.0033766496120028\n",
       "77. 0.0255527100471699\n",
       "78. 0.066925353031013\n",
       "79. 0.0155281302334326\n",
       "80. -0.01040269585001\n",
       "81. -0.0728283255619366\n",
       "82. 0.021465098712745\n",
       "83. -0.0115199534314962\n",
       "84. -0.0644576905892225\n",
       "85. -0.0762412690377919\n",
       "86. 0.00222222963721314\n",
       "87. 0.0638260656560818\n",
       "88. 0.0290899537397203\n",
       "89. 0.0203105516364379\n",
       "90. 0.000783761784836034\n",
       "91. -0.00249280024357374\n",
       "92. 0.00850424171119457\n",
       "93. 0.0428954136702472\n",
       "94. -0.0144829183768572\n",
       "95. 0.0192212582183674\n",
       "96. 0.00562316180768126\n",
       "97. 0.0110342791941621\n",
       "98. 0.0310804450204656\n",
       "99. -0.0262192211405055\n",
       "100. -0.00143750317089963\n",
       "101. 0.0185774410452101\n",
       "102. 0.0694262984674251\n",
       "103. 0.0506464698227518\n",
       "104. 0.0413902380307811\n",
       "105. -0.0535492007872371\n",
       "106. 0.0159053303764333\n",
       "107. -0.00528738483953135\n",
       "108. -0.045375819372838\n",
       "109. 0.0581460800509963\n",
       "110. 0.0429339132528015\n",
       "111. -0.0587426280890716\n",
       "112. -0.0728696331040115\n",
       "113. -0.0834791429641123\n",
       "114. 0.0592744821681153\n",
       "115. -0.0249134699719587\n",
       "116. 0.0310403451017288\n",
       "117. 0.000437293598261584\n",
       "118. -0.00694951792007215\n",
       "119. -0.0103624426809247\n",
       "120. -0.00124901366505835\n",
       "121. -0.00702517995217429\n",
       "122. -0.036644854565901\n",
       "123. -0.0174538921292897\n",
       "124. -0.00366267830965516\n",
       "125. 0.0163614978772426\n",
       "126. -0.0366407205974996\n",
       "127. 0.0356419699325963\n",
       "128. 0.00200545037727367\n",
       "129. 0.0141294877266623\n",
       "130. -0.00691323222945912\n",
       "131. 0.00845614423489388\n",
       "132. 0.026951496567633\n",
       "133. 0.0072724230704759\n",
       "134. -0.00740740382402147\n",
       "135. -0.0154246882900835\n",
       "136. -0.00123242513645644\n",
       "137. -0.0114926319530485\n",
       "138. 0.0086342195946023\n",
       "139. 0.0339523291559819\n",
       "140. -0.0108035252868837\n",
       "141. 0.0147219180889677\n",
       "142. 0.0169817405515367\n",
       "143. 0.0000607887844774405\n",
       "144. -0.0047128842778024\n",
       "145. 0.0282805037856236\n",
       "146. 0.00197851014973898\n",
       "147. 0.00808301622913595\n",
       "148. -0.00708972747891337\n",
       "149. -0.0100107085482958\n",
       "150. 0.014102206245716\n",
       "151. 0.000876267649515729\n",
       "152. 0.0101009692609733\n",
       "153. -0.00984619340848643\n",
       "154. -0.00978026623221837\n",
       "155. -0.0155011654060234\n",
       "156. 0.00306730345295223\n",
       "157. 0.0182976618513749\n",
       "158. 0.0136723799230418\n",
       "159. 0.00694515925693442\n",
       "160. 0.0121325906906167\n",
       "161. -0.0197527822951281\n",
       "162. -0.00631736128810462\n",
       "163. 0.00872199831980121\n",
       "164. 0.00160978512632958\n",
       "165. 0.0237873539856375\n",
       "166. -0.0195572793680598\n",
       "167. -0.0196627399010689\n",
       "168. 0.0220386781793963\n",
       "169. 0.00436137643633617\n",
       "170. 0.00848745651417515\n",
       "171. 0.000532891691436936\n",
       "172. 0.0219774451554227\n",
       "173. -0.0116962864696631\n",
       "174. -0.0516308046246544\n",
       "175. 0.0103847836598365\n",
       "176. -0.0219059268064132\n",
       "177. 0.0185814413988442\n",
       "178. -0.0190744502877532\n",
       "179. -0.0439879525622404\n",
       "180. 0.007817792949975\n",
       "181. -0.0104512363865383\n",
       "182. -0.0198760545310223\n",
       "183. -0.0175872872007135\n",
       "184. -0.0737777029425051\n",
       "185. 0.00505551263958436\n",
       "186. 0.036762304774953\n",
       "187. -0.0526685300818207\n",
       "188. -0.0659802261673899\n",
       "189. 0.0210666491820216\n",
       "190. -0.072797473906864\n",
       "191. 0.0372652410048716\n",
       "192. -0.00608397762102581\n",
       "193. 0.0254414593528971\n",
       "194. 0.0333177720164447\n",
       "195. -0.000370783668386122\n",
       "196. -0.00534731020622055\n",
       "197. -0.0150096647779487\n",
       "198. -0.0526367911931984\n",
       "199. -0.0444334679751088\n",
       "200. 0.00268449077743256\n",
       "201. 0.00206800099876315\n",
       "202. 0.0431173052729538\n",
       "203. -0.00180586337716125\n",
       "204. 0.0045427673864719\n",
       "205. -0.000893024270295723\n",
       "206. -0.0135691681562086\n",
       "207. -0.00940464501026166\n",
       "208. -0.0313395499173089\n",
       "209. -0.0022106804972546\n",
       "210. 0.0634295087236907\n",
       "211. 0.0432055622448394\n",
       "212. -0.046714023413923\n",
       "213. 0.0327066899414805\n",
       "214. -0.0335909129719542\n",
       "215. -0.0670092232800317\n",
       "216. 0.045861460717941\n",
       "217. -0.00328096771734411\n",
       "218. 0.00985176407239747\n",
       "219. 0.0186970067747242\n",
       "220. 0.00620879830900462\n",
       "221. 0.0134595240880943\n",
       "222. 0.0155177113316182\n",
       "223. 0.0258000970414113\n",
       "224. 0.0442237826943612\n",
       "225. 0.00517542635061552\n",
       "226. 0.0349165861077634\n",
       "227. -0.0382634998573117\n",
       "228. 0.0456798063957801\n",
       "229. -0.0189311799511086\n",
       "230. -0.0475744505425552\n",
       "231. -0.000576498824016848\n",
       "232. 0.018300078635891\n",
       "233. 0.00521690113192862\n",
       "234. -0.00115276440314885\n",
       "235. 0.0216521643804234\n",
       "236. 0.00179172001449398\n",
       "237. 0.00370975969139461\n",
       "238. 0.00448791585938977\n",
       "239. -0.0299370426517834\n",
       "240. -0.0368045008037569\n",
       "241. -0.0281989152877566\n",
       "242. 0.020568844113753\n",
       "243. 0.0244858681964436\n",
       "244. -0.0555315635810385\n",
       "245. 0.0324340587817346\n",
       "246. -0.00473533456836867\n",
       "247. -0.007166693391395\n",
       "248. 0.013498941830952\n",
       "249. 0.0365395270595768\n",
       "250. 0.0008880454248491\n",
       "251. 0.0701499123870398\n",
       "252. 0.00258379928064791\n",
       "253. -0.00467979429622656\n",
       "254. 0.00658886339369575\n",
       "255. -0.00455511264789244\n",
       "256. 0.0111542304486656\n",
       "257. 0.00915209583765631\n",
       "258. 0.00238133398280697\n",
       "259. 0.0266912867494864\n",
       "260. 0.00200187458292621\n",
       "261. 0.00778403644080313\n",
       "262. 0.000320231194504896\n",
       "263. 0.013531148965301\n",
       "264. 0.00573281812297169\n",
       "265. -0.034484878655577\n",
       "266. 0.00307985859814856\n",
       "267. 0.00951188602088151\n",
       "268. 0.0360168291635667\n",
       "269. -0.0241372347935867\n",
       "270. 0.00619869800323545\n",
       "271. -0.0236268066334215\n",
       "272. 0.00133238871661219\n",
       "273. -0.0263614945256822\n",
       "274. 0.0128584777204079\n",
       "275. 0.0117352713426742\n",
       "276. 0.0326670725135589\n",
       "277. 0.00762176291117206\n",
       "278. 0.0235508413338453\n",
       "279. -0.0144374030165271\n",
       "280. -0.034776070861648\n",
       "281. 0.0131488686545542\n",
       "282. -0.0180139433922942\n",
       "283. 0.00344170956447532\n",
       "284. 0.0069341302138314\n",
       "285. 0.0222379067337117\n",
       "286. 0.0312223846266527\n",
       "287. -0.0236412261344665\n",
       "288. 0.00965293857892358\n",
       "289. 0.00538230394718676\n",
       "290. 0.0191944335522061\n",
       "291. 0.022123041186045\n",
       "292. -0.000661313776467878\n",
       "293. 0.0176172445741725\n",
       "294. -0.0223780738086996\n",
       "295. 0.0508320715558917\n",
       "296. -0.0178554664638824\n",
       "297. 0.0172338434304765\n",
       "298. -0.0439697173390955\n",
       "299. 0.0270639162330092\n",
       "300. -0.00575506443830769\n",
       "301. 0.00883721539987946\n",
       "302. 0.00379992382630992\n",
       "303. 0.00513998455476617\n",
       "304. 0.00170834946575295\n",
       "305. 0.00495735971482724\n",
       "306. -0.0102506430850843\n",
       "307. 0.00078391340383114\n",
       "308. -0.000330041047517237\n",
       "309. 0.0238836575468456\n",
       "310. -0.00137943374540061\n",
       "311. -0.0194512272458436\n",
       "312. -0.00914377438687124\n",
       "313. 0.0209505735285827\n",
       "314. 0.00622939914531728\n",
       "315. 0.0224529281747766\n",
       "316. -0.0133315649105187\n",
       "317. -0.0244784322570165\n",
       "318. 0.0163050054691003\n",
       "319. 0.0108998676432122\n",
       "320. -0.0176492981229783\n",
       "321. -0.00359192583663516\n",
       "322. -0.0292662369631536\n",
       "323. 0.0155846055093558\n",
       "324. -0.0162054652796764\n",
       "325. 0.00265067110228629\n",
       "326. 0.00277257027762884\n",
       "327. 0.0208555016249941\n",
       "328. -0.0049688709213843\n",
       "329. 0.00620215284641112\n",
       "330. 0.0186177807584053\n",
       "331. 0.00647515369596996\n",
       "332. 0.00697660155574711\n",
       "333. -0.00670986536988419\n",
       "334. 0.00826931973141508\n",
       "335. -0.00689490113192929\n",
       "336. 0.0165715465494001\n",
       "337. -0.0141350594950726\n",
       "338. 0.00945095139163246\n",
       "339. 0.00678086734287487\n",
       "340. 0.0100474921757302\n",
       "341. 0.00575541938859238\n",
       "342. -0.009491166920484\n",
       "343. -0.00319541434164409\n",
       "344. 0.0105869610903194\n",
       "345. 0.00166487989331238\n",
       "346. 0.00605520262408718\n",
       "347. 0.000713365917019307\n",
       "348. 0.00133145241992179\n",
       "349. 0.000946377573886863\n",
       "350. 0.0227072377228524\n",
       "351. -0.00857810954469858\n",
       "352. -0.000918542197845512\n",
       "353. 0.0024353401211488\n",
       "354. -0.00249165408393014\n",
       "355. 0.0123684002559629\n",
       "356. -0.00260971439204576\n",
       "357. -0.00519188598673609\n",
       "358. -0.0147997255256338\n",
       "359. -0.00422881827302676\n",
       "360. 0.00329763411410654\n",
       "361. 0.00505737679136839\n",
       "362. 0.00542330058189607\n",
       "363. 0.00868636689945087\n",
       "364. -0.00200458818815074\n",
       "365. -0.00220419604125625\n",
       "366. -0.00354205275167681\n",
       "367. 0.0151292722061963\n",
       "368. -0.0166554802108478\n",
       "369. -0.00947730201785779\n",
       "370. -0.00963084092238463\n",
       "371. 0.00751012294996159\n",
       "372. 0.00866878037752209\n",
       "373. -0.0162841747736762\n",
       "374. -0.0109560560908485\n",
       "375. 0.00563733160455696\n",
       "376. 0.00474073093141806\n",
       "377. 0.00258219098750034\n",
       "378. 0.00853560033104437\n",
       "379. -0.00256499227125455\n",
       "380. 0.00540747627600329\n",
       "\n",
       "\n"
      ],
      "text/plain": [
       "A Time Series:\n",
       "  [1]  0.01666517133  0.01476921510  0.04922421999 -0.06767806561 -0.00409042024\n",
       "  [6] -0.03585209143 -0.06980544393  0.04116759341 -0.07370213327 -0.06409122322\n",
       " [11]  0.02941457860  0.05549336363 -0.00879776715 -0.06739797294  0.05750082644\n",
       " [16] -0.01719760152  0.01644986284  0.02133757296  0.06344979223  0.01016114384\n",
       " [21]  0.00090075382  0.03981091081 -0.01103761329 -0.02812160756  0.01839523281\n",
       " [26]  0.00448172021  0.02707921014 -0.00074809007 -0.00550157400 -0.03353453032\n",
       " [31]  0.01778436226 -0.02329097937  0.00871751252 -0.03013792185  0.00632226740\n",
       " [36] -0.00164522045 -0.01190953634  0.00593673035 -0.01497384270  0.01018396358\n",
       " [41] -0.02672187022 -0.00812091722 -0.03002387364 -0.03205915187  0.04365436506\n",
       " [46] -0.00493212342  0.00693957161 -0.01381863002  0.00635107162  0.01877931966\n",
       " [51]  0.02702196195 -0.00185581373 -0.00955139209 -0.03494205422  0.01046857665\n",
       " [56] -0.01991293216 -0.00374323970  0.00767104094  0.01374059257  0.01237067377\n",
       " [61]  0.00542956319  0.01672496788 -0.02554761494 -0.03674864586  0.00180123061\n",
       " [66] -0.01126940231 -0.05339921206 -0.01715278751 -0.07710208488 -0.03603740433\n",
       " [71]  0.01117773583  0.00462509705 -0.06495625550  0.03970589428 -0.00824907548\n",
       " [76] -0.00337664961  0.02555271005  0.06692535303  0.01552813023 -0.01040269585\n",
       " [81] -0.07282832556  0.02146509871 -0.01151995343 -0.06445769059 -0.07624126904\n",
       " [86]  0.00222222964  0.06382606566  0.02908995374  0.02031055164  0.00078376178\n",
       " [91] -0.00249280024  0.00850424171  0.04289541367 -0.01448291838  0.01922125822\n",
       " [96]  0.00562316181  0.01103427919  0.03108044502 -0.02621922114 -0.00143750317\n",
       "[101]  0.01857744105  0.06942629847  0.05064646982  0.04139023803 -0.05354920079\n",
       "[106]  0.01590533038 -0.00528738484 -0.04537581937  0.05814608005  0.04293391325\n",
       "[111] -0.05874262809 -0.07286963310 -0.08347914296  0.05927448217 -0.02491346997\n",
       "[116]  0.03104034510  0.00043729360 -0.00694951792 -0.01036244268 -0.00124901367\n",
       "[121] -0.00702517995 -0.03664485457 -0.01745389213 -0.00366267831  0.01636149788\n",
       "[126] -0.03664072060  0.03564196993  0.00200545038  0.01412948773 -0.00691323223\n",
       "[131]  0.00845614423  0.02695149657  0.00727242307 -0.00740740382 -0.01542468829\n",
       "[136] -0.00123242514 -0.01149263195  0.00863421959  0.03395232916 -0.01080352529\n",
       "[141]  0.01472191809  0.01698174055  0.00006078878 -0.00471288428  0.02828050379\n",
       "[146]  0.00197851015  0.00808301623 -0.00708972748 -0.01001070855  0.01410220625\n",
       "[151]  0.00087626765  0.01010096926 -0.00984619341 -0.00978026623 -0.01550116541\n",
       "[156]  0.00306730345  0.01829766185  0.01367237992  0.00694515926  0.01213259069\n",
       "[161] -0.01975278230 -0.00631736129  0.00872199832  0.00160978513  0.02378735399\n",
       "[166] -0.01955727937 -0.01966273990  0.02203867818  0.00436137644  0.00848745651\n",
       "[171]  0.00053289169  0.02197744516 -0.01169628647 -0.05163080462  0.01038478366\n",
       "[176] -0.02190592681  0.01858144140 -0.01907445029 -0.04398795256  0.00781779295\n",
       "[181] -0.01045123639 -0.01987605453 -0.01758728720 -0.07377770294  0.00505551264\n",
       "[186]  0.03676230477 -0.05266853008 -0.06598022617  0.02106664918 -0.07279747391\n",
       "[191]  0.03726524100 -0.00608397762  0.02544145935  0.03331777202 -0.00037078367\n",
       "[196] -0.00534731021 -0.01500966478 -0.05263679119 -0.04443346798  0.00268449078\n",
       "[201]  0.00206800100  0.04311730527 -0.00180586338  0.00454276739 -0.00089302427\n",
       "[206] -0.01356916816 -0.00940464501 -0.03133954992 -0.00221068050  0.06342950872\n",
       "[211]  0.04320556224 -0.04671402341  0.03270668994 -0.03359091297 -0.06700922328\n",
       "[216]  0.04586146072 -0.00328096772  0.00985176407  0.01869700677  0.00620879831\n",
       "[221]  0.01345952409  0.01551771133  0.02580009704  0.04422378269  0.00517542635\n",
       "[226]  0.03491658611 -0.03826349986  0.04567980640 -0.01893117995 -0.04757445054\n",
       "[231] -0.00057649882  0.01830007864  0.00521690113 -0.00115276440  0.02165216438\n",
       "[236]  0.00179172001  0.00370975969  0.00448791586 -0.02993704265 -0.03680450080\n",
       "[241] -0.02819891529  0.02056884411  0.02448586820 -0.05553156358  0.03243405878\n",
       "[246] -0.00473533457 -0.00716669339  0.01349894183  0.03653952706  0.00088804542\n",
       "[251]  0.07014991239  0.00258379928 -0.00467979430  0.00658886339 -0.00455511265\n",
       "[256]  0.01115423045  0.00915209584  0.00238133398  0.02669128675  0.00200187458\n",
       "[261]  0.00778403644  0.00032023119  0.01353114897  0.00573281812 -0.03448487866\n",
       "[266]  0.00307985860  0.00951188602  0.03601682916 -0.02413723479  0.00619869800\n",
       "[271] -0.02362680663  0.00133238872 -0.02636149453  0.01285847772  0.01173527134\n",
       "[276]  0.03266707251  0.00762176291  0.02355084133 -0.01443740302 -0.03477607086\n",
       "[281]  0.01314886865 -0.01801394339  0.00344170956  0.00693413021  0.02223790673\n",
       "[286]  0.03122238463 -0.02364122613  0.00965293858  0.00538230395  0.01919443355\n",
       "[291]  0.02212304119 -0.00066131378  0.01761724457 -0.02237807381  0.05083207156\n",
       "[296] -0.01785546646  0.01723384343 -0.04396971734  0.02706391623 -0.00575506444\n",
       "[301]  0.00883721540  0.00379992383  0.00513998455  0.00170834947  0.00495735971\n",
       "[306] -0.01025064309  0.00078391340 -0.00033004105  0.02388365755 -0.00137943375\n",
       "[311] -0.01945122725 -0.00914377439  0.02095057353  0.00622939915  0.02245292817\n",
       "[316] -0.01333156491 -0.02447843226  0.01630500547  0.01089986764 -0.01764929812\n",
       "[321] -0.00359192584 -0.02926623696  0.01558460551 -0.01620546528  0.00265067110\n",
       "[326]  0.00277257028  0.02085550162 -0.00496887092  0.00620215285  0.01861778076\n",
       "[331]  0.00647515370  0.00697660156 -0.00670986537  0.00826931973 -0.00689490113\n",
       "[336]  0.01657154655 -0.01413505950  0.00945095139  0.00678086734  0.01004749218\n",
       "[341]  0.00575541939 -0.00949116692 -0.00319541434  0.01058696109  0.00166487989\n",
       "[346]  0.00605520262  0.00071336592  0.00133145242  0.00094637757  0.02270723772\n",
       "[351] -0.00857810954 -0.00091854220  0.00243534012 -0.00249165408  0.01236840026\n",
       "[356] -0.00260971439 -0.00519188599 -0.01479972553 -0.00422881827  0.00329763411\n",
       "[361]  0.00505737679  0.00542330058  0.00868636690 -0.00200458819 -0.00220419604\n",
       "[366] -0.00354205275  0.01512927221 -0.01665548021 -0.00947730202 -0.00963084092\n",
       "[371]  0.00751012295  0.00866878038 -0.01628417477 -0.01095605609  0.00563733160\n",
       "[376]  0.00474073093  0.00258219099  0.00853560033 -0.00256499227  0.00540747628"
      ]
     },
     "metadata": {},
     "output_type": "display_data"
    }
   ],
   "source": [
    "(arima(ClosingLR_train[2:381], order = c(2,0,2))$resid)"
   ]
  },
  {
   "cell_type": "code",
   "execution_count": 55,
   "metadata": {
    "vscode": {
     "languageId": "r"
    }
   },
   "outputs": [
    {
     "data": {
      "text/plain": [
       "    Point Forecast       Lo 80      Hi 80       Lo 95      Hi 95\n",
       "381  -0.0005357166 -0.03481998 0.03374854 -0.05296897 0.05189754\n",
       "382  -0.0014676629 -0.03580551 0.03287019 -0.05398287 0.05104755\n",
       "383  -0.0007853564 -0.03530577 0.03373505 -0.05357977 0.05200905\n",
       "384  -0.0007698579 -0.03533322 0.03379350 -0.05362995 0.05209024\n",
       "385  -0.0009571298 -0.03552234 0.03360808 -0.05382005 0.05190579\n",
       "386  -0.0008972955 -0.03546739 0.03367280 -0.05376769 0.05197310\n",
       "387  -0.0008677863 -0.03543804 0.03370246 -0.05373842 0.05200285\n",
       "388  -0.0008938244 -0.03546428 0.03367663 -0.05376478 0.05197713\n",
       "389  -0.0008928007 -0.03546333 0.03367772 -0.05376386 0.05197826\n",
       "390  -0.0008862058 -0.03545673 0.03368432 -0.05375726 0.05198485\n",
       "391  -0.0008887315 -0.03545926 0.03368180 -0.05375980 0.05198234\n",
       "392  -0.0008896277 -0.03546016 0.03368091 -0.05376070 0.05198144\n",
       "393  -0.0008886479 -0.03545918 0.03368189 -0.05375972 0.05198242\n",
       "394  -0.0008887436 -0.03545928 0.03368179 -0.05375981 0.05198232\n",
       "395  -0.0008889722 -0.03545951 0.03368156 -0.05376004 0.05198210\n",
       "396  -0.0008888686 -0.03545940 0.03368166 -0.05375994 0.05198220\n",
       "397  -0.0008888430 -0.03545938 0.03368169 -0.05375991 0.05198223\n",
       "398  -0.0008888794 -0.03545941 0.03368165 -0.05375995 0.05198219\n",
       "399  -0.0008888738 -0.03545941 0.03368166 -0.05375994 0.05198219\n",
       "400  -0.0008888660 -0.03545940 0.03368167 -0.05375993 0.05198220\n",
       "401  -0.0008888701 -0.03545940 0.03368166 -0.05375994 0.05198220\n",
       "402  -0.0008888708 -0.03545940 0.03368166 -0.05375994 0.05198220\n",
       "403  -0.0008888695 -0.03545940 0.03368166 -0.05375994 0.05198220\n",
       "404  -0.0008888697 -0.03545940 0.03368166 -0.05375994 0.05198220\n",
       "405  -0.0008888700 -0.03545940 0.03368166 -0.05375994 0.05198220\n",
       "406  -0.0008888698 -0.03545940 0.03368166 -0.05375994 0.05198220\n",
       "407  -0.0008888698 -0.03545940 0.03368166 -0.05375994 0.05198220\n",
       "408  -0.0008888699 -0.03545940 0.03368166 -0.05375994 0.05198220\n",
       "409  -0.0008888699 -0.03545940 0.03368166 -0.05375994 0.05198220\n",
       "410  -0.0008888699 -0.03545940 0.03368166 -0.05375994 0.05198220\n",
       "411  -0.0008888699 -0.03545940 0.03368166 -0.05375994 0.05198220\n",
       "412  -0.0008888699 -0.03545940 0.03368166 -0.05375994 0.05198220\n",
       "413  -0.0008888699 -0.03545940 0.03368166 -0.05375994 0.05198220\n",
       "414  -0.0008888699 -0.03545940 0.03368166 -0.05375994 0.05198220\n",
       "415  -0.0008888699 -0.03545940 0.03368166 -0.05375994 0.05198220"
      ]
     },
     "metadata": {},
     "output_type": "display_data"
    }
   ],
   "source": [
    "forecast(arima(ClosingLR_train[2:381], order = c(2,0,2)), h = 35)"
   ]
  },
  {
   "cell_type": "code",
   "execution_count": 56,
   "metadata": {
    "vscode": {
     "languageId": "r"
    }
   },
   "outputs": [
    {
     "name": "stderr",
     "output_type": "stream",
     "text": [
      "Warning message in arima(ClosingLR_train[2:381], order = c(2, 0, 2), fixed = c(0, :\n",
      "\"some AR parameters were fixed: setting transform.pars = FALSE\"\n"
     ]
    },
    {
     "data": {
      "text/plain": [
       "    Point Forecast       Lo 80      Hi 80       Lo 95      Hi 95\n",
       "381  -0.0005927503 -0.03496406 0.03377856 -0.05315913 0.05197363\n",
       "382  -0.0014462783 -0.03581758 0.03292503 -0.05401265 0.05112010\n",
       "383  -0.0009107555 -0.03548230 0.03366079 -0.05378338 0.05196186\n",
       "384  -0.0008639839 -0.03543553 0.03370756 -0.05373660 0.05200864\n",
       "385  -0.0008933295 -0.03546548 0.03367882 -0.05376687 0.05198021\n",
       "386  -0.0008958925 -0.03546804 0.03367626 -0.05376943 0.05197764\n",
       "387  -0.0008942844 -0.03546643 0.03367787 -0.05376782 0.05197926\n",
       "388  -0.0008941439 -0.03546629 0.03367801 -0.05376768 0.05197940\n",
       "389  -0.0008942321 -0.03546638 0.03367792 -0.05376777 0.05197931\n",
       "390  -0.0008942398 -0.03546639 0.03367791 -0.05376778 0.05197930\n",
       "391  -0.0008942349 -0.03546638 0.03367791 -0.05376777 0.05197931\n",
       "392  -0.0008942345 -0.03546638 0.03367792 -0.05376777 0.05197931\n",
       "393  -0.0008942348 -0.03546638 0.03367791 -0.05376777 0.05197931\n",
       "394  -0.0008942348 -0.03546638 0.03367791 -0.05376777 0.05197931\n",
       "395  -0.0008942348 -0.03546638 0.03367791 -0.05376777 0.05197931\n",
       "396  -0.0008942348 -0.03546638 0.03367791 -0.05376777 0.05197931\n",
       "397  -0.0008942348 -0.03546638 0.03367791 -0.05376777 0.05197931\n",
       "398  -0.0008942348 -0.03546638 0.03367791 -0.05376777 0.05197931\n",
       "399  -0.0008942348 -0.03546638 0.03367791 -0.05376777 0.05197931\n",
       "400  -0.0008942348 -0.03546638 0.03367791 -0.05376777 0.05197931\n",
       "401  -0.0008942348 -0.03546638 0.03367791 -0.05376777 0.05197931\n",
       "402  -0.0008942348 -0.03546638 0.03367791 -0.05376777 0.05197931\n",
       "403  -0.0008942348 -0.03546638 0.03367791 -0.05376777 0.05197931\n",
       "404  -0.0008942348 -0.03546638 0.03367791 -0.05376777 0.05197931\n",
       "405  -0.0008942348 -0.03546638 0.03367791 -0.05376777 0.05197931\n",
       "406  -0.0008942348 -0.03546638 0.03367791 -0.05376777 0.05197931\n",
       "407  -0.0008942348 -0.03546638 0.03367791 -0.05376777 0.05197931\n",
       "408  -0.0008942348 -0.03546638 0.03367791 -0.05376777 0.05197931\n",
       "409  -0.0008942348 -0.03546638 0.03367791 -0.05376777 0.05197931\n",
       "410  -0.0008942348 -0.03546638 0.03367791 -0.05376777 0.05197931\n",
       "411  -0.0008942348 -0.03546638 0.03367791 -0.05376777 0.05197931\n",
       "412  -0.0008942348 -0.03546638 0.03367791 -0.05376777 0.05197931\n",
       "413  -0.0008942348 -0.03546638 0.03367791 -0.05376777 0.05197931\n",
       "414  -0.0008942348 -0.03546638 0.03367791 -0.05376777 0.05197931\n",
       "415  -0.0008942348 -0.03546638 0.03367791 -0.05376777 0.05197931"
      ]
     },
     "metadata": {},
     "output_type": "display_data"
    }
   ],
   "source": [
    "forecast(arima(ClosingLR_train[2:381], order = c(2,0,2), fixed = c(0, NA, 0, NA, NA)), h = 35)"
   ]
  }
 ],
 "metadata": {
  "kernelspec": {
   "display_name": "R",
   "language": "R",
   "name": "ir"
  },
  "language_info": {
   "codemirror_mode": "r",
   "file_extension": ".r",
   "mimetype": "text/x-r-source",
   "name": "R",
   "pygments_lexer": "r",
   "version": "4.3.0"
  },
  "orig_nbformat": 4
 },
 "nbformat": 4,
 "nbformat_minor": 2
}
