{
 "cells": [
  {
   "cell_type": "code",
   "execution_count": 1,
   "metadata": {
    "vscode": {
     "languageId": "r"
    }
   },
   "outputs": [
    {
     "name": "stderr",
     "output_type": "stream",
     "text": [
      "Warning message:\n",
      "\"package 'urca' was built under R version 4.3.1\"\n"
     ]
    },
    {
     "name": "stderr",
     "output_type": "stream",
     "text": [
      "Warning message:\n",
      "\"package 'Hmisc' was built under R version 4.3.1\"\n",
      "\n",
      "Attaching package: 'Hmisc'\n",
      "\n",
      "\n",
      "The following objects are masked from 'package:base':\n",
      "\n",
      "    format.pval, units\n",
      "\n",
      "\n",
      "\n",
      "Attaching package: 'zoo'\n",
      "\n",
      "\n",
      "The following objects are masked from 'package:base':\n",
      "\n",
      "    as.Date, as.Date.numeric\n",
      "\n",
      "\n",
      "Warning message:\n",
      "\"package 'tseries' was built under R version 4.3.1\"\n",
      "Registered S3 method overwritten by 'quantmod':\n",
      "  method            from\n",
      "  as.zoo.data.frame zoo \n",
      "\n",
      "Warning message:\n",
      "\"package 'forecast' was built under R version 4.3.1\"\n",
      "\n",
      "Attaching package: 'forecast'\n",
      "\n",
      "\n",
      "The following object is masked from 'package:Metrics':\n",
      "\n",
      "    accuracy\n",
      "\n",
      "\n",
      "Warning message:\n",
      "\"package 'fpp2' was built under R version 4.3.1\"\n",
      "── \u001b[1mAttaching packages\u001b[22m ────────────────────────────────────────────── fpp2 2.5 ──\n",
      "\n",
      "\u001b[32m✔\u001b[39m \u001b[34mggplot2  \u001b[39m 3.4.2     \u001b[32m✔\u001b[39m \u001b[34mexpsmooth\u001b[39m 2.3  \n",
      "\u001b[32m✔\u001b[39m \u001b[34mfma      \u001b[39m 2.5       \n",
      "\n",
      "Warning message:\n",
      "\"package 'fma' was built under R version 4.3.1\"\n",
      "Warning message:\n",
      "\"package 'expsmooth' was built under R version 4.3.1\"\n",
      "── \u001b[1mConflicts\u001b[22m ───────────────────────────────────────────────── fpp2_conflicts ──\n",
      "\u001b[31m✖\u001b[39m \u001b[34mforecast\u001b[39m::\u001b[32maccuracy()\u001b[39m masks \u001b[34mMetrics\u001b[39m::accuracy()\n",
      "\n",
      "\n",
      "Attaching package: 'astsa'\n",
      "\n",
      "\n",
      "The following objects are masked from 'package:fma':\n",
      "\n",
      "    chicken, sales\n",
      "\n",
      "\n",
      "The following object is masked from 'package:fpp2':\n",
      "\n",
      "    oil\n",
      "\n",
      "\n",
      "The following object is masked from 'package:forecast':\n",
      "\n",
      "    gas\n",
      "\n",
      "\n",
      "Warning message:\n",
      "\"package 'dynlm' was built under R version 4.3.1\"\n",
      "Warning message:\n",
      "\"package 'FinTS' was built under R version 4.3.1\"\n",
      "\n",
      "Attaching package: 'FinTS'\n",
      "\n",
      "\n",
      "The following object is masked from 'package:forecast':\n",
      "\n",
      "    Acf\n",
      "\n",
      "\n"
     ]
    }
   ],
   "source": [
    "library('urca')\n",
    "library(\"Hmisc\")\n",
    "library('Metrics')\n",
    "library('zoo')\n",
    "library('tseries')\n",
    "library('forecast')\n",
    "library('fpp2')\n",
    "library('astsa')\n",
    "library('dynlm')\n",
    "library('FinTS')"
   ]
  },
  {
   "cell_type": "code",
   "execution_count": 2,
   "metadata": {
    "vscode": {
     "languageId": "r"
    }
   },
   "outputs": [],
   "source": [
    "interp_urdf <- function(urdf, level=\"5pct\") {\n",
    "  if(class(urdf) != \"ur.df\") stop('parameter is not of class ur.df from urca package')\n",
    "  if(!(level %in% c(\"1pct\", \"5pct\", \"10pct\") ) ) stop('parameter level is not one of 1pct, 5pct, or 10pct')\n",
    "\n",
    "  cat(\"========================================================================\\n\")\n",
    "  cat( paste(\"At the\", level, \"level:\\n\") )\n",
    "  if(urdf@model == \"none\") {\n",
    "    cat(\"The model is of type none\\n\")\n",
    "    tau1_crit = urdf@cval[\"tau1\",level]\n",
    "    tau1_teststat = urdf@teststat[\"statistic\",\"tau1\"]\n",
    "    tau1_teststat_wi_crit = tau1_teststat > tau1_crit\n",
    "    if(tau1_teststat_wi_crit) {\n",
    "      cat(\"tau1: The null hypothesis is not rejected, unit root is present\\n\")\n",
    "    } else {\n",
    "      cat(\"tau1: The null hypothesis is rejected, unit root is not present\\n\")\n",
    "    }\n",
    "  } else if(urdf@model == \"drift\") {\n",
    "    cat(\"The model is of type drift\\n\")\n",
    "    tau2_crit = urdf@cval[\"tau2\",level]\n",
    "    tau2_teststat = urdf@teststat[\"statistic\",\"tau2\"]\n",
    "    tau2_teststat_wi_crit = tau2_teststat > tau2_crit\n",
    "    phi1_crit = urdf@cval[\"phi1\",level]\n",
    "    phi1_teststat = urdf@teststat[\"statistic\",\"phi1\"]\n",
    "    phi1_teststat_wi_crit = phi1_teststat < phi1_crit\n",
    "    if(tau2_teststat_wi_crit) {\n",
    "      # Unit root present branch\n",
    "      cat(\"tau2: The first null hypothesis is not rejected, unit root is present\\n\")\n",
    "      if(phi1_teststat_wi_crit) {\n",
    "        cat(\"phi1: The second null hypothesis is not rejected, unit root is present\\n\")\n",
    "        cat(\"      and there is no drift.\\n\")\n",
    "      } else {\n",
    "        cat(\"phi1: The second null hypothesis is rejected, unit root is present\\n\")\n",
    "        cat(\"      and there is drift.\\n\")\n",
    "      }\n",
    "    } else {\n",
    "      # Unit root not present branch\n",
    "      cat(\"tau2: The first null hypothesis is rejected, unit root is not present\\n\")\n",
    "      if(phi1_teststat_wi_crit) {\n",
    "        cat(\"phi1: The second null hypothesis is not rejected, unit root is present\\n\")\n",
    "        cat(\"      and there is no drift.\\n\")\n",
    "        warning(\"This is inconsistent with the first null hypothesis.\")\n",
    "      } else {\n",
    "        cat(\"phi1: The second null hypothesis is rejected, unit root is not present\\n\")\n",
    "        cat(\"      and there is drift.\\n\")\n",
    "      }\n",
    "    }\n",
    "  } else if(urdf@model == \"trend\") {\n",
    "    cat(\"The model is of type trend\\n\")\n",
    "    tau3_crit = urdf@cval[\"tau3\",level]\n",
    "    tau3_teststat = urdf@teststat[\"statistic\",\"tau3\"]\n",
    "    tau3_teststat_wi_crit = tau3_teststat > tau3_crit\n",
    "    phi2_crit = urdf@cval[\"phi2\",level]\n",
    "    phi2_teststat = urdf@teststat[\"statistic\",\"phi2\"]\n",
    "    phi2_teststat_wi_crit = phi2_teststat < phi2_crit\n",
    "    phi3_crit = urdf@cval[\"phi3\",level]\n",
    "    phi3_teststat = urdf@teststat[\"statistic\",\"phi3\"]\n",
    "    phi3_teststat_wi_crit = phi3_teststat < phi3_crit\n",
    "    if(tau3_teststat_wi_crit) {\n",
    "      # First null hypothesis is not rejected, Unit root present branch\n",
    "      cat(\"tau3: The first null hypothesis is not rejected, unit root is present\\n\")\n",
    "      if(phi3_teststat_wi_crit) {\n",
    "        # Second null hypothesis is not rejected\n",
    "        cat(\"phi3: The second null hypothesis is not rejected, unit root is present\\n\")\n",
    "        cat(\"      and there is no trend\\n\")\n",
    "        if(phi2_teststat_wi_crit) {\n",
    "          # Third null hypothesis is not rejected\n",
    "          # a0-drift = gamma = a2-trend = 0\n",
    "          cat(\"phi2: The third null hypothesis is not rejected, unit root is present\\n\")\n",
    "          cat(\"      there is no trend, and there is no drift\\n\")\n",
    "        } else {\n",
    "          # Third null hypothesis is rejected\n",
    "          cat(\"phi2: The third null hypothesis is rejected, unit root is present\\n\")\n",
    "          cat(\"      there is no trend, and there is drift\\n\")\n",
    "        }\n",
    "      }\n",
    "      else {\n",
    "        # Second null hypothesis is rejected\n",
    "        cat(\"phi3: The second null hypothesis is rejected, unit root is present\\n\")\n",
    "        cat(\"      and there is trend\\n\")\n",
    "        if(phi2_teststat_wi_crit) {\n",
    "          # Third null hypothesis is not rejected\n",
    "          # a0-drift = gamma = a2-trend = 0\n",
    "          cat(\"phi2: The third null hypothesis is not rejected, unit root is present\\n\")\n",
    "          cat(\"      there is no trend, and there is no drift\\n\")\n",
    "          warning(\"This is inconsistent with the second null hypothesis.\")\n",
    "        } else {\n",
    "          # Third null hypothesis is rejected\n",
    "          cat(\"phi2: The third null hypothesis is rejected, unit root is present\\n\")\n",
    "          cat(\"      there is trend, and there may or may not be drift\\n\")\n",
    "          warning(\"Presence of drift is inconclusive.\")\n",
    "        }\n",
    "      }\n",
    "    } else {\n",
    "      # First null hypothesis is rejected, Unit root not present branch\n",
    "      cat(\"tau3: The first null hypothesis is rejected, unit root is not present\\n\")\n",
    "      if(phi3_teststat_wi_crit) {\n",
    "        cat(\"phi3: The second null hypothesis is not rejected, unit root is present\\n\")\n",
    "        cat(\"      and there is no trend\\n\")\n",
    "        warning(\"This is inconsistent with the first null hypothesis.\")\n",
    "        if(phi2_teststat_wi_crit) {\n",
    "          # Third null hypothesis is not rejected\n",
    "          # a0-drift = gamma = a2-trend = 0\n",
    "          cat(\"phi2: The third null hypothesis is not rejected, unit root is present\\n\")\n",
    "          cat(\"      there is no trend, and there is no drift\\n\")\n",
    "          warning(\"This is inconsistent with the first null hypothesis.\")\n",
    "        } else {\n",
    "          # Third null hypothesis is rejected\n",
    "          cat(\"phi2: The third null hypothesis is rejected, unit root is not present\\n\")\n",
    "          cat(\"      there is no trend, and there is drift\\n\")\n",
    "        }\n",
    "      } else {\n",
    "        cat(\"phi3: The second null hypothesis is rejected, unit root is not present\\n\")\n",
    "        cat(\"      and there may or may not be trend\\n\")\n",
    "        warning(\"Presence of trend is inconclusive.\")\n",
    "        if(phi2_teststat_wi_crit) {\n",
    "          # Third null hypothesis is not rejected\n",
    "          # a0-drift = gamma = a2-trend = 0\n",
    "          cat(\"phi2: The third null hypothesis is not rejected, unit root is present\\n\")\n",
    "          cat(\"      there is no trend, and there is no drift\\n\")\n",
    "          warning(\"This is inconsistent with the first and second null hypothesis.\")\n",
    "        } else {\n",
    "          # Third null hypothesis is rejected\n",
    "          cat(\"phi2: The third null hypothesis is rejected, unit root is not present\\n\")\n",
    "          cat(\"      there may or may not be trend, and there may or may not be drift\\n\")\n",
    "          warning(\"Presence of trend and drift is inconclusive.\")\n",
    "        }\n",
    "      }\n",
    "    }\n",
    "  } else warning('urdf model type is not one of none, drift, or trend')\n",
    "  cat(\"========================================================================\\n\")\n",
    "}"
   ]
  },
  {
   "cell_type": "code",
   "execution_count": 3,
   "metadata": {
    "vscode": {
     "languageId": "r"
    }
   },
   "outputs": [],
   "source": [
    "POW <- read.csv('C:/Users/Thinkpad/Downloads/Dữ liệu Lịch sử POW.csv')"
   ]
  },
  {
   "cell_type": "code",
   "execution_count": 4,
   "metadata": {
    "vscode": {
     "languageId": "r"
    }
   },
   "outputs": [
    {
     "data": {
      "text/html": [
       "<table class=\"dataframe\">\n",
       "<caption>A data.frame: 391 × 2</caption>\n",
       "<thead>\n",
       "\t<tr><th scope=col>Date</th><th scope=col>Closing</th></tr>\n",
       "\t<tr><th scope=col>&lt;chr&gt;</th><th scope=col>&lt;int&gt;</th></tr>\n",
       "</thead>\n",
       "<tbody>\n",
       "\t<tr><td>04/01/2022</td><td>18700</td></tr>\n",
       "\t<tr><td>05/01/2022</td><td>19000</td></tr>\n",
       "\t<tr><td>06/01/2022</td><td>19250</td></tr>\n",
       "\t<tr><td>07/01/2022</td><td>20150</td></tr>\n",
       "\t<tr><td>10/01/2022</td><td>18750</td></tr>\n",
       "\t<tr><td>11/01/2022</td><td>18650</td></tr>\n",
       "\t<tr><td>12/01/2022</td><td>18150</td></tr>\n",
       "\t<tr><td>13/01/2022</td><td>16900</td></tr>\n",
       "\t<tr><td>14/01/2022</td><td>17700</td></tr>\n",
       "\t<tr><td>17/01/2022</td><td>16500</td></tr>\n",
       "\t<tr><td>18/01/2022</td><td>15400</td></tr>\n",
       "\t<tr><td>19/01/2022</td><td>16050</td></tr>\n",
       "\t<tr><td>20/01/2022</td><td>17000</td></tr>\n",
       "\t<tr><td>21/01/2022</td><td>16650</td></tr>\n",
       "\t<tr><td>24/01/2022</td><td>15500</td></tr>\n",
       "\t<tr><td>25/01/2022</td><td>16550</td></tr>\n",
       "\t<tr><td>26/01/2022</td><td>16300</td></tr>\n",
       "\t<tr><td>27/01/2022</td><td>16400</td></tr>\n",
       "\t<tr><td>28/01/2022</td><td>16800</td></tr>\n",
       "\t<tr><td>07/02/2022</td><td>17850</td></tr>\n",
       "\t<tr><td>08/02/2022</td><td>17900</td></tr>\n",
       "\t<tr><td>09/02/2022</td><td>17800</td></tr>\n",
       "\t<tr><td>10/02/2022</td><td>18550</td></tr>\n",
       "\t<tr><td>11/02/2022</td><td>18300</td></tr>\n",
       "\t<tr><td>14/02/2022</td><td>17700</td></tr>\n",
       "\t<tr><td>15/02/2022</td><td>18100</td></tr>\n",
       "\t<tr><td>16/02/2022</td><td>18200</td></tr>\n",
       "\t<tr><td>17/02/2022</td><td>18600</td></tr>\n",
       "\t<tr><td>18/02/2022</td><td>18550</td></tr>\n",
       "\t<tr><td>21/02/2022</td><td>18400</td></tr>\n",
       "\t<tr><td>⋮</td><td>⋮</td></tr>\n",
       "\t<tr><td>20/06/2023</td><td>13600</td></tr>\n",
       "\t<tr><td>21/06/2023</td><td>13650</td></tr>\n",
       "\t<tr><td>22/06/2023</td><td>13750</td></tr>\n",
       "\t<tr><td>23/06/2023</td><td>13700</td></tr>\n",
       "\t<tr><td>26/06/2023</td><td>13650</td></tr>\n",
       "\t<tr><td>27/06/2023</td><td>13600</td></tr>\n",
       "\t<tr><td>28/06/2023</td><td>13800</td></tr>\n",
       "\t<tr><td>29/06/2023</td><td>13550</td></tr>\n",
       "\t<tr><td>30/06/2023</td><td>13400</td></tr>\n",
       "\t<tr><td>03/07/2023</td><td>13300</td></tr>\n",
       "\t<tr><td>04/07/2023</td><td>13400</td></tr>\n",
       "\t<tr><td>05/07/2023</td><td>13500</td></tr>\n",
       "\t<tr><td>06/07/2023</td><td>13250</td></tr>\n",
       "\t<tr><td>07/07/2023</td><td>13100</td></tr>\n",
       "\t<tr><td>10/07/2023</td><td>13200</td></tr>\n",
       "\t<tr><td>11/07/2023</td><td>13250</td></tr>\n",
       "\t<tr><td>12/07/2023</td><td>13250</td></tr>\n",
       "\t<tr><td>13/07/2023</td><td>13350</td></tr>\n",
       "\t<tr><td>14/07/2023</td><td>13300</td></tr>\n",
       "\t<tr><td>17/07/2023</td><td>13350</td></tr>\n",
       "\t<tr><td>18/07/2023</td><td>13500</td></tr>\n",
       "\t<tr><td>19/07/2023</td><td>13300</td></tr>\n",
       "\t<tr><td>20/07/2023</td><td>13300</td></tr>\n",
       "\t<tr><td>21/07/2023</td><td>13250</td></tr>\n",
       "\t<tr><td>24/07/2023</td><td>13300</td></tr>\n",
       "\t<tr><td>25/07/2023</td><td>13250</td></tr>\n",
       "\t<tr><td>26/07/2023</td><td>13550</td></tr>\n",
       "\t<tr><td>27/07/2023</td><td>13300</td></tr>\n",
       "\t<tr><td>28/07/2023</td><td>13550</td></tr>\n",
       "\t<tr><td>31/07/2023</td><td>13700</td></tr>\n",
       "</tbody>\n",
       "</table>\n"
      ],
      "text/latex": [
       "A data.frame: 391 × 2\n",
       "\\begin{tabular}{ll}\n",
       " Date & Closing\\\\\n",
       " <chr> & <int>\\\\\n",
       "\\hline\n",
       "\t 04/01/2022 & 18700\\\\\n",
       "\t 05/01/2022 & 19000\\\\\n",
       "\t 06/01/2022 & 19250\\\\\n",
       "\t 07/01/2022 & 20150\\\\\n",
       "\t 10/01/2022 & 18750\\\\\n",
       "\t 11/01/2022 & 18650\\\\\n",
       "\t 12/01/2022 & 18150\\\\\n",
       "\t 13/01/2022 & 16900\\\\\n",
       "\t 14/01/2022 & 17700\\\\\n",
       "\t 17/01/2022 & 16500\\\\\n",
       "\t 18/01/2022 & 15400\\\\\n",
       "\t 19/01/2022 & 16050\\\\\n",
       "\t 20/01/2022 & 17000\\\\\n",
       "\t 21/01/2022 & 16650\\\\\n",
       "\t 24/01/2022 & 15500\\\\\n",
       "\t 25/01/2022 & 16550\\\\\n",
       "\t 26/01/2022 & 16300\\\\\n",
       "\t 27/01/2022 & 16400\\\\\n",
       "\t 28/01/2022 & 16800\\\\\n",
       "\t 07/02/2022 & 17850\\\\\n",
       "\t 08/02/2022 & 17900\\\\\n",
       "\t 09/02/2022 & 17800\\\\\n",
       "\t 10/02/2022 & 18550\\\\\n",
       "\t 11/02/2022 & 18300\\\\\n",
       "\t 14/02/2022 & 17700\\\\\n",
       "\t 15/02/2022 & 18100\\\\\n",
       "\t 16/02/2022 & 18200\\\\\n",
       "\t 17/02/2022 & 18600\\\\\n",
       "\t 18/02/2022 & 18550\\\\\n",
       "\t 21/02/2022 & 18400\\\\\n",
       "\t ⋮ & ⋮\\\\\n",
       "\t 20/06/2023 & 13600\\\\\n",
       "\t 21/06/2023 & 13650\\\\\n",
       "\t 22/06/2023 & 13750\\\\\n",
       "\t 23/06/2023 & 13700\\\\\n",
       "\t 26/06/2023 & 13650\\\\\n",
       "\t 27/06/2023 & 13600\\\\\n",
       "\t 28/06/2023 & 13800\\\\\n",
       "\t 29/06/2023 & 13550\\\\\n",
       "\t 30/06/2023 & 13400\\\\\n",
       "\t 03/07/2023 & 13300\\\\\n",
       "\t 04/07/2023 & 13400\\\\\n",
       "\t 05/07/2023 & 13500\\\\\n",
       "\t 06/07/2023 & 13250\\\\\n",
       "\t 07/07/2023 & 13100\\\\\n",
       "\t 10/07/2023 & 13200\\\\\n",
       "\t 11/07/2023 & 13250\\\\\n",
       "\t 12/07/2023 & 13250\\\\\n",
       "\t 13/07/2023 & 13350\\\\\n",
       "\t 14/07/2023 & 13300\\\\\n",
       "\t 17/07/2023 & 13350\\\\\n",
       "\t 18/07/2023 & 13500\\\\\n",
       "\t 19/07/2023 & 13300\\\\\n",
       "\t 20/07/2023 & 13300\\\\\n",
       "\t 21/07/2023 & 13250\\\\\n",
       "\t 24/07/2023 & 13300\\\\\n",
       "\t 25/07/2023 & 13250\\\\\n",
       "\t 26/07/2023 & 13550\\\\\n",
       "\t 27/07/2023 & 13300\\\\\n",
       "\t 28/07/2023 & 13550\\\\\n",
       "\t 31/07/2023 & 13700\\\\\n",
       "\\end{tabular}\n"
      ],
      "text/markdown": [
       "\n",
       "A data.frame: 391 × 2\n",
       "\n",
       "| Date &lt;chr&gt; | Closing &lt;int&gt; |\n",
       "|---|---|\n",
       "| 04/01/2022 | 18700 |\n",
       "| 05/01/2022 | 19000 |\n",
       "| 06/01/2022 | 19250 |\n",
       "| 07/01/2022 | 20150 |\n",
       "| 10/01/2022 | 18750 |\n",
       "| 11/01/2022 | 18650 |\n",
       "| 12/01/2022 | 18150 |\n",
       "| 13/01/2022 | 16900 |\n",
       "| 14/01/2022 | 17700 |\n",
       "| 17/01/2022 | 16500 |\n",
       "| 18/01/2022 | 15400 |\n",
       "| 19/01/2022 | 16050 |\n",
       "| 20/01/2022 | 17000 |\n",
       "| 21/01/2022 | 16650 |\n",
       "| 24/01/2022 | 15500 |\n",
       "| 25/01/2022 | 16550 |\n",
       "| 26/01/2022 | 16300 |\n",
       "| 27/01/2022 | 16400 |\n",
       "| 28/01/2022 | 16800 |\n",
       "| 07/02/2022 | 17850 |\n",
       "| 08/02/2022 | 17900 |\n",
       "| 09/02/2022 | 17800 |\n",
       "| 10/02/2022 | 18550 |\n",
       "| 11/02/2022 | 18300 |\n",
       "| 14/02/2022 | 17700 |\n",
       "| 15/02/2022 | 18100 |\n",
       "| 16/02/2022 | 18200 |\n",
       "| 17/02/2022 | 18600 |\n",
       "| 18/02/2022 | 18550 |\n",
       "| 21/02/2022 | 18400 |\n",
       "| ⋮ | ⋮ |\n",
       "| 20/06/2023 | 13600 |\n",
       "| 21/06/2023 | 13650 |\n",
       "| 22/06/2023 | 13750 |\n",
       "| 23/06/2023 | 13700 |\n",
       "| 26/06/2023 | 13650 |\n",
       "| 27/06/2023 | 13600 |\n",
       "| 28/06/2023 | 13800 |\n",
       "| 29/06/2023 | 13550 |\n",
       "| 30/06/2023 | 13400 |\n",
       "| 03/07/2023 | 13300 |\n",
       "| 04/07/2023 | 13400 |\n",
       "| 05/07/2023 | 13500 |\n",
       "| 06/07/2023 | 13250 |\n",
       "| 07/07/2023 | 13100 |\n",
       "| 10/07/2023 | 13200 |\n",
       "| 11/07/2023 | 13250 |\n",
       "| 12/07/2023 | 13250 |\n",
       "| 13/07/2023 | 13350 |\n",
       "| 14/07/2023 | 13300 |\n",
       "| 17/07/2023 | 13350 |\n",
       "| 18/07/2023 | 13500 |\n",
       "| 19/07/2023 | 13300 |\n",
       "| 20/07/2023 | 13300 |\n",
       "| 21/07/2023 | 13250 |\n",
       "| 24/07/2023 | 13300 |\n",
       "| 25/07/2023 | 13250 |\n",
       "| 26/07/2023 | 13550 |\n",
       "| 27/07/2023 | 13300 |\n",
       "| 28/07/2023 | 13550 |\n",
       "| 31/07/2023 | 13700 |\n",
       "\n"
      ],
      "text/plain": [
       "    Date       Closing\n",
       "1   04/01/2022 18700  \n",
       "2   05/01/2022 19000  \n",
       "3   06/01/2022 19250  \n",
       "4   07/01/2022 20150  \n",
       "5   10/01/2022 18750  \n",
       "6   11/01/2022 18650  \n",
       "7   12/01/2022 18150  \n",
       "8   13/01/2022 16900  \n",
       "9   14/01/2022 17700  \n",
       "10  17/01/2022 16500  \n",
       "11  18/01/2022 15400  \n",
       "12  19/01/2022 16050  \n",
       "13  20/01/2022 17000  \n",
       "14  21/01/2022 16650  \n",
       "15  24/01/2022 15500  \n",
       "16  25/01/2022 16550  \n",
       "17  26/01/2022 16300  \n",
       "18  27/01/2022 16400  \n",
       "19  28/01/2022 16800  \n",
       "20  07/02/2022 17850  \n",
       "21  08/02/2022 17900  \n",
       "22  09/02/2022 17800  \n",
       "23  10/02/2022 18550  \n",
       "24  11/02/2022 18300  \n",
       "25  14/02/2022 17700  \n",
       "26  15/02/2022 18100  \n",
       "27  16/02/2022 18200  \n",
       "28  17/02/2022 18600  \n",
       "29  18/02/2022 18550  \n",
       "30  21/02/2022 18400  \n",
       "⋮   ⋮          ⋮      \n",
       "362 20/06/2023 13600  \n",
       "363 21/06/2023 13650  \n",
       "364 22/06/2023 13750  \n",
       "365 23/06/2023 13700  \n",
       "366 26/06/2023 13650  \n",
       "367 27/06/2023 13600  \n",
       "368 28/06/2023 13800  \n",
       "369 29/06/2023 13550  \n",
       "370 30/06/2023 13400  \n",
       "371 03/07/2023 13300  \n",
       "372 04/07/2023 13400  \n",
       "373 05/07/2023 13500  \n",
       "374 06/07/2023 13250  \n",
       "375 07/07/2023 13100  \n",
       "376 10/07/2023 13200  \n",
       "377 11/07/2023 13250  \n",
       "378 12/07/2023 13250  \n",
       "379 13/07/2023 13350  \n",
       "380 14/07/2023 13300  \n",
       "381 17/07/2023 13350  \n",
       "382 18/07/2023 13500  \n",
       "383 19/07/2023 13300  \n",
       "384 20/07/2023 13300  \n",
       "385 21/07/2023 13250  \n",
       "386 24/07/2023 13300  \n",
       "387 25/07/2023 13250  \n",
       "388 26/07/2023 13550  \n",
       "389 27/07/2023 13300  \n",
       "390 28/07/2023 13550  \n",
       "391 31/07/2023 13700  "
      ]
     },
     "metadata": {},
     "output_type": "display_data"
    }
   ],
   "source": [
    "POW"
   ]
  },
  {
   "cell_type": "code",
   "execution_count": 5,
   "metadata": {
    "vscode": {
     "languageId": "r"
    }
   },
   "outputs": [
    {
     "data": {
      "text/html": [
       "<table class=\"dataframe\">\n",
       "<caption>A data.frame: 6 × 2</caption>\n",
       "<thead>\n",
       "\t<tr><th></th><th scope=col>Date</th><th scope=col>Closing</th></tr>\n",
       "\t<tr><th></th><th scope=col>&lt;chr&gt;</th><th scope=col>&lt;int&gt;</th></tr>\n",
       "</thead>\n",
       "<tbody>\n",
       "\t<tr><th scope=row>1</th><td>04/01/2022</td><td>18700</td></tr>\n",
       "\t<tr><th scope=row>2</th><td>05/01/2022</td><td>19000</td></tr>\n",
       "\t<tr><th scope=row>3</th><td>06/01/2022</td><td>19250</td></tr>\n",
       "\t<tr><th scope=row>4</th><td>07/01/2022</td><td>20150</td></tr>\n",
       "\t<tr><th scope=row>5</th><td>10/01/2022</td><td>18750</td></tr>\n",
       "\t<tr><th scope=row>6</th><td>11/01/2022</td><td>18650</td></tr>\n",
       "</tbody>\n",
       "</table>\n"
      ],
      "text/latex": [
       "A data.frame: 6 × 2\n",
       "\\begin{tabular}{r|ll}\n",
       "  & Date & Closing\\\\\n",
       "  & <chr> & <int>\\\\\n",
       "\\hline\n",
       "\t1 & 04/01/2022 & 18700\\\\\n",
       "\t2 & 05/01/2022 & 19000\\\\\n",
       "\t3 & 06/01/2022 & 19250\\\\\n",
       "\t4 & 07/01/2022 & 20150\\\\\n",
       "\t5 & 10/01/2022 & 18750\\\\\n",
       "\t6 & 11/01/2022 & 18650\\\\\n",
       "\\end{tabular}\n"
      ],
      "text/markdown": [
       "\n",
       "A data.frame: 6 × 2\n",
       "\n",
       "| <!--/--> | Date &lt;chr&gt; | Closing &lt;int&gt; |\n",
       "|---|---|---|\n",
       "| 1 | 04/01/2022 | 18700 |\n",
       "| 2 | 05/01/2022 | 19000 |\n",
       "| 3 | 06/01/2022 | 19250 |\n",
       "| 4 | 07/01/2022 | 20150 |\n",
       "| 5 | 10/01/2022 | 18750 |\n",
       "| 6 | 11/01/2022 | 18650 |\n",
       "\n"
      ],
      "text/plain": [
       "  Date       Closing\n",
       "1 04/01/2022 18700  \n",
       "2 05/01/2022 19000  \n",
       "3 06/01/2022 19250  \n",
       "4 07/01/2022 20150  \n",
       "5 10/01/2022 18750  \n",
       "6 11/01/2022 18650  "
      ]
     },
     "metadata": {},
     "output_type": "display_data"
    }
   ],
   "source": [
    "head(POW)"
   ]
  },
  {
   "cell_type": "code",
   "execution_count": 6,
   "metadata": {
    "vscode": {
     "languageId": "r"
    }
   },
   "outputs": [],
   "source": [
    "POW$Date <- as.Date(POW$Date, format = \"%d/%m/%y\")"
   ]
  },
  {
   "cell_type": "code",
   "execution_count": 7,
   "metadata": {
    "vscode": {
     "languageId": "r"
    }
   },
   "outputs": [],
   "source": [
    "time <- seq(length(POW$Date))"
   ]
  },
  {
   "cell_type": "code",
   "execution_count": 8,
   "metadata": {
    "vscode": {
     "languageId": "r"
    }
   },
   "outputs": [],
   "source": [
    "POW$Closing <- ts(POW$Closing, start = c(2022,as.numeric(format(as.Date('2022-01-04'), \"%j\")), frequency = 365))"
   ]
  },
  {
   "cell_type": "code",
   "execution_count": 9,
   "metadata": {
    "vscode": {
     "languageId": "r"
    }
   },
   "outputs": [],
   "source": [
    "attach(POW)"
   ]
  },
  {
   "cell_type": "code",
   "execution_count": 10,
   "metadata": {
    "vscode": {
     "languageId": "r"
    }
   },
   "outputs": [
    {
     "data": {
      "text/html": [
       "A Time Series:<br><style>\n",
       ".list-inline {list-style: none; margin:0; padding: 0}\n",
       ".list-inline>li {display: inline-block}\n",
       ".list-inline>li:not(:last-child)::after {content: \"\\00b7\"; padding: 0 .5ex}\n",
       "</style>\n",
       "<ol class=list-inline><li>18700</li><li>19000</li><li>19250</li><li>20150</li><li>18750</li></ol>\n"
      ],
      "text/latex": [
       "A Time Series:\\\\\\begin{enumerate*}\n",
       "\\item 18700\n",
       "\\item 19000\n",
       "\\item 19250\n",
       "\\item 20150\n",
       "\\item 18750\n",
       "\\end{enumerate*}\n"
      ],
      "text/markdown": [
       "A Time Series:  \n",
       "1. 18700\n",
       "2. 19000\n",
       "3. 19250\n",
       "4. 20150\n",
       "5. 18750\n",
       "\n",
       "\n"
      ],
      "text/plain": [
       "A Time Series:\n",
       "[1] 18700 19000 19250 20150 18750"
      ]
     },
     "metadata": {},
     "output_type": "display_data"
    }
   ],
   "source": [
    "head(Closing, 5)\n"
   ]
  },
  {
   "cell_type": "code",
   "execution_count": 11,
   "metadata": {
    "vscode": {
     "languageId": "r"
    }
   },
   "outputs": [
    {
     "data": {
      "image/png": "[encoded data removed]",
      "text/plain": [
       "plot without title"
      ]
     },
     "metadata": {
      "image/png": {
       "height": 420,
       "width": 420
      }
     },
     "output_type": "display_data"
    }
   ],
   "source": [
    "plot.ts(Closing)"
   ]
  },
  {
   "cell_type": "code",
   "execution_count": 12,
   "metadata": {
    "vscode": {
     "languageId": "r"
    }
   },
   "outputs": [],
   "source": [
    "ClosingDiff1 <- ts(Closing - Lag(Closing, 1), start = c(2022,as.numeric(format(as.Date('2022-01-04'), \"%j\"))), frequency = 365)\n",
    "ClosingDiff1 <- ClosingDiff1[2:391]\n",
    "ClosingDiff1_train <- ClosingDiff1[1:381]\n",
    "ClosingDiff1_test <- ClosingDiff1[382:391]"
   ]
  },
  {
   "cell_type": "code",
   "execution_count": 13,
   "metadata": {
    "vscode": {
     "languageId": "r"
    }
   },
   "outputs": [
    {
     "data": {
      "text/html": [
       "<style>\n",
       ".list-inline {list-style: none; margin:0; padding: 0}\n",
       ".list-inline>li {display: inline-block}\n",
       ".list-inline>li:not(:last-child)::after {content: \"\\00b7\"; padding: 0 .5ex}\n",
       "</style>\n",
       "<ol class=list-inline><li>300</li><li>250</li><li>900</li><li>-1400</li><li>-100</li></ol>\n"
      ],
      "text/latex": [
       "\\begin{enumerate*}\n",
       "\\item 300\n",
       "\\item 250\n",
       "\\item 900\n",
       "\\item -1400\n",
       "\\item -100\n",
       "\\end{enumerate*}\n"
      ],
      "text/markdown": [
       "1. 300\n",
       "2. 250\n",
       "3. 900\n",
       "4. -1400\n",
       "5. -100\n",
       "\n",
       "\n"
      ],
      "text/plain": [
       "[1]   300   250   900 -1400  -100"
      ]
     },
     "metadata": {},
     "output_type": "display_data"
    }
   ],
   "source": [
    "head(ClosingDiff1, 5)"
   ]
  },
  {
   "cell_type": "code",
   "execution_count": 14,
   "metadata": {
    "vscode": {
     "languageId": "r"
    }
   },
   "outputs": [
    {
     "data": {
      "image/png": "[encoded data removed]",
      "text/plain": [
       "plot without title"
      ]
     },
     "metadata": {
      "image/png": {
       "height": 420,
       "width": 420
      }
     },
     "output_type": "display_data"
    }
   ],
   "source": [
    "plot.ts(ClosingDiff1_train)"
   ]
  },
  {
   "cell_type": "code",
   "execution_count": 15,
   "metadata": {
    "vscode": {
     "languageId": "r"
    }
   },
   "outputs": [],
   "source": [
    "ClosingRelativeDiff <- ts((Closing - Lag(Closing,1))/Lag(Closing,1), start = c(2022,as.numeric(format(as.Date('2022-01-04'), \"%j\"))), frequency = 365)\n",
    "ClosingRelativeDiff <- ClosingRelativeDiff[2:391]\n",
    "ClosingRelativeDiff_train <- ClosingRelativeDiff[1:381]\n",
    "ClosingRelativeDiff_test <- ClosingRelativeDiff[382:391]"
   ]
  },
  {
   "cell_type": "code",
   "execution_count": 16,
   "metadata": {
    "vscode": {
     "languageId": "r"
    }
   },
   "outputs": [
    {
     "data": {
      "text/html": [
       "<style>\n",
       ".list-inline {list-style: none; margin:0; padding: 0}\n",
       ".list-inline>li {display: inline-block}\n",
       ".list-inline>li:not(:last-child)::after {content: \"\\00b7\"; padding: 0 .5ex}\n",
       "</style>\n",
       "<ol class=list-inline><li>0.0160427807486631</li><li>0.0131578947368421</li><li>0.0467532467532468</li><li>-0.0694789081885856</li><li>-0.00533333333333333</li></ol>\n"
      ],
      "text/latex": [
       "\\begin{enumerate*}\n",
       "\\item 0.0160427807486631\n",
       "\\item 0.0131578947368421\n",
       "\\item 0.0467532467532468\n",
       "\\item -0.0694789081885856\n",
       "\\item -0.00533333333333333\n",
       "\\end{enumerate*}\n"
      ],
      "text/markdown": [
       "1. 0.0160427807486631\n",
       "2. 0.0131578947368421\n",
       "3. 0.0467532467532468\n",
       "4. -0.0694789081885856\n",
       "5. -0.00533333333333333\n",
       "\n",
       "\n"
      ],
      "text/plain": [
       "[1]  0.016042781  0.013157895  0.046753247 -0.069478908 -0.005333333"
      ]
     },
     "metadata": {},
     "output_type": "display_data"
    }
   ],
   "source": [
    "head(ClosingRelativeDiff, 5)"
   ]
  },
  {
   "cell_type": "code",
   "execution_count": 17,
   "metadata": {
    "vscode": {
     "languageId": "r"
    }
   },
   "outputs": [
    {
     "data": {
      "image/png": "[encoded data removed]",
      "text/plain": [
       "plot without title"
      ]
     },
     "metadata": {
      "image/png": {
       "height": 420,
       "width": 420
      }
     },
     "output_type": "display_data"
    }
   ],
   "source": [
    "plot.ts(ClosingRelativeDiff_train)"
   ]
  },
  {
   "cell_type": "code",
   "execution_count": 18,
   "metadata": {
    "vscode": {
     "languageId": "r"
    }
   },
   "outputs": [],
   "source": [
    "ClosingLR <- ts(log(Closing/Lag(Closing, 1)), start = c(2022,as.numeric(format(as.Date('2022-01-04'), \"%j\"))), frequency = 365)\n",
    "ClosingLR <- ClosingLR[2:391]\n",
    "ClosingLR_train <- ClosingLR[1:381]\n",
    "ClosingLR_test <- ClosingLR[382:391]"
   ]
  },
  {
   "cell_type": "code",
   "execution_count": 19,
   "metadata": {
    "vscode": {
     "languageId": "r"
    }
   },
   "outputs": [
    {
     "data": {
      "text/html": [
       "<style>\n",
       ".list-inline {list-style: none; margin:0; padding: 0}\n",
       ".list-inline>li {display: inline-block}\n",
       ".list-inline>li:not(:last-child)::after {content: \"\\00b7\"; padding: 0 .5ex}\n",
       "</style>\n",
       "<ol class=list-inline><li>0.0159154553058996</li><li>0.0130720815673527</li><li>0.0456932276588988</li><li>-0.0720105359762722</li><li>-0.00534760632659524</li></ol>\n"
      ],
      "text/latex": [
       "\\begin{enumerate*}\n",
       "\\item 0.0159154553058996\n",
       "\\item 0.0130720815673527\n",
       "\\item 0.0456932276588988\n",
       "\\item -0.0720105359762722\n",
       "\\item -0.00534760632659524\n",
       "\\end{enumerate*}\n"
      ],
      "text/markdown": [
       "1. 0.0159154553058996\n",
       "2. 0.0130720815673527\n",
       "3. 0.0456932276588988\n",
       "4. -0.0720105359762722\n",
       "5. -0.00534760632659524\n",
       "\n",
       "\n"
      ],
      "text/plain": [
       "[1]  0.015915455  0.013072082  0.045693228 -0.072010536 -0.005347606"
      ]
     },
     "metadata": {},
     "output_type": "display_data"
    }
   ],
   "source": [
    "head(ClosingLR, 5)"
   ]
  },
  {
   "cell_type": "code",
   "execution_count": 20,
   "metadata": {
    "vscode": {
     "languageId": "r"
    }
   },
   "outputs": [
    {
     "data": {
      "image/png": "[encoded data removed]",
      "text/plain": [
       "plot without title"
      ]
     },
     "metadata": {
      "image/png": {
       "height": 420,
       "width": 420
      }
     },
     "output_type": "display_data"
    }
   ],
   "source": [
    "plot.ts(ClosingLR_train)"
   ]
  },
  {
   "cell_type": "markdown",
   "metadata": {},
   "source": [
    "DF tests: Checking for stationary series"
   ]
  },
  {
   "cell_type": "markdown",
   "metadata": {},
   "source": [
    "original series is not stationary\n"
   ]
  },
  {
   "cell_type": "code",
   "execution_count": 21,
   "metadata": {
    "vscode": {
     "languageId": "r"
    }
   },
   "outputs": [
    {
     "data": {
      "text/plain": [
       "\n",
       "############################################### \n",
       "# Augmented Dickey-Fuller Test Unit Root Test # \n",
       "############################################### \n",
       "\n",
       "Test regression drift \n",
       "\n",
       "\n",
       "Call:\n",
       "lm(formula = z.diff ~ z.lag.1 + 1 + z.diff.lag)\n",
       "\n",
       "Residuals:\n",
       "     Min       1Q   Median       3Q      Max \n",
       "-1295.68  -149.66    33.07   189.51  1104.97 \n",
       "\n",
       "Coefficients:\n",
       "             Estimate Std. Error t value Pr(>|t|)    \n",
       "(Intercept) -17.74810   19.08488  -0.930   0.3530    \n",
       "z.lag.1      -1.17784    0.07443 -15.825   <2e-16 ***\n",
       "z.diff.lag    0.11305    0.05117   2.209   0.0277 *  \n",
       "---\n",
       "Signif. codes:  0 '***' 0.001 '**' 0.01 '*' 0.05 '.' 0.1 ' ' 1\n",
       "\n",
       "Residual standard error: 370.9 on 376 degrees of freedom\n",
       "Multiple R-squared:  0.5354,\tAdjusted R-squared:  0.5329 \n",
       "F-statistic: 216.7 on 2 and 376 DF,  p-value: < 2.2e-16\n",
       "\n",
       "\n",
       "Value of test-statistic is: -15.8254 125.2227 \n",
       "\n",
       "Critical values for test statistics: \n",
       "      1pct  5pct 10pct\n",
       "tau2 -3.44 -2.87 -2.57\n",
       "phi1  6.47  4.61  3.79\n"
      ]
     },
     "metadata": {},
     "output_type": "display_data"
    }
   ],
   "source": [
    "summary(ur.df(ClosingDiff1_train, type = \"drift\", selectlags = \"AIC\"))"
   ]
  },
  {
   "cell_type": "code",
   "execution_count": 22,
   "metadata": {
    "vscode": {
     "languageId": "r"
    }
   },
   "outputs": [
    {
     "data": {
      "text/plain": [
       "\n",
       "############################################### \n",
       "# Augmented Dickey-Fuller Test Unit Root Test # \n",
       "############################################### \n",
       "\n",
       "Test regression none \n",
       "\n",
       "\n",
       "Call:\n",
       "lm(formula = z.diff ~ z.lag.1 - 1 + z.diff.lag)\n",
       "\n",
       "Residuals:\n",
       "     Min       1Q   Median       3Q      Max \n",
       "-1315.72  -167.03    15.69   171.86  1086.22 \n",
       "\n",
       "Coefficients:\n",
       "           Estimate Std. Error t value Pr(>|t|)    \n",
       "z.lag.1    -1.17390    0.07429 -15.801   <2e-16 ***\n",
       "z.diff.lag  0.11113    0.05112   2.174   0.0303 *  \n",
       "---\n",
       "Signif. codes:  0 '***' 0.001 '**' 0.01 '*' 0.05 '.' 0.1 ' ' 1\n",
       "\n",
       "Residual standard error: 370.9 on 377 degrees of freedom\n",
       "Multiple R-squared:  0.5343,\tAdjusted R-squared:  0.5319 \n",
       "F-statistic: 216.3 on 2 and 377 DF,  p-value: < 2.2e-16\n",
       "\n",
       "\n",
       "Value of test-statistic is: -15.801 \n",
       "\n",
       "Critical values for test statistics: \n",
       "      1pct  5pct 10pct\n",
       "tau1 -2.58 -1.95 -1.62\n"
      ]
     },
     "metadata": {},
     "output_type": "display_data"
    }
   ],
   "source": [
    "summary(ur.df(ClosingDiff1_train, type = \"none\", selectlags = \"AIC\"))"
   ]
  },
  {
   "cell_type": "markdown",
   "metadata": {},
   "source": [
    "ClosingDiff1 is stationary (None)"
   ]
  },
  {
   "cell_type": "code",
   "execution_count": 23,
   "metadata": {
    "vscode": {
     "languageId": "r"
    }
   },
   "outputs": [
    {
     "data": {
      "text/plain": [
       "\n",
       "############################################### \n",
       "# Augmented Dickey-Fuller Test Unit Root Test # \n",
       "############################################### \n",
       "\n",
       "Test regression drift \n",
       "\n",
       "\n",
       "Call:\n",
       "lm(formula = z.diff ~ z.lag.1 + 1 + z.diff.lag)\n",
       "\n",
       "Residuals:\n",
       "      Min        1Q    Median        3Q       Max \n",
       "-0.079835 -0.011606  0.001855  0.013517  0.072869 \n",
       "\n",
       "Coefficients:\n",
       "              Estimate Std. Error t value Pr(>|t|)    \n",
       "(Intercept) -0.0006715  0.0013730  -0.489   0.6251    \n",
       "z.lag.1     -1.1799827  0.0744905 -15.841   <2e-16 ***\n",
       "z.diff.lag   0.1147661  0.0511992   2.242   0.0256 *  \n",
       "---\n",
       "Signif. codes:  0 '***' 0.001 '**' 0.01 '*' 0.05 '.' 0.1 ' ' 1\n",
       "\n",
       "Residual standard error: 0.02672 on 376 degrees of freedom\n",
       "Multiple R-squared:  0.5355,\tAdjusted R-squared:  0.5331 \n",
       "F-statistic: 216.8 on 2 and 376 DF,  p-value: < 2.2e-16\n",
       "\n",
       "\n",
       "Value of test-statistic is: -15.8407 125.4641 \n",
       "\n",
       "Critical values for test statistics: \n",
       "      1pct  5pct 10pct\n",
       "tau2 -3.44 -2.87 -2.57\n",
       "phi1  6.47  4.61  3.79\n"
      ]
     },
     "metadata": {},
     "output_type": "display_data"
    }
   ],
   "source": [
    "summary(ur.df(ClosingRelativeDiff_train, type = \"drift\", selectlags = \"AIC\"))"
   ]
  },
  {
   "cell_type": "code",
   "execution_count": 24,
   "metadata": {
    "vscode": {
     "languageId": "r"
    }
   },
   "outputs": [
    {
     "data": {
      "text/plain": [
       "\n",
       "############################################### \n",
       "# Augmented Dickey-Fuller Test Unit Root Test # \n",
       "############################################### \n",
       "\n",
       "Test regression none \n",
       "\n",
       "\n",
       "Call:\n",
       "lm(formula = z.diff ~ z.lag.1 - 1 + z.diff.lag)\n",
       "\n",
       "Residuals:\n",
       "     Min       1Q   Median       3Q      Max \n",
       "-0.08043 -0.01227  0.00119  0.01283  0.07218 \n",
       "\n",
       "Coefficients:\n",
       "           Estimate Std. Error t value Pr(>|t|)    \n",
       "z.lag.1    -1.17889    0.07438 -15.849   <2e-16 ***\n",
       "z.diff.lag  0.11424    0.05114   2.234   0.0261 *  \n",
       "---\n",
       "Signif. codes:  0 '***' 0.001 '**' 0.01 '*' 0.05 '.' 0.1 ' ' 1\n",
       "\n",
       "Residual standard error: 0.02669 on 377 degrees of freedom\n",
       "Multiple R-squared:  0.5352,\tAdjusted R-squared:  0.5328 \n",
       "F-statistic: 217.1 on 2 and 377 DF,  p-value: < 2.2e-16\n",
       "\n",
       "\n",
       "Value of test-statistic is: -15.8492 \n",
       "\n",
       "Critical values for test statistics: \n",
       "      1pct  5pct 10pct\n",
       "tau1 -2.58 -1.95 -1.62\n"
      ]
     },
     "metadata": {},
     "output_type": "display_data"
    }
   ],
   "source": [
    "summary(ur.df(ClosingRelativeDiff_train, type = \"none\", selectlags = \"AIC\"))"
   ]
  },
  {
   "cell_type": "markdown",
   "metadata": {},
   "source": [
    "ClosingRelativeDiff is stationary (None)"
   ]
  },
  {
   "cell_type": "code",
   "execution_count": 25,
   "metadata": {
    "vscode": {
     "languageId": "r"
    }
   },
   "outputs": [
    {
     "data": {
      "text/plain": [
       "\n",
       "############################################### \n",
       "# Augmented Dickey-Fuller Test Unit Root Test # \n",
       "############################################### \n",
       "\n",
       "Test regression drift \n",
       "\n",
       "\n",
       "Call:\n",
       "lm(formula = z.diff ~ z.lag.1 + 1 + z.diff.lag)\n",
       "\n",
       "Residuals:\n",
       "      Min        1Q    Median        3Q       Max \n",
       "-0.081756 -0.011574  0.002235  0.013683  0.070876 \n",
       "\n",
       "Coefficients:\n",
       "             Estimate Std. Error t value Pr(>|t|)    \n",
       "(Intercept) -0.001093   0.001383  -0.790   0.4298    \n",
       "z.lag.1     -1.172512   0.074401 -15.759   <2e-16 ***\n",
       "z.diff.lag   0.111274   0.051220   2.172   0.0304 *  \n",
       "---\n",
       "Signif. codes:  0 '***' 0.001 '**' 0.01 '*' 0.05 '.' 0.1 ' ' 1\n",
       "\n",
       "Residual standard error: 0.0269 on 376 degrees of freedom\n",
       "Multiple R-squared:  0.5335,\tAdjusted R-squared:  0.531 \n",
       "F-statistic:   215 on 2 and 376 DF,  p-value: < 2.2e-16\n",
       "\n",
       "\n",
       "Value of test-statistic is: -15.7594 124.1798 \n",
       "\n",
       "Critical values for test statistics: \n",
       "      1pct  5pct 10pct\n",
       "tau2 -3.44 -2.87 -2.57\n",
       "phi1  6.47  4.61  3.79\n"
      ]
     },
     "metadata": {},
     "output_type": "display_data"
    }
   ],
   "source": [
    "summary(ur.df(ClosingLR_train, type = 'drift', selectlags = \"AIC\"))"
   ]
  },
  {
   "cell_type": "code",
   "execution_count": 26,
   "metadata": {
    "vscode": {
     "languageId": "r"
    }
   },
   "outputs": [
    {
     "data": {
      "text/plain": [
       "\n",
       "############################################### \n",
       "# Augmented Dickey-Fuller Test Unit Root Test # \n",
       "############################################### \n",
       "\n",
       "Test regression none \n",
       "\n",
       "\n",
       "Call:\n",
       "lm(formula = z.diff ~ z.lag.1 - 1 + z.diff.lag)\n",
       "\n",
       "Residuals:\n",
       "      Min        1Q    Median        3Q       Max \n",
       "-0.082641 -0.012754  0.001162  0.012625  0.069737 \n",
       "\n",
       "Coefficients:\n",
       "           Estimate Std. Error t value Pr(>|t|)    \n",
       "z.lag.1    -1.16962    0.07427 -15.747   <2e-16 ***\n",
       "z.diff.lag  0.10985    0.05116   2.147   0.0324 *  \n",
       "---\n",
       "Signif. codes:  0 '***' 0.001 '**' 0.01 '*' 0.05 '.' 0.1 ' ' 1\n",
       "\n",
       "Residual standard error: 0.02688 on 377 degrees of freedom\n",
       "Multiple R-squared:  0.5327,\tAdjusted R-squared:  0.5302 \n",
       "F-statistic: 214.9 on 2 and 377 DF,  p-value: < 2.2e-16\n",
       "\n",
       "\n",
       "Value of test-statistic is: -15.7474 \n",
       "\n",
       "Critical values for test statistics: \n",
       "      1pct  5pct 10pct\n",
       "tau1 -2.58 -1.95 -1.62\n"
      ]
     },
     "metadata": {},
     "output_type": "display_data"
    }
   ],
   "source": [
    "summary(ur.df(ClosingLR_train, type = 'none', selectlags = \"AIC\"))"
   ]
  },
  {
   "cell_type": "markdown",
   "metadata": {},
   "source": [
    "ClosingLR is stationary"
   ]
  },
  {
   "cell_type": "markdown",
   "metadata": {},
   "source": [
    "Checking for ACF, PACF to apply to ARMA models for ClosingDiff1, ClosingRelativeDiff and ClosingLR"
   ]
  },
  {
   "cell_type": "code",
   "execution_count": 27,
   "metadata": {
    "vscode": {
     "languageId": "r"
    }
   },
   "outputs": [
    {
     "data": {
      "text/html": [
       "0.10041199670949"
      ],
      "text/latex": [
       "0.10041199670949"
      ],
      "text/markdown": [
       "0.10041199670949"
      ],
      "text/plain": [
       "[1] 0.100412"
      ]
     },
     "metadata": {},
     "output_type": "display_data"
    }
   ],
   "source": [
    "qnorm(1-0.05/2)/sqrt(length(ClosingDiff1_train))"
   ]
  },
  {
   "cell_type": "markdown",
   "metadata": {},
   "source": [
    "ClosingDiff1 "
   ]
  },
  {
   "cell_type": "code",
   "execution_count": 28,
   "metadata": {
    "vscode": {
     "languageId": "r"
    }
   },
   "outputs": [
    {
     "data": {
      "text/plain": [
       "\n",
       "Autocorrelations of series 'ClosingDiff1_train', by lag\n",
       "\n",
       "     0      1      2      3      4      5      6      7      8      9     10 \n",
       " 1.000 -0.057 -0.109  0.053  0.023 -0.019 -0.003  0.028 -0.038 -0.028  0.031 \n",
       "    11     12     13     14     15     16     17     18     19     20     21 \n",
       "-0.017 -0.058 -0.038  0.093 -0.028  0.039  0.015 -0.050 -0.046 -0.051 -0.035 \n",
       "    22     23     24     25 \n",
       "-0.069  0.020 -0.009  0.038 "
      ]
     },
     "metadata": {},
     "output_type": "display_data"
    },
    {
     "data": {
      "text/plain": [
       "\n",
       "Partial autocorrelations of series 'ClosingDiff1_train', by lag\n",
       "\n",
       "     1      2      3      4      5      6      7      8      9     10     11 \n",
       "-0.057 -0.113  0.041  0.017 -0.007 -0.003  0.024 -0.036 -0.027  0.018 -0.018 \n",
       "    12     13     14     15     16     17     18     19     20     21     22 \n",
       "-0.052 -0.051  0.077 -0.020  0.062  0.006 -0.039 -0.052 -0.074 -0.060 -0.079 \n",
       "    23     24     25 \n",
       " 0.009 -0.025  0.055 "
      ]
     },
     "metadata": {},
     "output_type": "display_data"
    },
    {
     "data": {
      "image/png": "[encoded data removed]",
      "text/plain": [
       "Plot with title \"Series  ClosingDiff1_train\""
      ]
     },
     "metadata": {
      "image/png": {
       "height": 420,
       "width": 420
      }
     },
     "output_type": "display_data"
    },
    {
     "data": {
      "image/png": "[encoded data removed]",
      "text/plain": [
       "Plot with title \"Series  ClosingDiff1_train\""
      ]
     },
     "metadata": {
      "image/png": {
       "height": 420,
       "width": 420
      }
     },
     "output_type": "display_data"
    }
   ],
   "source": [
    "#ARMA(-2,-2)\n",
    "acf(ClosingDiff1_train, plot = FALSE)\n",
    "pacf(ClosingDiff1_train, plot = FALSE)\n",
    "acf(ClosingDiff1_train)\n",
    "pacf(ClosingDiff1_train)"
   ]
  },
  {
   "cell_type": "markdown",
   "metadata": {},
   "source": [
    "ClosingRelativeDiff "
   ]
  },
  {
   "cell_type": "code",
   "execution_count": 29,
   "metadata": {
    "vscode": {
     "languageId": "r"
    }
   },
   "outputs": [
    {
     "data": {
      "text/plain": [
       "\n",
       "Autocorrelations of series 'ClosingRelativeDiff_train', by lag\n",
       "\n",
       "     0      1      2      3      4      5      6      7      8      9     10 \n",
       " 1.000 -0.058 -0.111  0.043  0.005 -0.029  0.007 -0.001  0.003 -0.002  0.014 \n",
       "    11     12     13     14     15     16     17     18     19     20     21 \n",
       " 0.007 -0.063 -0.031  0.089 -0.003  0.050  0.015 -0.040 -0.042 -0.096 -0.028 \n",
       "    22     23     24     25 \n",
       "-0.051  0.000 -0.009  0.051 "
      ]
     },
     "metadata": {},
     "output_type": "display_data"
    },
    {
     "data": {
      "text/plain": [
       "\n",
       "Partial autocorrelations of series 'ClosingRelativeDiff_train', by lag\n",
       "\n",
       "     1      2      3      4      5      6      7      8      9     10     11 \n",
       "-0.058 -0.115  0.030 -0.003 -0.021  0.003 -0.006  0.005 -0.003  0.015  0.009 \n",
       "    12     13     14     15     16     17     18     19     20     21     22 \n",
       "-0.060 -0.039  0.073  0.005  0.072  0.014 -0.028 -0.045 -0.114 -0.047 -0.078 \n",
       "    23     24     25 \n",
       "-0.009 -0.028  0.047 "
      ]
     },
     "metadata": {},
     "output_type": "display_data"
    },
    {
     "data": {
      "image/png": "[encoded data removed]",
      "text/plain": [
       "Plot with title \"Series  ClosingRelativeDiff_train\""
      ]
     },
     "metadata": {
      "image/png": {
       "height": 420,
       "width": 420
      }
     },
     "output_type": "display_data"
    },
    {
     "data": {
      "image/png": "[encoded data removed]",
      "text/plain": [
       "Plot with title \"Series  ClosingRelativeDiff_train\""
      ]
     },
     "metadata": {
      "image/png": {
       "height": 420,
       "width": 420
      }
     },
     "output_type": "display_data"
    }
   ],
   "source": [
    "#ARMA(-2,-2)\n",
    "acf(ClosingRelativeDiff_train, plot = FALSE)\n",
    "pacf(ClosingRelativeDiff_train, plot = FALSE)\n",
    "acf(ClosingRelativeDiff_train)\n",
    "pacf(ClosingRelativeDiff_train)"
   ]
  },
  {
   "cell_type": "markdown",
   "metadata": {},
   "source": [
    "ClosingLR "
   ]
  },
  {
   "cell_type": "code",
   "execution_count": 30,
   "metadata": {
    "vscode": {
     "languageId": "r"
    }
   },
   "outputs": [
    {
     "data": {
      "text/plain": [
       "\n",
       "Autocorrelations of series 'ClosingLR_train', by lag\n",
       "\n",
       "     0      1      2      3      4      5      6      7      8      9     10 \n",
       " 1.000 -0.054 -0.108  0.048  0.005 -0.029  0.008 -0.003  0.001 -0.003  0.015 \n",
       "    11     12     13     14     15     16     17     18     19     20     21 \n",
       " 0.008 -0.062 -0.032  0.090 -0.001  0.048  0.015 -0.040 -0.045 -0.094 -0.027 \n",
       "    22     23     24     25 \n",
       "-0.051 -0.003 -0.007  0.051 "
      ]
     },
     "metadata": {},
     "output_type": "display_data"
    },
    {
     "data": {
      "text/plain": [
       "\n",
       "Partial autocorrelations of series 'ClosingLR_train', by lag\n",
       "\n",
       "     1      2      3      4      5      6      7      8      9     10     11 \n",
       "-0.054 -0.111  0.036 -0.002 -0.020  0.004 -0.008  0.004 -0.005  0.016  0.009 \n",
       "    12     13     14     15     16     17     18     19     20     21     22 \n",
       "-0.059 -0.039  0.074  0.007  0.070  0.014 -0.028 -0.049 -0.113 -0.045 -0.076 \n",
       "    23     24     25 \n",
       "-0.009 -0.025  0.047 "
      ]
     },
     "metadata": {},
     "output_type": "display_data"
    },
    {
     "data": {
      "image/png": "[encoded data removed]",
      "text/plain": [
       "Plot with title \"Series  ClosingLR_train\""
      ]
     },
     "metadata": {
      "image/png": {
       "height": 420,
       "width": 420
      }
     },
     "output_type": "display_data"
    },
    {
     "data": {
      "image/png": "[encoded data removed]",
      "text/plain": [
       "Plot with title \"Series  ClosingLR_train\""
      ]
     },
     "metadata": {
      "image/png": {
       "height": 420,
       "width": 420
      }
     },
     "output_type": "display_data"
    }
   ],
   "source": [
    "#ARMA(-2,-2)\n",
    "acf(ClosingLR_train, plot = FALSE)\n",
    "pacf(ClosingLR_train, plot = FALSE)\n",
    "acf(ClosingLR_train)\n",
    "pacf(ClosingLR_train)"
   ]
  },
  {
   "cell_type": "markdown",
   "metadata": {},
   "source": [
    "# Fitting ARIMA models"
   ]
  },
  {
   "cell_type": "markdown",
   "metadata": {},
   "source": [
    "#### ClosingDiff1"
   ]
  },
  {
   "cell_type": "code",
   "execution_count": 31,
   "metadata": {
    "vscode": {
     "languageId": "r"
    }
   },
   "outputs": [
    {
     "data": {
      "text/plain": [
       "\n",
       "Call:\n",
       "arima(x = ClosingDiff1_train, order = c(2, 0, 2))\n",
       "\n",
       "Coefficients:\n",
       "          ar1      ar2     ma1     ma2  intercept\n",
       "      -0.3101  -0.4381  0.2531  0.3209   -13.7542\n",
       "s.e.   0.3702   0.5809  0.3946  0.6113    17.0124\n",
       "\n",
       "sigma^2 estimated as 135948:  log likelihood = -2792.35,  aic = 5596.7\n",
       "\n",
       "Training set error measures:\n",
       "                     ME     RMSE     MAE MPE MAPE      MASE         ACF1\n",
       "Training set 0.05101691 368.7118 262.162 NaN  Inf 0.6871875 -0.001832182"
      ]
     },
     "metadata": {},
     "output_type": "display_data"
    }
   ],
   "source": [
    "summary(arima(ClosingDiff1_train, order = c(2,0,2)))"
   ]
  },
  {
   "cell_type": "code",
   "execution_count": 32,
   "metadata": {
    "vscode": {
     "languageId": "r"
    }
   },
   "outputs": [
    {
     "data": {
      "text/plain": [
       "\n",
       "Call:\n",
       "arma(x = ClosingDiff1_train, order = c(2, 2))\n",
       "\n",
       "Model:\n",
       "ARMA(2,2)\n",
       "\n",
       "Residuals:\n",
       "     Min       1Q   Median       3Q      Max \n",
       "-1535.58  -157.01    46.11   202.64  1199.53 \n",
       "\n",
       "Coefficient(s):\n",
       "           Estimate  Std. Error  t value Pr(>|t|)    \n",
       "ar1         0.73181     0.09416    7.772 7.77e-15 ***\n",
       "ar2        -0.89597     0.17326   -5.171 2.32e-07 ***\n",
       "ma1        -0.77487     0.06947  -11.155  < 2e-16 ***\n",
       "ma2         0.89561     0.17064    5.249 1.53e-07 ***\n",
       "intercept -29.35964    21.14551   -1.388    0.165    \n",
       "---\n",
       "Signif. codes:  0 '***' 0.001 '**' 0.01 '*' 0.05 '.' 0.1 ' ' 1\n",
       "\n",
       "Fit:\n",
       "sigma^2 estimated as 135996,  Conditional Sum-of-Squares = 51453909,  AIC = 5594.8\n"
      ]
     },
     "metadata": {},
     "output_type": "display_data"
    }
   ],
   "source": [
    "summary(arma(ClosingDiff1_train, order = c(2,2)))"
   ]
  },
  {
   "cell_type": "code",
   "execution_count": 33,
   "metadata": {
    "vscode": {
     "languageId": "r"
    }
   },
   "outputs": [
    {
     "data": {
      "text/html": [
       "368.459349401404"
      ],
      "text/latex": [
       "368.459349401404"
      ],
      "text/markdown": [
       "368.459349401404"
      ],
      "text/plain": [
       "[1] 368.4593"
      ]
     },
     "metadata": {},
     "output_type": "display_data"
    }
   ],
   "source": [
    "rmse(ClosingDiff1_train[3:381], arma(ClosingDiff1_train, order = c(2,2))$fitted[3:381])"
   ]
  },
  {
   "cell_type": "code",
   "execution_count": 34,
   "metadata": {
    "vscode": {
     "languageId": "r"
    }
   },
   "outputs": [
    {
     "name": "stderr",
     "output_type": "stream",
     "text": [
      "Warning message in arima(ClosingDiff1_train, order = c(2, 0, 2), fixed = c(0, NA, :\n",
      "\"some AR parameters were fixed: setting transform.pars = FALSE\"\n"
     ]
    },
    {
     "data": {
      "text/plain": [
       "\n",
       "Call:\n",
       "arima(x = ClosingDiff1_train, order = c(2, 0, 2), fixed = c(0, NA, 0, NA, NA))\n",
       "\n",
       "Coefficients:\n",
       "      ar1      ar2  ma1     ma2  intercept\n",
       "        0  -0.2073    0  0.0993   -13.8506\n",
       "s.e.    0   0.4075    0  0.4139    17.2604\n",
       "\n",
       "sigma^2 estimated as 136790:  log likelihood = -2793.52,  aic = 5595.04\n",
       "\n",
       "Training set error measures:\n",
       "                    ME     RMSE      MAE MPE MAPE      MASE        ACF1\n",
       "Training set 0.1578246 369.8518 263.8667 NaN  Inf 0.6916558 -0.05877357"
      ]
     },
     "metadata": {},
     "output_type": "display_data"
    }
   ],
   "source": [
    "summary(arima(ClosingDiff1_train, order = c(2,0,2), fixed = c(0, NA, 0, NA, NA)))"
   ]
  },
  {
   "cell_type": "markdown",
   "metadata": {},
   "source": [
    "#### ClosingRelativeDiff"
   ]
  },
  {
   "cell_type": "code",
   "execution_count": 35,
   "metadata": {
    "vscode": {
     "languageId": "r"
    }
   },
   "outputs": [
    {
     "data": {
      "text/plain": [
       "\n",
       "Call:\n",
       "arma(x = ClosingRelativeDiff_train, order = c(2, 2))\n",
       "\n",
       "Model:\n",
       "ARMA(2,2)\n",
       "\n",
       "Residuals:\n",
       "      Min        1Q    Median        3Q       Max \n",
       "-0.080736 -0.011605  0.002051  0.013456  0.072773 \n",
       "\n",
       "Coefficient(s):\n",
       "            Estimate  Std. Error  t value Pr(>|t|)\n",
       "ar1       -0.0631238   0.4248428   -0.149    0.882\n",
       "ar2       -0.2165880   0.3475072   -0.623    0.533\n",
       "ma1       -0.0039506   0.4346674   -0.009    0.993\n",
       "ma2        0.1067392   0.3684542    0.290    0.772\n",
       "intercept -0.0007119   0.0015170   -0.469    0.639\n",
       "\n",
       "Fit:\n",
       "sigma^2 estimated as 0.0007099,  Conditional Sum-of-Squares = 0.27,  AIC = -1671.17\n"
      ]
     },
     "metadata": {},
     "output_type": "display_data"
    }
   ],
   "source": [
    "summary(arma(ClosingRelativeDiff_train, order = c(2,2)))"
   ]
  },
  {
   "cell_type": "code",
   "execution_count": 36,
   "metadata": {
    "vscode": {
     "languageId": "r"
    }
   },
   "outputs": [
    {
     "data": {
      "text/html": [
       "0.026608697993932"
      ],
      "text/latex": [
       "0.026608697993932"
      ],
      "text/markdown": [
       "0.026608697993932"
      ],
      "text/plain": [
       "[1] 0.0266087"
      ]
     },
     "metadata": {},
     "output_type": "display_data"
    }
   ],
   "source": [
    "rmse(ClosingRelativeDiff_train[3:381], arma(ClosingRelativeDiff_train, order = c(2,2))$fitted[3:381])"
   ]
  },
  {
   "cell_type": "code",
   "execution_count": 37,
   "metadata": {
    "vscode": {
     "languageId": "r"
    }
   },
   "outputs": [
    {
     "data": {
      "text/plain": [
       "\n",
       "Call:\n",
       "arima(x = ClosingRelativeDiff_train, order = c(2, 0, 2))\n",
       "\n",
       "Coefficients:\n",
       "          ar1      ar2     ma1     ma2  intercept\n",
       "      -0.3016  -0.2161  0.2413  0.0903    -0.0005\n",
       "s.e.   0.3938   0.4109  0.4020  0.4189     0.0012\n",
       "\n",
       "sigma^2 estimated as 0.000705:  log likelihood = 841.89,  aic = -1671.78\n",
       "\n",
       "Training set error measures:\n",
       "                       ME       RMSE        MAE MPE MAPE      MASE\n",
       "Training set 4.415847e-06 0.02655162 0.01920564 NaN  Inf 0.6828172\n",
       "                      ACF1\n",
       "Training set -0.0004134073"
      ]
     },
     "metadata": {},
     "output_type": "display_data"
    }
   ],
   "source": [
    "summary(arima(ClosingRelativeDiff_train, order = c(2,0,2)))"
   ]
  },
  {
   "cell_type": "code",
   "execution_count": 38,
   "metadata": {
    "vscode": {
     "languageId": "r"
    }
   },
   "outputs": [
    {
     "name": "stderr",
     "output_type": "stream",
     "text": [
      "Warning message in arima(ClosingRelativeDiff_train, order = c(2, 0, 2), fixed = c(0, :\n",
      "\"some AR parameters were fixed: setting transform.pars = FALSE\"\n"
     ]
    },
    {
     "data": {
      "text/plain": [
       "\n",
       "Call:\n",
       "arima(x = ClosingRelativeDiff_train, order = c(2, 0, 2), fixed = c(0, NA, 0, \n",
       "    NA, NA))\n",
       "\n",
       "Coefficients:\n",
       "      ar1      ar2  ma1      ma2  intercept\n",
       "        0  -0.0596    0  -0.0517    -0.0005\n",
       "s.e.    0   0.4342    0   0.4346     0.0012\n",
       "\n",
       "sigma^2 estimated as 0.0007086:  log likelihood = 840.91,  aic = -1673.83\n",
       "\n",
       "Training set error measures:\n",
       "                       ME       RMSE        MAE MPE MAPE      MASE        ACF1\n",
       "Training set 6.565962e-06 0.02661992 0.01933251 NaN  Inf 0.6873276 -0.06068333"
      ]
     },
     "metadata": {},
     "output_type": "display_data"
    }
   ],
   "source": [
    "summary(arima(ClosingRelativeDiff_train, order = c(2,0,2), fixed = c(0, NA, 0, NA, NA)))"
   ]
  },
  {
   "cell_type": "markdown",
   "metadata": {},
   "source": [
    "#### ClosingLR"
   ]
  },
  {
   "cell_type": "code",
   "execution_count": 39,
   "metadata": {
    "vscode": {
     "languageId": "r"
    }
   },
   "outputs": [
    {
     "data": {
      "text/plain": [
       "\n",
       "Call:\n",
       "arima(x = ClosingLR_train, order = c(2, 0, 2))\n",
       "\n",
       "Coefficients:\n",
       "          ar1      ar2     ma1     ma2  intercept\n",
       "      -0.3440  -0.2676  0.2883  0.1448    -0.0009\n",
       "s.e.   0.3956   0.4009  0.4064  0.4122     0.0012\n",
       "\n",
       "sigma^2 estimated as 0.0007142:  log likelihood = 839.43,  aic = -1666.86\n",
       "\n",
       "Training set error measures:\n",
       "                       ME       RMSE        MAE MPE MAPE      MASE\n",
       "Training set 2.680341e-06 0.02672373 0.01931957 NaN  Inf 0.6853214\n",
       "                      ACF1\n",
       "Training set -0.0004952707"
      ]
     },
     "metadata": {},
     "output_type": "display_data"
    }
   ],
   "source": [
    "summary(arima(ClosingLR_train, order = c(2,0,2)))"
   ]
  },
  {
   "cell_type": "code",
   "execution_count": 40,
   "metadata": {
    "vscode": {
     "languageId": "r"
    }
   },
   "outputs": [
    {
     "name": "stderr",
     "output_type": "stream",
     "text": [
      "Warning message in arima(ClosingLR_train, order = c(2, 0, 2), fixed = c(0, NA, 0, :\n",
      "\"some AR parameters were fixed: setting transform.pars = FALSE\"\n"
     ]
    },
    {
     "data": {
      "text/plain": [
       "\n",
       "Call:\n",
       "arima(x = ClosingLR_train, order = c(2, 0, 2), fixed = c(0, NA, 0, NA, NA))\n",
       "\n",
       "Coefficients:\n",
       "      ar1      ar2  ma1      ma2  intercept\n",
       "        0  -0.0624    0  -0.0458    -0.0009\n",
       "s.e.    0   0.4426    0   0.4430     0.0012\n",
       "\n",
       "sigma^2 estimated as 0.0007178:  log likelihood = 838.47,  aic = -1668.93\n",
       "\n",
       "Training set error measures:\n",
       "                       ME       RMSE        MAE MPE MAPE      MASE        ACF1\n",
       "Training set 7.910803e-06 0.02679162 0.01943478 NaN  Inf 0.6894081 -0.05619809"
      ]
     },
     "metadata": {},
     "output_type": "display_data"
    }
   ],
   "source": [
    "summary(arima(ClosingLR_train, order = c(2,0,2), fixed = c(0, NA, 0, NA, NA)))"
   ]
  },
  {
   "cell_type": "code",
   "execution_count": 41,
   "metadata": {
    "vscode": {
     "languageId": "r"
    }
   },
   "outputs": [
    {
     "data": {
      "text/plain": [
       "\n",
       "Call:\n",
       "arma(x = ClosingLR_train, order = c(2, 2))\n",
       "\n",
       "Model:\n",
       "ARMA(2,2)\n",
       "\n",
       "Residuals:\n",
       "      Min        1Q    Median        3Q       Max \n",
       "-0.083060 -0.011419  0.002451  0.013809  0.070795 \n",
       "\n",
       "Coefficient(s):\n",
       "           Estimate  Std. Error  t value Pr(>|t|)\n",
       "ar1       -0.101243    0.402165   -0.252    0.801\n",
       "ar2       -0.226601    0.354431   -0.639    0.523\n",
       "ma1        0.037893    0.411075    0.092    0.927\n",
       "ma2        0.115814    0.371897    0.311    0.755\n",
       "intercept -0.001224    0.001633   -0.749    0.454\n",
       "\n",
       "Fit:\n",
       "sigma^2 estimated as 0.0007193,  Conditional Sum-of-Squares = 0.27,  AIC = -1666.15\n"
      ]
     },
     "metadata": {},
     "output_type": "display_data"
    }
   ],
   "source": [
    "summary(arma(ClosingLR_train, order = c(2,2)))"
   ]
  },
  {
   "cell_type": "code",
   "execution_count": 42,
   "metadata": {
    "vscode": {
     "languageId": "r"
    }
   },
   "outputs": [
    {
     "data": {
      "text/html": [
       "0.0267844045441479"
      ],
      "text/latex": [
       "0.0267844045441479"
      ],
      "text/markdown": [
       "0.0267844045441479"
      ],
      "text/plain": [
       "[1] 0.0267844"
      ]
     },
     "metadata": {},
     "output_type": "display_data"
    }
   ],
   "source": [
    "rmse(ClosingLR_train[3:381], arma(ClosingLR_train, order = c(2,2))$fitted[3:381])"
   ]
  },
  {
   "cell_type": "markdown",
   "metadata": {},
   "source": [
    "## Forecasting"
   ]
  },
  {
   "cell_type": "markdown",
   "metadata": {},
   "source": [
    "##### Model 1: LS estimation ClosingDiff1 ARIMA(2,0,2)"
   ]
  },
  {
   "cell_type": "code",
   "execution_count": 51,
   "metadata": {
    "vscode": {
     "languageId": "r"
    }
   },
   "outputs": [
    {
     "data": {
      "text/html": [
       "<style>\n",
       ".list-inline {list-style: none; margin:0; padding: 0}\n",
       ".list-inline>li {display: inline-block}\n",
       ".list-inline>li:not(:last-child)::after {content: \"\\00b7\"; padding: 0 .5ex}\n",
       "</style>\n",
       "<ol class=list-inline><li>48.5671918453027</li><li>33.521845221301</li><li>156.635683112473</li><li>-2.47208034062664</li><li>63.3467327070873</li><li>149.270100270506</li></ol>\n"
      ],
      "text/latex": [
       "\\begin{enumerate*}\n",
       "\\item 48.5671918453027\n",
       "\\item 33.521845221301\n",
       "\\item 156.635683112473\n",
       "\\item -2.47208034062664\n",
       "\\item 63.3467327070873\n",
       "\\item 149.270100270506\n",
       "\\end{enumerate*}\n"
      ],
      "text/markdown": [
       "1. 48.5671918453027\n",
       "2. 33.521845221301\n",
       "3. 156.635683112473\n",
       "4. -2.47208034062664\n",
       "5. 63.3467327070873\n",
       "6. 149.270100270506\n",
       "\n",
       "\n"
      ],
      "text/plain": [
       "[1]  48.56719  33.52185 156.63568  -2.47208  63.34673 149.27010"
      ]
     },
     "metadata": {},
     "output_type": "display_data"
    }
   ],
   "source": [
    "tail(arma(ClosingDiff1_train, order = c(2,2))$resid)"
   ]
  },
  {
   "cell_type": "code",
   "execution_count": 52,
   "metadata": {
    "vscode": {
     "languageId": "r"
    }
   },
   "outputs": [
    {
     "data": {
      "text/html": [
       "<style>\n",
       ".list-inline {list-style: none; margin:0; padding: 0}\n",
       ".list-inline>li {display: inline-block}\n",
       ".list-inline>li:not(:last-child)::after {content: \"\\00b7\"; padding: 0 .5ex}\n",
       "</style>\n",
       "<ol class=list-inline><li>-200</li><li>0</li><li>-50</li><li>50</li><li>-50</li><li>300</li><li>-250</li><li>250</li><li>150</li><li>&lt;NA&gt;</li></ol>\n"
      ],
      "text/latex": [
       "\\begin{enumerate*}\n",
       "\\item -200\n",
       "\\item 0\n",
       "\\item -50\n",
       "\\item 50\n",
       "\\item -50\n",
       "\\item 300\n",
       "\\item -250\n",
       "\\item 250\n",
       "\\item 150\n",
       "\\item <NA>\n",
       "\\end{enumerate*}\n"
      ],
      "text/markdown": [
       "1. -200\n",
       "2. 0\n",
       "3. -50\n",
       "4. 50\n",
       "5. -50\n",
       "6. 300\n",
       "7. -250\n",
       "8. 250\n",
       "9. 150\n",
       "10. &lt;NA&gt;\n",
       "\n",
       "\n"
      ],
      "text/plain": [
       " [1] -200    0  -50   50  -50  300 -250  250  150   NA"
      ]
     },
     "metadata": {},
     "output_type": "display_data"
    }
   ],
   "source": [
    "ClosingDiff1_test"
   ]
  }
 ],
 "metadata": {
  "kernelspec": {
   "display_name": "R",
   "language": "R",
   "name": "ir"
  },
  "language_info": {
   "codemirror_mode": "r",
   "file_extension": ".r",
   "mimetype": "text/x-r-source",
   "name": "R",
   "pygments_lexer": "r",
   "version": "4.3.0"
  },
  "orig_nbformat": 4
 },
 "nbformat": 4,
 "nbformat_minor": 2
}
